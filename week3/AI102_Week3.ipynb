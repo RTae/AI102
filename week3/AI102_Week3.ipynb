{
  "nbformat": 4,
  "nbformat_minor": 0,
  "metadata": {
    "colab": {
      "name": "AI102_Week3.ipynb",
      "provenance": [],
      "collapsed_sections": [],
      "authorship_tag": "ABX9TyOmi3+x96j+z6Xb/w1A5rJj",
      "include_colab_link": true
    },
    "kernelspec": {
      "name": "python3",
      "display_name": "Python 3"
    }
  },
  "cells": [
    {
      "cell_type": "markdown",
      "metadata": {
        "id": "view-in-github",
        "colab_type": "text"
      },
      "source": [
        "<a href=\"https://colab.research.google.com/github/RTae/AI102/blob/master/week3/AI102_Week3.ipynb\" target=\"_parent\"><img src=\"https://colab.research.google.com/assets/colab-badge.svg\" alt=\"Open In Colab\"/></a>"
      ]
    },
    {
      "cell_type": "markdown",
      "metadata": {
        "id": "YMu54YUBJ-GM",
        "colab_type": "text"
      },
      "source": [
        "# Decision Tree (Classification)"
      ]
    },
    {
      "cell_type": "code",
      "metadata": {
        "id": "C81OGT1yJ1uv",
        "colab_type": "code",
        "colab": {}
      },
      "source": [
        "import numpy as np\n",
        "import pandas as pd\n",
        "import matplotlib.pyplot as plt\n",
        "from graphviz import Graph"
      ],
      "execution_count": 0,
      "outputs": []
    },
    {
      "cell_type": "code",
      "metadata": {
        "id": "6mHTYJg52sE4",
        "colab_type": "code",
        "colab": {}
      },
      "source": [
        "def DT_find_best_question(X, Y, Feature_Name, All_Class):\n",
        "    max_Gain = -np.inf\n",
        "    isComplete = False\n",
        "    Gini_Parent = DT_compute_Gini(Y, All_Class)\n",
        "    Question_Dict = DT_create_Question(X, Feature_Name)\n",
        "    for d, fn in enumerate(Feature_Name):\n",
        "        N = X.shape[0]\n",
        "        if fn in Question_Dict:\n",
        "            unique_value = Question_Dict[fn]['unique_value']\n",
        "            check_type = Question_Dict[fn]['type_of_feature']\n",
        "            for i, uv in enumerate(unique_value):                \n",
        "                filter_true, filter_false = DT_find_filter(X, check_type, d, uv)\n",
        "                X_True = X[filter_true]; Y_True = Y[filter_true];\n",
        "                X_False = X[filter_false]; Y_False = Y[filter_false];\n",
        "                weight_true, weight_false = DT_compute_weight_true_false(filter_true, filter_false, N)\n",
        "                Gini_True, Gini_False = DT_compute_Gini_True_False(Y_True, Y_False, All_Class)\n",
        "                Gini_Children = DT_compute_Gini_Children(weight_true, Gini_True, weight_false, Gini_False)\n",
        "                Gain = DT_compute_Gain(Gini_Parent, Gini_Children)\n",
        "                if Gain >= max_Gain:\n",
        "                    max_Gain = Gain\n",
        "                    best = {}\n",
        "                    best['fn'] = fn\n",
        "                    best['findex'] = d\n",
        "                    best['uv'] = uv\n",
        "                    best['X_True'] = X_True\n",
        "                    best['Y_True'] = Y_True\n",
        "                    best['X_False'] = X_False\n",
        "                    best['Y_False'] = Y_False\n",
        "                if max_Gain == Gini_Parent:\n",
        "                    isComplete = True\n",
        "                    return best, isComplete\n",
        "    return best, isComplete"
      ],
      "execution_count": 0,
      "outputs": []
    },
    {
      "cell_type": "code",
      "metadata": {
        "id": "cwes9rwN3dvH",
        "colab_type": "code",
        "colab": {}
      },
      "source": [
        "def DT_create_Question(X, Feature_Name):\n",
        "    Question_Dict = {}\n",
        "    for d, fn in enumerate(Feature_Name):\n",
        "        unique_value = np.unique(X[:, d])\n",
        "        check_type = type(unique_value[0])\n",
        "        if check_type == str:\n",
        "            if len(unique_value) >= 2:\n",
        "                if len(unique_value) == 2:\n",
        "                    unique_value = unique_value[:1]\n",
        "                q = {}\n",
        "                q['type_of_feature'] = 'discrete'\n",
        "                q['unique_value'] = unique_value\n",
        "                Question_Dict[fn] = q\n",
        "        if (check_type == int) or (check_type == float):\n",
        "            unique_value = unique_value[1:-1]\n",
        "            if len(unique_value) != 0:            \n",
        "                q = {}\n",
        "                q['type_of_feature'] = 'continuous'\n",
        "                q['unique_value'] = unique_value\n",
        "                Question_Dict[fn] = q\n",
        "    return Question_Dict"
      ],
      "execution_count": 0,
      "outputs": []
    },
    {
      "cell_type": "code",
      "metadata": {
        "id": "09vGUQf95eSt",
        "colab_type": "code",
        "colab": {}
      },
      "source": [
        "def DT_compute_Gini(Y, All_Class):\n",
        "    n_class = len(All_Class)\n",
        "    N = Y.shape[0]\n",
        "    if N == 0:\n",
        "        Gini = 0\n",
        "    elif N != 0 :\n",
        "        p = np.zeros([1, n_class])\n",
        "        for c, _class in enumerate(All_Class):\n",
        "            p[0, c] = (Y == _class).sum()/N\n",
        "        Gini = 1 - (p**2).sum()\n",
        "    return Gini"
      ],
      "execution_count": 0,
      "outputs": []
    },
    {
      "cell_type": "code",
      "metadata": {
        "id": "Nd2uPBCe5eQL",
        "colab_type": "code",
        "colab": {}
      },
      "source": [
        "def DT_find_filter(X, check_type, d, uv):\n",
        "    if check_type == 'discrete':\n",
        "        filter_true = np.argwhere(X[:, d] == uv).ravel()\n",
        "        filter_false = np.argwhere(X[:, d] != uv).ravel()\n",
        "    elif check_type == 'continuous':\n",
        "        filter_true = np.argwhere(X[:, d] >= uv).ravel()\n",
        "        filter_false = np.argwhere(X[:, d] < uv).ravel()\n",
        "    return filter_true, filter_false"
      ],
      "execution_count": 0,
      "outputs": []
    },
    {
      "cell_type": "code",
      "metadata": {
        "id": "kpjsJk-K5eOI",
        "colab_type": "code",
        "colab": {}
      },
      "source": [
        "def DT_compute_weight_true_false(filter_true, filter_false, N):\n",
        "    count_true = len(filter_true)\n",
        "    count_false = N - count_true\n",
        "    weight_true = count_true/N\n",
        "    weight_false = count_false/N\n",
        "    return weight_true, weight_false"
      ],
      "execution_count": 0,
      "outputs": []
    },
    {
      "cell_type": "code",
      "metadata": {
        "id": "LIg9NoVN5eLi",
        "colab_type": "code",
        "colab": {}
      },
      "source": [
        "def DT_compute_Gini_True_False(Y_True, Y_False, All_Class):\n",
        "    Gini_True = DT_compute_Gini(Y_True, All_Class)\n",
        "    Gini_False = DT_compute_Gini(Y_False, All_Class)\n",
        "    return Gini_True, Gini_False"
      ],
      "execution_count": 0,
      "outputs": []
    },
    {
      "cell_type": "code",
      "metadata": {
        "id": "EUacA4jW5kYK",
        "colab_type": "code",
        "colab": {}
      },
      "source": [
        "def DT_compute_Gini_Children(weight_true, Gini_True, weight_false, Gini_False):\n",
        "    Gini_Children = weight_true*Gini_True + weight_false*Gini_False\n",
        "    return Gini_Children"
      ],
      "execution_count": 0,
      "outputs": []
    },
    {
      "cell_type": "code",
      "metadata": {
        "id": "s3GdclNM5l08",
        "colab_type": "code",
        "colab": {}
      },
      "source": [
        "def DT_compute_Gain(Gini_Parent, Gini_Children):\n",
        "    Gain = Gini_Parent - Gini_Children\n",
        "    return Gain"
      ],
      "execution_count": 0,
      "outputs": []
    },
    {
      "cell_type": "code",
      "metadata": {
        "id": "n0axi4oS5m6q",
        "colab_type": "code",
        "colab": {}
      },
      "source": [
        "def DT_grow_tree(best, Y_True, Y_False, All_Class):\n",
        "    fn = best['fn']\n",
        "    findex = best['findex']\n",
        "    uv = best['uv']\n",
        "    if type(uv) == str:\n",
        "        type_of_feature = 'discrete'\n",
        "    elif (type(uv) == float) or (type(uv) == int):\n",
        "        type_of_feature = 'continuous'\n",
        "    \n",
        "    Question = {} \n",
        "    Question['fn'] = fn\n",
        "    Question['findex'] = findex; Question['uv'] = uv\n",
        "    Question['type_of_feature'] = type_of_feature\n",
        "\n",
        "    Leaf_Node_True, Vote_True, Max_Vote_True, Max_Class_True = DT_Leaf(Y_True, All_Class)\n",
        "    True_Branch = {}\n",
        "    True_Branch['Leaf_Node'] = Leaf_Node_True\n",
        "    True_Branch['Vote'] = Vote_True\n",
        "    True_Branch['Predict'] = Max_Class_True\n",
        "    True_Branch['Percent'] = Max_Vote_True\n",
        "\n",
        "    Leaf_Node_False, Vote_False, Max_Vote_False, Max_Class_False = DT_Leaf(Y_False, All_Class)\n",
        "    False_Branch = {} \n",
        "    False_Branch['Leaf_Node'] = Leaf_Node_False\n",
        "    False_Branch['Vote'] = Vote_False\n",
        "    False_Branch['Predict'] = Max_Class_False\n",
        "    False_Branch['Percent'] = Max_Vote_False\n",
        "    \n",
        "    Decision_Node = {}\n",
        "    Decision_Node['Question'] = Question\n",
        "    Decision_Node['True_Branch'] = True_Branch\n",
        "    Decision_Node['False_Branch'] = False_Branch\n",
        "    \n",
        "    return Decision_Node, Max_Vote_True, Max_Vote_False"
      ],
      "execution_count": 0,
      "outputs": []
    },
    {
      "cell_type": "code",
      "metadata": {
        "id": "_Y7wMGR55pCA",
        "colab_type": "code",
        "colab": {}
      },
      "source": [
        "def DT_Leaf(Y, All_Class):\n",
        "    N = Y.shape[0]\n",
        "    leaf_node = {}\n",
        "    vote = {}\n",
        "    max_vote = -np.inf\n",
        "    for c, _class in enumerate(All_Class):\n",
        "        length = (Y == _class).sum()\n",
        "        percent_vote = 100*length/N\n",
        "        if max_vote < percent_vote:\n",
        "            max_vote = percent_vote\n",
        "            max_class = _class\n",
        "        leaf_node[_class] = length\n",
        "        vote[_class] = percent_vote\n",
        "    return leaf_node, vote, max_vote, max_class"
      ],
      "execution_count": 0,
      "outputs": []
    },
    {
      "cell_type": "code",
      "metadata": {
        "id": "P4az3p3u5o-K",
        "colab_type": "code",
        "colab": {}
      },
      "source": [
        "def DT_fit(X_Train, Y_Train, Feature_Name, All_Class, max_depth=np.inf, depth=1, max_majority=np.inf, min_leaf=-np.inf):\n",
        "    best, isComplete = DT_find_best_question(X_Train, Y_Train, Feature_Name, All_Class)\n",
        "    Y_True = best['Y_True']\n",
        "    Y_False = best['Y_False']\n",
        "    Decision_Node, Max_Vote_True, Max_Vote_False = DT_grow_tree(best, Y_True, Y_False, All_Class)\n",
        "\n",
        "    if max_depth == depth:\n",
        "        return Decision_Node\n",
        "    if isComplete == True:\n",
        "        return Decision_Node\n",
        "    \n",
        "    if Max_Vote_True < max_majority:\n",
        "        if len(Y_True) > min_leaf:\n",
        "            X_True = best['X_True']\n",
        "            Decision_Node['True_Branch']['Decision_Node']  = DT_fit(X_True, Y_True, Feature_Name, All_Class, max_depth=max_depth, depth=depth+1, max_majority=max_majority, min_leaf=min_leaf)\n",
        "    if Max_Vote_False < max_majority:\n",
        "        if len(Y_False) > min_leaf:\n",
        "            X_False = best['X_False']\n",
        "            Decision_Node['False_Branch']['Decision_Node'] = DT_fit(X_False ,Y_False, Feature_Name, All_Class, max_depth=max_depth, depth=depth+1, max_majority=max_majority, min_leaf=min_leaf)\n",
        "    return Decision_Node"
      ],
      "execution_count": 0,
      "outputs": []
    },
    {
      "cell_type": "code",
      "metadata": {
        "id": "B8_mjMut5o5n",
        "colab_type": "code",
        "colab": {}
      },
      "source": [
        "def DT_recursive_predict(x_test, tree):\n",
        "    fn = tree['Question']['fn']\n",
        "    findex = tree['Question']['findex']\n",
        "    value = tree['Question']['uv']\n",
        "    type_of_feature = tree['Question']['type_of_feature']\n",
        "\n",
        "    if type_of_feature == 'discrete':\n",
        "        if x_test[findex] == value:\n",
        "            if 'Decision_Node' not in tree['True_Branch']:\n",
        "                predict = tree['True_Branch']['Predict']\n",
        "                percent = tree['True_Branch']['Percent']\n",
        "                yhat = np.array([predict, percent])\n",
        "                return yhat\n",
        "            elif 'Decision_Node' in tree['True_Branch']:\n",
        "                tree = tree['True_Branch']['Decision_Node']\n",
        "                yhat = DT_recursive_predict(x_test, tree)\n",
        "                return yhat\n",
        "        elif x_test[findex] != value:\n",
        "            if 'Decision_Node' not in tree['False_Branch']:\n",
        "                predict = tree['False_Branch']['Predict']\n",
        "                percent = tree['False_Branch']['Percent']\n",
        "                yhat = np.array([predict, percent])\n",
        "                return yhat\n",
        "            elif 'Decision_Node' in tree['False_Branch']:\n",
        "                tree = tree['False_Branch']['Decision_Node']\n",
        "                yhat = DT_recursive_predict(x_test, tree)\n",
        "                return yhat\n",
        "                \n",
        "    if type_of_feature == 'continuous':\n",
        "        if x_test[findex] >= value:\n",
        "            if 'Decision_Node' not in tree['True_Branch']:\n",
        "                predict = tree['True_Branch']['Predict']\n",
        "                percent = tree['True_Branch']['Percent']\n",
        "                yhat = np.array([predict, percent])\n",
        "                return yhat\n",
        "            elif 'Decision_Node' in tree['True_Branch']:\n",
        "                tree = tree['True_Branch']['Decision_Node']\n",
        "                yhat = DT_recursive_predict(x_test, tree)\n",
        "                return yhat\n",
        "        elif x_test[findex] < value:\n",
        "            if 'Decision_Node' not in tree['False_Branch']:\n",
        "                predict = tree['False_Branch']['Predict']\n",
        "                percent = tree['False_Branch']['Percent']\n",
        "                yhat = np.array([predict, percent])\n",
        "                return yhat\n",
        "            elif 'Decision_Node' in tree['False_Branch']:\n",
        "                tree = tree['False_Branch']['Decision_Node']\n",
        "                yhat = DT_recursive_predict(x_test, tree)\n",
        "                return yhat"
      ],
      "execution_count": 0,
      "outputs": []
    },
    {
      "cell_type": "code",
      "metadata": {
        "id": "7DT4p80_5svB",
        "colab_type": "code",
        "colab": {}
      },
      "source": [
        "def DT_predict(X_Test, tree):\n",
        "    Yhat = []\n",
        "    for x_test in X_Test:\n",
        "        yhat = DT_recursive_predict(x_test, tree)\n",
        "        Yhat.append(yhat)\n",
        "    return np.array(Yhat)"
      ],
      "execution_count": 0,
      "outputs": []
    },
    {
      "cell_type": "code",
      "metadata": {
        "id": "d9Qbu-hT5t4z",
        "colab_type": "code",
        "colab": {}
      },
      "source": [
        "def find_error_classification(Y, Yhat):\n",
        "    N = Y.shape[0]\n",
        "    error = (100/N)*(Y != Yhat).sum()\n",
        "    return error"
      ],
      "execution_count": 0,
      "outputs": []
    },
    {
      "cell_type": "code",
      "metadata": {
        "id": "Q2DawLGk5vsg",
        "colab_type": "code",
        "colab": {}
      },
      "source": [
        "def DT_print_tree(node, prev_id, spacing=\"\"):\n",
        "    global curr_id  \n",
        "    curr_id += 1\n",
        "    \n",
        "    if 'Question' not in node:\n",
        "        node_predictions = \"{} : {}\".format(node['Predict'], round(node['Percent'], 2))\n",
        "        g.node(str(prev_id), label=str(node_predictions))\n",
        "        return\n",
        "    \n",
        "    node_question = \"{} {} {}\".format(node['Question']['fn'], '=' if isinstance(node['Question']['uv'], str) else '>=', node['Question']['uv'] if isinstance(node['Question']['uv'], str) else round(node['Question']['uv'], 6))\n",
        "    g.node(str(prev_id), label=str(node_question))\n",
        "\n",
        "    true_node = node['True_Branch']['Decision_Node'] if 'Decision_Node' in node['True_Branch'] else node['True_Branch']\n",
        "    V.append((prev_id, curr_id))\n",
        "    DT_print_tree(true_node, curr_id, spacing + \"  \")\n",
        "    \n",
        "    false_node = node['False_Branch']['Decision_Node'] if 'Decision_Node' in node['False_Branch'] else node['False_Branch']\n",
        "    V.append((prev_id, curr_id))\n",
        "    DT_print_tree(false_node, curr_id, spacing + \"  \")"
      ],
      "execution_count": 0,
      "outputs": []
    },
    {
      "cell_type": "markdown",
      "metadata": {
        "id": "t6Jau1AC50P3",
        "colab_type": "text"
      },
      "source": [
        "- Example I : EURUSD J_Patel"
      ]
    },
    {
      "cell_type": "code",
      "metadata": {
        "id": "A1KVjI1b6FyF",
        "colab_type": "code",
        "colab": {
          "resources": {
            "http://localhost:8080/nbextensions/google.colab/files.js": {
              "data": "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",
              "ok": true,
              "headers": [
                [
                  "content-type",
                  "application/javascript"
                ]
              ],
              "status": 200,
              "status_text": ""
            }
          },
          "base_uri": "https://localhost:8080/",
          "height": 91
        },
        "outputId": "c95ddbb1-0163-4928-82ed-16f5382f49c7"
      },
      "source": [
        "# Prepare Data\n",
        "\n",
        "from google.colab import files\n",
        "\n",
        "uploaded = files.upload()\n",
        "\n",
        "for fn in uploaded.keys():\n",
        "  print('User uploaded file \"{name}\" with length {length} bytes'.format(\n",
        "      name=fn, length=len(uploaded[fn])))"
      ],
      "execution_count": 21,
      "outputs": [
        {
          "output_type": "display_data",
          "data": {
            "text/html": [
              "\n",
              "     <input type=\"file\" id=\"files-a4cfaade-14c4-4f73-ba66-fa9567861606\" name=\"files[]\" multiple disabled />\n",
              "     <output id=\"result-a4cfaade-14c4-4f73-ba66-fa9567861606\">\n",
              "      Upload widget is only available when the cell has been executed in the\n",
              "      current browser session. Please rerun this cell to enable.\n",
              "      </output>\n",
              "      <script src=\"/nbextensions/google.colab/files.js\"></script> "
            ],
            "text/plain": [
              "<IPython.core.display.HTML object>"
            ]
          },
          "metadata": {
            "tags": []
          }
        },
        {
          "output_type": "stream",
          "text": [
            "Saving EURUSD_J_Patel.xlsx to EURUSD_J_Patel.xlsx\n",
            "User uploaded file \"EURUSD_J_Patel.xlsx\" with length 87675 bytes\n"
          ],
          "name": "stdout"
        }
      ]
    },
    {
      "cell_type": "code",
      "metadata": {
        "id": "j0YjAi0L6Q_V",
        "colab_type": "code",
        "colab": {
          "base_uri": "https://localhost:8080/",
          "height": 419
        },
        "outputId": "168e02d3-2d50-4a5c-c193-d27633e3aaa6"
      },
      "source": [
        "Data = pd.read_excel('EURUSD_J_Patel.xlsx', usecols = 'B:L')\n",
        "Data"
      ],
      "execution_count": 23,
      "outputs": [
        {
          "output_type": "execute_result",
          "data": {
            "text/html": [
              "<div>\n",
              "<style scoped>\n",
              "    .dataframe tbody tr th:only-of-type {\n",
              "        vertical-align: middle;\n",
              "    }\n",
              "\n",
              "    .dataframe tbody tr th {\n",
              "        vertical-align: top;\n",
              "    }\n",
              "\n",
              "    .dataframe thead th {\n",
              "        text-align: right;\n",
              "    }\n",
              "</style>\n",
              "<table border=\"1\" class=\"dataframe\">\n",
              "  <thead>\n",
              "    <tr style=\"text-align: right;\">\n",
              "      <th></th>\n",
              "      <th>SMA</th>\n",
              "      <th>WMA</th>\n",
              "      <th>STOCH_SLOWK</th>\n",
              "      <th>STOCH_SLOWD</th>\n",
              "      <th>WILLR</th>\n",
              "      <th>MACD</th>\n",
              "      <th>RSI</th>\n",
              "      <th>CCI</th>\n",
              "      <th>AD</th>\n",
              "      <th>MOM</th>\n",
              "      <th>Trend</th>\n",
              "    </tr>\n",
              "  </thead>\n",
              "  <tbody>\n",
              "    <tr>\n",
              "      <th>0</th>\n",
              "      <td>Down</td>\n",
              "      <td>Down</td>\n",
              "      <td>Down</td>\n",
              "      <td>Down</td>\n",
              "      <td>Down</td>\n",
              "      <td>Down</td>\n",
              "      <td>Up</td>\n",
              "      <td>Down</td>\n",
              "      <td>Up</td>\n",
              "      <td>Up</td>\n",
              "      <td>Down</td>\n",
              "    </tr>\n",
              "    <tr>\n",
              "      <th>1</th>\n",
              "      <td>Down</td>\n",
              "      <td>Down</td>\n",
              "      <td>Down</td>\n",
              "      <td>Down</td>\n",
              "      <td>Down</td>\n",
              "      <td>Down</td>\n",
              "      <td>Down</td>\n",
              "      <td>Up</td>\n",
              "      <td>Down</td>\n",
              "      <td>Down</td>\n",
              "      <td>Down</td>\n",
              "    </tr>\n",
              "    <tr>\n",
              "      <th>2</th>\n",
              "      <td>Down</td>\n",
              "      <td>Down</td>\n",
              "      <td>Down</td>\n",
              "      <td>Down</td>\n",
              "      <td>Down</td>\n",
              "      <td>Down</td>\n",
              "      <td>Down</td>\n",
              "      <td>Up</td>\n",
              "      <td>Down</td>\n",
              "      <td>Down</td>\n",
              "      <td>Up</td>\n",
              "    </tr>\n",
              "    <tr>\n",
              "      <th>3</th>\n",
              "      <td>Down</td>\n",
              "      <td>Down</td>\n",
              "      <td>Down</td>\n",
              "      <td>Down</td>\n",
              "      <td>Up</td>\n",
              "      <td>Down</td>\n",
              "      <td>Up</td>\n",
              "      <td>Up</td>\n",
              "      <td>Up</td>\n",
              "      <td>Down</td>\n",
              "      <td>Up</td>\n",
              "    </tr>\n",
              "    <tr>\n",
              "      <th>4</th>\n",
              "      <td>Down</td>\n",
              "      <td>Down</td>\n",
              "      <td>Up</td>\n",
              "      <td>Down</td>\n",
              "      <td>Up</td>\n",
              "      <td>Down</td>\n",
              "      <td>Up</td>\n",
              "      <td>Up</td>\n",
              "      <td>Down</td>\n",
              "      <td>Down</td>\n",
              "      <td>Down</td>\n",
              "    </tr>\n",
              "    <tr>\n",
              "      <th>...</th>\n",
              "      <td>...</td>\n",
              "      <td>...</td>\n",
              "      <td>...</td>\n",
              "      <td>...</td>\n",
              "      <td>...</td>\n",
              "      <td>...</td>\n",
              "      <td>...</td>\n",
              "      <td>...</td>\n",
              "      <td>...</td>\n",
              "      <td>...</td>\n",
              "      <td>...</td>\n",
              "    </tr>\n",
              "    <tr>\n",
              "      <th>1668</th>\n",
              "      <td>Up</td>\n",
              "      <td>Up</td>\n",
              "      <td>Down</td>\n",
              "      <td>Up</td>\n",
              "      <td>Up</td>\n",
              "      <td>Up</td>\n",
              "      <td>Up</td>\n",
              "      <td>Down</td>\n",
              "      <td>Up</td>\n",
              "      <td>Up</td>\n",
              "      <td>Up</td>\n",
              "    </tr>\n",
              "    <tr>\n",
              "      <th>1669</th>\n",
              "      <td>Up</td>\n",
              "      <td>Up</td>\n",
              "      <td>Up</td>\n",
              "      <td>Up</td>\n",
              "      <td>Up</td>\n",
              "      <td>Up</td>\n",
              "      <td>Up</td>\n",
              "      <td>Up</td>\n",
              "      <td>Down</td>\n",
              "      <td>Up</td>\n",
              "      <td>Down</td>\n",
              "    </tr>\n",
              "    <tr>\n",
              "      <th>1670</th>\n",
              "      <td>Up</td>\n",
              "      <td>Up</td>\n",
              "      <td>Up</td>\n",
              "      <td>Up</td>\n",
              "      <td>Down</td>\n",
              "      <td>Up</td>\n",
              "      <td>Down</td>\n",
              "      <td>Down</td>\n",
              "      <td>Down</td>\n",
              "      <td>Up</td>\n",
              "      <td>Up</td>\n",
              "    </tr>\n",
              "    <tr>\n",
              "      <th>1671</th>\n",
              "      <td>Up</td>\n",
              "      <td>Up</td>\n",
              "      <td>Up</td>\n",
              "      <td>Up</td>\n",
              "      <td>Up</td>\n",
              "      <td>Up</td>\n",
              "      <td>Up</td>\n",
              "      <td>Down</td>\n",
              "      <td>Up</td>\n",
              "      <td>Up</td>\n",
              "      <td>Down</td>\n",
              "    </tr>\n",
              "    <tr>\n",
              "      <th>1672</th>\n",
              "      <td>Up</td>\n",
              "      <td>Up</td>\n",
              "      <td>Down</td>\n",
              "      <td>Down</td>\n",
              "      <td>Down</td>\n",
              "      <td>Up</td>\n",
              "      <td>Down</td>\n",
              "      <td>Down</td>\n",
              "      <td>Down</td>\n",
              "      <td>Up</td>\n",
              "      <td>Down</td>\n",
              "    </tr>\n",
              "  </tbody>\n",
              "</table>\n",
              "<p>1673 rows × 11 columns</p>\n",
              "</div>"
            ],
            "text/plain": [
              "       SMA   WMA STOCH_SLOWK STOCH_SLOWD WILLR  ...   RSI   CCI    AD   MOM Trend\n",
              "0     Down  Down        Down        Down  Down  ...    Up  Down    Up    Up  Down\n",
              "1     Down  Down        Down        Down  Down  ...  Down    Up  Down  Down  Down\n",
              "2     Down  Down        Down        Down  Down  ...  Down    Up  Down  Down    Up\n",
              "3     Down  Down        Down        Down    Up  ...    Up    Up    Up  Down    Up\n",
              "4     Down  Down          Up        Down    Up  ...    Up    Up  Down  Down  Down\n",
              "...    ...   ...         ...         ...   ...  ...   ...   ...   ...   ...   ...\n",
              "1668    Up    Up        Down          Up    Up  ...    Up  Down    Up    Up    Up\n",
              "1669    Up    Up          Up          Up    Up  ...    Up    Up  Down    Up  Down\n",
              "1670    Up    Up          Up          Up  Down  ...  Down  Down  Down    Up    Up\n",
              "1671    Up    Up          Up          Up    Up  ...    Up  Down    Up    Up  Down\n",
              "1672    Up    Up        Down        Down  Down  ...  Down  Down  Down    Up  Down\n",
              "\n",
              "[1673 rows x 11 columns]"
            ]
          },
          "metadata": {
            "tags": []
          },
          "execution_count": 23
        }
      ]
    },
    {
      "cell_type": "code",
      "metadata": {
        "id": "T2QYHiJX5x60",
        "colab_type": "code",
        "colab": {
          "base_uri": "https://localhost:8080/",
          "height": 34
        },
        "outputId": "3905bfe5-2590-48fd-8ffd-ea1a56923e7d"
      },
      "source": [
        "DataMatrix = Data.values\n",
        "DataMatrix = np.array(DataMatrix, dtype='object')\n",
        "DataMatrix.shape"
      ],
      "execution_count": 24,
      "outputs": [
        {
          "output_type": "execute_result",
          "data": {
            "text/plain": [
              "(1673, 11)"
            ]
          },
          "metadata": {
            "tags": []
          },
          "execution_count": 24
        }
      ]
    },
    {
      "cell_type": "code",
      "metadata": {
        "id": "1bD0_iRT6c6M",
        "colab_type": "code",
        "colab": {}
      },
      "source": [
        "D = DataMatrix.shape[1] - 1\n",
        "\n",
        "X = DataMatrix[:, :D]\n",
        "Y = DataMatrix[:, D:]\n",
        "\n",
        "start_train = -1000\n",
        "end_train = -150\n",
        "# end_test = -150\n",
        "\n",
        "X_Train = X[start_train:end_train, :]\n",
        "Y_Train = Y[start_train:end_train, :]\n",
        "\n",
        "X_Test = X[end_train:, :]\n",
        "Y_Test = Y[end_train:, :]\n",
        "\n",
        "# X_Test = X[end_train:end_test, :]\n",
        "# Y_Test = Y[end_train:end_test, :]"
      ],
      "execution_count": 0,
      "outputs": []
    },
    {
      "cell_type": "code",
      "metadata": {
        "id": "e3XPYbTf6jck",
        "colab_type": "code",
        "colab": {}
      },
      "source": [
        "# Learning \n",
        "\n",
        "Feature_Name = np.array(Data.columns[:-1])\n",
        "All_Class, Count_All_Class = np.unique(Y_Train[:, :], return_counts = True)\n",
        "\n",
        "tree = DT_fit(X_Train, Y_Train, Feature_Name, All_Class, max_depth = 5, max_majority = 65, min_leaf = 20)"
      ],
      "execution_count": 0,
      "outputs": []
    },
    {
      "cell_type": "code",
      "metadata": {
        "id": "mlvc1JuN6wB9",
        "colab_type": "code",
        "colab": {
          "base_uri": "https://localhost:8080/",
          "height": 34
        },
        "outputId": "b4797501-e8e8-4499-8a1c-adc61801c052"
      },
      "source": [
        "# Predict\n",
        "\n",
        "Yhat_Test = DT_predict(X_Test, tree)\n",
        "error_Test = find_error_classification(Y_Test, Yhat_Test[:, 0:1])\n",
        "error_Test"
      ],
      "execution_count": 29,
      "outputs": [
        {
          "output_type": "execute_result",
          "data": {
            "text/plain": [
              "41.33333333333333"
            ]
          },
          "metadata": {
            "tags": []
          },
          "execution_count": 29
        }
      ]
    },
    {
      "cell_type": "markdown",
      "metadata": {
        "id": "77phz3iN74WY",
        "colab_type": "text"
      },
      "source": [
        "Example II : EURUSD"
      ]
    },
    {
      "cell_type": "code",
      "metadata": {
        "id": "h1TmQY3e60T_",
        "colab_type": "code",
        "colab": {
          "resources": {
            "http://localhost:8080/nbextensions/google.colab/files.js": {
              "data": "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",
              "ok": true,
              "headers": [
                [
                  "content-type",
                  "application/javascript"
                ]
              ],
              "status": 200,
              "status_text": ""
            }
          },
          "base_uri": "https://localhost:8080/",
          "height": 91
        },
        "outputId": "53091441-50a0-4ba6-ece3-79a63f191802"
      },
      "source": [
        "# Prepare Data\n",
        "\n",
        "from google.colab import files\n",
        "\n",
        "uploaded = files.upload()\n",
        "\n",
        "for fn in uploaded.keys():\n",
        "  print('User uploaded file \"{name}\" with length {length} bytes'.format(\n",
        "      name=fn, length=len(uploaded[fn])))"
      ],
      "execution_count": 30,
      "outputs": [
        {
          "output_type": "display_data",
          "data": {
            "text/html": [
              "\n",
              "     <input type=\"file\" id=\"files-7f86f59c-463b-454f-b2b6-1e450f303eb3\" name=\"files[]\" multiple disabled />\n",
              "     <output id=\"result-7f86f59c-463b-454f-b2b6-1e450f303eb3\">\n",
              "      Upload widget is only available when the cell has been executed in the\n",
              "      current browser session. Please rerun this cell to enable.\n",
              "      </output>\n",
              "      <script src=\"/nbextensions/google.colab/files.js\"></script> "
            ],
            "text/plain": [
              "<IPython.core.display.HTML object>"
            ]
          },
          "metadata": {
            "tags": []
          }
        },
        {
          "output_type": "stream",
          "text": [
            "Saving EURUSD.xlsx to EURUSD.xlsx\n",
            "User uploaded file \"EURUSD.xlsx\" with length 1935235 bytes\n"
          ],
          "name": "stdout"
        }
      ]
    },
    {
      "cell_type": "code",
      "metadata": {
        "id": "8D_WipHh8E9n",
        "colab_type": "code",
        "colab": {
          "base_uri": "https://localhost:8080/",
          "height": 419
        },
        "outputId": "e34e9275-a341-4410-80f0-203e6db8e653"
      },
      "source": [
        "Data = pd.read_excel('EURUSD.xlsx', usecols = 'AN:AX', skiprows = range(1, 7))\n",
        "Data"
      ],
      "execution_count": 32,
      "outputs": [
        {
          "output_type": "execute_result",
          "data": {
            "text/html": [
              "<div>\n",
              "<style scoped>\n",
              "    .dataframe tbody tr th:only-of-type {\n",
              "        vertical-align: middle;\n",
              "    }\n",
              "\n",
              "    .dataframe tbody tr th {\n",
              "        vertical-align: top;\n",
              "    }\n",
              "\n",
              "    .dataframe thead th {\n",
              "        text-align: right;\n",
              "    }\n",
              "</style>\n",
              "<table border=\"1\" class=\"dataframe\">\n",
              "  <thead>\n",
              "    <tr style=\"text-align: right;\">\n",
              "      <th></th>\n",
              "      <th>Delta 5</th>\n",
              "      <th>DD 5</th>\n",
              "      <th>Delta 4</th>\n",
              "      <th>DD 4</th>\n",
              "      <th>Delta 3</th>\n",
              "      <th>DD 3</th>\n",
              "      <th>Delta 2</th>\n",
              "      <th>DD 2</th>\n",
              "      <th>Delta 1</th>\n",
              "      <th>DD 1</th>\n",
              "      <th>Trend</th>\n",
              "    </tr>\n",
              "  </thead>\n",
              "  <tbody>\n",
              "    <tr>\n",
              "      <th>0</th>\n",
              "      <td>0.01610</td>\n",
              "      <td>0.01120</td>\n",
              "      <td>-0.00650</td>\n",
              "      <td>-0.02260</td>\n",
              "      <td>0.01391</td>\n",
              "      <td>0.02041</td>\n",
              "      <td>-0.00055</td>\n",
              "      <td>-0.01446</td>\n",
              "      <td>0.00539</td>\n",
              "      <td>0.00594</td>\n",
              "      <td>-1</td>\n",
              "    </tr>\n",
              "    <tr>\n",
              "      <th>1</th>\n",
              "      <td>-0.00650</td>\n",
              "      <td>-0.02260</td>\n",
              "      <td>0.01391</td>\n",
              "      <td>0.02041</td>\n",
              "      <td>-0.00055</td>\n",
              "      <td>-0.01446</td>\n",
              "      <td>0.00539</td>\n",
              "      <td>0.00594</td>\n",
              "      <td>-0.00237</td>\n",
              "      <td>-0.00776</td>\n",
              "      <td>-1</td>\n",
              "    </tr>\n",
              "    <tr>\n",
              "      <th>2</th>\n",
              "      <td>0.01391</td>\n",
              "      <td>0.02041</td>\n",
              "      <td>-0.00055</td>\n",
              "      <td>-0.01446</td>\n",
              "      <td>0.00539</td>\n",
              "      <td>0.00594</td>\n",
              "      <td>-0.00237</td>\n",
              "      <td>-0.00776</td>\n",
              "      <td>-0.00180</td>\n",
              "      <td>0.00057</td>\n",
              "      <td>-1</td>\n",
              "    </tr>\n",
              "    <tr>\n",
              "      <th>3</th>\n",
              "      <td>-0.00055</td>\n",
              "      <td>-0.01446</td>\n",
              "      <td>0.00539</td>\n",
              "      <td>0.00594</td>\n",
              "      <td>-0.00237</td>\n",
              "      <td>-0.00776</td>\n",
              "      <td>-0.00180</td>\n",
              "      <td>0.00057</td>\n",
              "      <td>-0.01066</td>\n",
              "      <td>-0.00886</td>\n",
              "      <td>1</td>\n",
              "    </tr>\n",
              "    <tr>\n",
              "      <th>4</th>\n",
              "      <td>0.00539</td>\n",
              "      <td>0.00594</td>\n",
              "      <td>-0.00237</td>\n",
              "      <td>-0.00776</td>\n",
              "      <td>-0.00180</td>\n",
              "      <td>0.00057</td>\n",
              "      <td>-0.01066</td>\n",
              "      <td>-0.00886</td>\n",
              "      <td>0.01930</td>\n",
              "      <td>0.02996</td>\n",
              "      <td>1</td>\n",
              "    </tr>\n",
              "    <tr>\n",
              "      <th>...</th>\n",
              "      <td>...</td>\n",
              "      <td>...</td>\n",
              "      <td>...</td>\n",
              "      <td>...</td>\n",
              "      <td>...</td>\n",
              "      <td>...</td>\n",
              "      <td>...</td>\n",
              "      <td>...</td>\n",
              "      <td>...</td>\n",
              "      <td>...</td>\n",
              "      <td>...</td>\n",
              "    </tr>\n",
              "    <tr>\n",
              "      <th>4121</th>\n",
              "      <td>0.00228</td>\n",
              "      <td>0.00232</td>\n",
              "      <td>0.00318</td>\n",
              "      <td>0.00090</td>\n",
              "      <td>-0.00194</td>\n",
              "      <td>-0.00512</td>\n",
              "      <td>0.00013</td>\n",
              "      <td>0.00207</td>\n",
              "      <td>-0.00073</td>\n",
              "      <td>-0.00086</td>\n",
              "      <td>-1</td>\n",
              "    </tr>\n",
              "    <tr>\n",
              "      <th>4122</th>\n",
              "      <td>0.00318</td>\n",
              "      <td>0.00090</td>\n",
              "      <td>-0.00194</td>\n",
              "      <td>-0.00512</td>\n",
              "      <td>0.00013</td>\n",
              "      <td>0.00207</td>\n",
              "      <td>-0.00073</td>\n",
              "      <td>-0.00086</td>\n",
              "      <td>-0.00417</td>\n",
              "      <td>-0.00344</td>\n",
              "      <td>-1</td>\n",
              "    </tr>\n",
              "    <tr>\n",
              "      <th>4123</th>\n",
              "      <td>-0.00194</td>\n",
              "      <td>-0.00512</td>\n",
              "      <td>0.00013</td>\n",
              "      <td>0.00207</td>\n",
              "      <td>-0.00073</td>\n",
              "      <td>-0.00086</td>\n",
              "      <td>-0.00417</td>\n",
              "      <td>-0.00344</td>\n",
              "      <td>-0.00321</td>\n",
              "      <td>0.00096</td>\n",
              "      <td>-1</td>\n",
              "    </tr>\n",
              "    <tr>\n",
              "      <th>4124</th>\n",
              "      <td>0.00013</td>\n",
              "      <td>0.00207</td>\n",
              "      <td>-0.00073</td>\n",
              "      <td>-0.00086</td>\n",
              "      <td>-0.00417</td>\n",
              "      <td>-0.00344</td>\n",
              "      <td>-0.00321</td>\n",
              "      <td>0.00096</td>\n",
              "      <td>-0.00011</td>\n",
              "      <td>0.00310</td>\n",
              "      <td>-1</td>\n",
              "    </tr>\n",
              "    <tr>\n",
              "      <th>4125</th>\n",
              "      <td>-0.00073</td>\n",
              "      <td>-0.00086</td>\n",
              "      <td>-0.00417</td>\n",
              "      <td>-0.00344</td>\n",
              "      <td>-0.00321</td>\n",
              "      <td>0.00096</td>\n",
              "      <td>-0.00011</td>\n",
              "      <td>0.00310</td>\n",
              "      <td>-0.01130</td>\n",
              "      <td>-0.01119</td>\n",
              "      <td>1</td>\n",
              "    </tr>\n",
              "  </tbody>\n",
              "</table>\n",
              "<p>4126 rows × 11 columns</p>\n",
              "</div>"
            ],
            "text/plain": [
              "      Delta 5     DD 5  Delta 4     DD 4  ...     DD 2  Delta 1     DD 1  Trend\n",
              "0     0.01610  0.01120 -0.00650 -0.02260  ... -0.01446  0.00539  0.00594     -1\n",
              "1    -0.00650 -0.02260  0.01391  0.02041  ...  0.00594 -0.00237 -0.00776     -1\n",
              "2     0.01391  0.02041 -0.00055 -0.01446  ... -0.00776 -0.00180  0.00057     -1\n",
              "3    -0.00055 -0.01446  0.00539  0.00594  ...  0.00057 -0.01066 -0.00886      1\n",
              "4     0.00539  0.00594 -0.00237 -0.00776  ... -0.00886  0.01930  0.02996      1\n",
              "...       ...      ...      ...      ...  ...      ...      ...      ...    ...\n",
              "4121  0.00228  0.00232  0.00318  0.00090  ...  0.00207 -0.00073 -0.00086     -1\n",
              "4122  0.00318  0.00090 -0.00194 -0.00512  ... -0.00086 -0.00417 -0.00344     -1\n",
              "4123 -0.00194 -0.00512  0.00013  0.00207  ... -0.00344 -0.00321  0.00096     -1\n",
              "4124  0.00013  0.00207 -0.00073 -0.00086  ...  0.00096 -0.00011  0.00310     -1\n",
              "4125 -0.00073 -0.00086 -0.00417 -0.00344  ...  0.00310 -0.01130 -0.01119      1\n",
              "\n",
              "[4126 rows x 11 columns]"
            ]
          },
          "metadata": {
            "tags": []
          },
          "execution_count": 32
        }
      ]
    },
    {
      "cell_type": "code",
      "metadata": {
        "id": "UbuvhYRB8Np5",
        "colab_type": "code",
        "colab": {
          "base_uri": "https://localhost:8080/",
          "height": 34
        },
        "outputId": "49afbb43-b26c-4a3e-800b-5a244ba36704"
      },
      "source": [
        "DataMatrix = Data.values\n",
        "DataMatrix = np.array(DataMatrix, dtype='object')\n",
        "DataMatrix.shape"
      ],
      "execution_count": 33,
      "outputs": [
        {
          "output_type": "execute_result",
          "data": {
            "text/plain": [
              "(4126, 11)"
            ]
          },
          "metadata": {
            "tags": []
          },
          "execution_count": 33
        }
      ]
    },
    {
      "cell_type": "code",
      "metadata": {
        "id": "imOut0_p8UTr",
        "colab_type": "code",
        "colab": {}
      },
      "source": [
        "D = DataMatrix.shape[1] - 1\n",
        "\n",
        "X = DataMatrix[:, :D]\n",
        "Y = DataMatrix[:, D:]\n",
        "\n",
        "start_train = -900\n",
        "end_train = -150"
      ],
      "execution_count": 0,
      "outputs": []
    },
    {
      "cell_type": "code",
      "metadata": {
        "id": "PR7R3MpG8W-5",
        "colab_type": "code",
        "colab": {}
      },
      "source": [
        "X_Train = X[start_train:end_train, :]\n",
        "Y_Train = Y[start_train:end_train, :]\n",
        "\n",
        "X_Test = X[end_train:, :]\n",
        "Y_Test = Y[end_train:, :]"
      ],
      "execution_count": 0,
      "outputs": []
    },
    {
      "cell_type": "code",
      "metadata": {
        "id": "DVPH_7B28YVg",
        "colab_type": "code",
        "colab": {}
      },
      "source": [
        "# Learning\n",
        "\n",
        "Feature_Name = np.array(Data.columns[:-1])\n",
        "All_Class, Count_All_Class = np.unique(Y_Train[:, :], return_counts = True)\n",
        "\n",
        "tree = DT_fit(X_Train, Y_Train, Feature_Name, All_Class, max_depth = 5, max_majority = 65, min_leaf = 20)"
      ],
      "execution_count": 0,
      "outputs": []
    },
    {
      "cell_type": "code",
      "metadata": {
        "id": "Hf92oHdf8dyv",
        "colab_type": "code",
        "colab": {
          "base_uri": "https://localhost:8080/",
          "height": 34
        },
        "outputId": "4d50ceea-2104-4227-d1be-1f0b8be7741f"
      },
      "source": [
        "# Predict\n",
        "\n",
        "Yhat_Test = DT_predict(X_Test, tree)\n",
        "error_Test = find_error_classification(Y_Test, Yhat_Test[:, 0:1])\n",
        "error_Test"
      ],
      "execution_count": 38,
      "outputs": [
        {
          "output_type": "execute_result",
          "data": {
            "text/plain": [
              "46.0"
            ]
          },
          "metadata": {
            "tags": []
          },
          "execution_count": 38
        }
      ]
    },
    {
      "cell_type": "markdown",
      "metadata": {
        "id": "gM964end8pft",
        "colab_type": "text"
      },
      "source": [
        "- Example III : BMI"
      ]
    },
    {
      "cell_type": "code",
      "metadata": {
        "id": "5OmZiknH8hq3",
        "colab_type": "code",
        "colab": {
          "resources": {
            "http://localhost:8080/nbextensions/google.colab/files.js": {
              "data": "Ly8gQ29weXJpZ2h0IDIwMTcgR29vZ2xlIExMQwovLwovLyBMaWNlbnNlZCB1bmRlciB0aGUgQXBhY2hlIExpY2Vuc2UsIFZlcnNpb24gMi4wICh0aGUgIkxpY2Vuc2UiKTsKLy8geW91IG1heSBub3QgdXNlIHRoaXMgZmlsZSBleGNlcHQgaW4gY29tcGxpYW5jZSB3aXRoIHRoZSBMaWNlbnNlLgovLyBZb3UgbWF5IG9idGFpbiBhIGNvcHkgb2YgdGhlIExpY2Vuc2UgYXQKLy8KLy8gICAgICBodHRwOi8vd3d3LmFwYWNoZS5vcmcvbGljZW5zZXMvTElDRU5TRS0yLjAKLy8KLy8gVW5sZXNzIHJlcXVpcmVkIGJ5IGFwcGxpY2FibGUgbGF3IG9yIGFncmVlZCB0byBpbiB3cml0aW5nLCBzb2Z0d2FyZQovLyBkaXN0cmlidXRlZCB1bmRlciB0aGUgTGljZW5zZSBpcyBkaXN0cmlidXRlZCBvbiBhbiAiQVMgSVMiIEJBU0lTLAovLyBXSVRIT1VUIFdBUlJBTlRJRVMgT1IgQ09ORElUSU9OUyBPRiBBTlkgS0lORCwgZWl0aGVyIGV4cHJlc3Mgb3IgaW1wbGllZC4KLy8gU2VlIHRoZSBMaWNlbnNlIGZvciB0aGUgc3BlY2lmaWMgbGFuZ3VhZ2UgZ292ZXJuaW5nIHBlcm1pc3Npb25zIGFuZAovLyBsaW1pdGF0aW9ucyB1bmRlciB0aGUgTGljZW5zZS4KCi8qKgogKiBAZmlsZW92ZXJ2aWV3IEhlbHBlcnMgZm9yIGdvb2dsZS5jb2xhYiBQeXRob24gbW9kdWxlLgogKi8KKGZ1bmN0aW9uKHNjb3BlKSB7CmZ1bmN0aW9uIHNwYW4odGV4dCwgc3R5bGVBdHRyaWJ1dGVzID0ge30pIHsKICBjb25zdCBlbGVtZW50ID0gZG9jdW1lbnQuY3JlYXRlRWxlbWVudCgnc3BhbicpOwogIGVsZW1lbnQudGV4dENvbnRlbnQgPSB0ZXh0OwogIGZvciAoY29uc3Qga2V5IG9mIE9iamVjdC5rZXlzKHN0eWxlQXR0cmlidXRlcykpIHsKICAgIGVsZW1lbnQuc3R5bGVba2V5XSA9IHN0eWxlQXR0cmlidXRlc1trZXldOwogIH0KICByZXR1cm4gZWxlbWVudDsKfQoKLy8gTWF4IG51bWJlciBvZiBieXRlcyB3aGljaCB3aWxsIGJlIHVwbG9hZGVkIGF0IGEgdGltZS4KY29uc3QgTUFYX1BBWUxPQURfU0laRSA9IDEwMCAqIDEwMjQ7Ci8vIE1heCBhbW91bnQgb2YgdGltZSB0byBibG9jayB3YWl0aW5nIGZvciB0aGUgdXNlci4KY29uc3QgRklMRV9DSEFOR0VfVElNRU9VVF9NUyA9IDMwICogMTAwMDsKCmZ1bmN0aW9uIF91cGxvYWRGaWxlcyhpbnB1dElkLCBvdXRwdXRJZCkgewogIGNvbnN0IHN0ZXBzID0gdXBsb2FkRmlsZXNTdGVwKGlucHV0SWQsIG91dHB1dElkKTsKICBjb25zdCBvdXRwdXRFbGVtZW50ID0gZG9jdW1lbnQuZ2V0RWxlbWVudEJ5SWQob3V0cHV0SWQpOwogIC8vIENhY2hlIHN0ZXBzIG9uIHRoZSBvdXRwdXRFbGVtZW50IHRvIG1ha2UgaXQgYXZhaWxhYmxlIGZvciB0aGUgbmV4dCBjYWxsCiAgLy8gdG8gdXBsb2FkRmlsZXNDb250aW51ZSBmcm9tIFB5dGhvbi4KICBvdXRwdXRFbGVtZW50LnN0ZXBzID0gc3RlcHM7CgogIHJldHVybiBfdXBsb2FkRmlsZXNDb250aW51ZShvdXRwdXRJZCk7Cn0KCi8vIFRoaXMgaXMgcm91Z2hseSBhbiBhc3luYyBnZW5lcmF0b3IgKG5vdCBzdXBwb3J0ZWQgaW4gdGhlIGJyb3dzZXIgeWV0KSwKLy8gd2hlcmUgdGhlcmUgYXJlIG11bHRpcGxlIGFzeW5jaHJvbm91cyBzdGVwcyBhbmQgdGhlIFB5dGhvbiBzaWRlIGlzIGdvaW5nCi8vIHRvIHBvbGwgZm9yIGNvbXBsZXRpb24gb2YgZWFjaCBzdGVwLgovLyBUaGlzIHVzZXMgYSBQcm9taXNlIHRvIGJsb2NrIHRoZSBweXRob24gc2lkZSBvbiBjb21wbGV0aW9uIG9mIGVhY2ggc3RlcCwKLy8gdGhlbiBwYXNzZXMgdGhlIHJlc3VsdCBvZiB0aGUgcHJldmlvdXMgc3RlcCBhcyB0aGUgaW5wdXQgdG8gdGhlIG5leHQgc3RlcC4KZnVuY3Rpb24gX3VwbG9hZEZpbGVzQ29udGludWUob3V0cHV0SWQpIHsKICBjb25zdCBvdXRwdXRFbGVtZW50ID0gZG9jdW1lbnQuZ2V0RWxlbWVudEJ5SWQob3V0cHV0SWQpOwogIGNvbnN0IHN0ZXBzID0gb3V0cHV0RWxlbWVudC5zdGVwczsKCiAgY29uc3QgbmV4dCA9IHN0ZXBzLm5leHQob3V0cHV0RWxlbWVudC5sYXN0UHJvbWlzZVZhbHVlKTsKICByZXR1cm4gUHJvbWlzZS5yZXNvbHZlKG5leHQudmFsdWUucHJvbWlzZSkudGhlbigodmFsdWUpID0+IHsKICAgIC8vIENhY2hlIHRoZSBsYXN0IHByb21pc2UgdmFsdWUgdG8gbWFrZSBpdCBhdmFpbGFibGUgdG8gdGhlIG5leHQKICAgIC8vIHN0ZXAgb2YgdGhlIGdlbmVyYXRvci4KICAgIG91dHB1dEVsZW1lbnQubGFzdFByb21pc2VWYWx1ZSA9IHZhbHVlOwogICAgcmV0dXJuIG5leHQudmFsdWUucmVzcG9uc2U7CiAgfSk7Cn0KCi8qKgogKiBHZW5lcmF0b3IgZnVuY3Rpb24gd2hpY2ggaXMgY2FsbGVkIGJldHdlZW4gZWFjaCBhc3luYyBzdGVwIG9mIHRoZSB1cGxvYWQKICogcHJvY2Vzcy4KICogQHBhcmFtIHtzdHJpbmd9IGlucHV0SWQgRWxlbWVudCBJRCBvZiB0aGUgaW5wdXQgZmlsZSBwaWNrZXIgZWxlbWVudC4KICogQHBhcmFtIHtzdHJpbmd9IG91dHB1dElkIEVsZW1lbnQgSUQgb2YgdGhlIG91dHB1dCBkaXNwbGF5LgogKiBAcmV0dXJuIHshSXRlcmFibGU8IU9iamVjdD59IEl0ZXJhYmxlIG9mIG5leHQgc3RlcHMuCiAqLwpmdW5jdGlvbiogdXBsb2FkRmlsZXNTdGVwKGlucHV0SWQsIG91dHB1dElkKSB7CiAgY29uc3QgaW5wdXRFbGVtZW50ID0gZG9jdW1lbnQuZ2V0RWxlbWVudEJ5SWQoaW5wdXRJZCk7CiAgaW5wdXRFbGVtZW50LmRpc2FibGVkID0gZmFsc2U7CgogIGNvbnN0IG91dHB1dEVsZW1lbnQgPSBkb2N1bWVudC5nZXRFbGVtZW50QnlJZChvdXRwdXRJZCk7CiAgb3V0cHV0RWxlbWVudC5pbm5lckhUTUwgPSAnJzsKCiAgY29uc3QgcGlja2VkUHJvbWlzZSA9IG5ldyBQcm9taXNlKChyZXNvbHZlKSA9PiB7CiAgICBpbnB1dEVsZW1lbnQuYWRkRXZlbnRMaXN0ZW5lcignY2hhbmdlJywgKGUpID0+IHsKICAgICAgcmVzb2x2ZShlLnRhcmdldC5maWxlcyk7CiAgICB9KTsKICB9KTsKCiAgY29uc3QgY2FuY2VsID0gZG9jdW1lbnQuY3JlYXRlRWxlbWVudCgnYnV0dG9uJyk7CiAgaW5wdXRFbGVtZW50LnBhcmVudEVsZW1lbnQuYXBwZW5kQ2hpbGQoY2FuY2VsKTsKICBjYW5jZWwudGV4dENvbnRlbnQgPSAnQ2FuY2VsIHVwbG9hZCc7CiAgY29uc3QgY2FuY2VsUHJvbWlzZSA9IG5ldyBQcm9taXNlKChyZXNvbHZlKSA9PiB7CiAgICBjYW5jZWwub25jbGljayA9ICgpID0+IHsKICAgICAgcmVzb2x2ZShudWxsKTsKICAgIH07CiAgfSk7CgogIC8vIENhbmNlbCB1cGxvYWQgaWYgdXNlciBoYXNuJ3QgcGlja2VkIGFueXRoaW5nIGluIHRpbWVvdXQuCiAgY29uc3QgdGltZW91dFByb21pc2UgPSBuZXcgUHJvbWlzZSgocmVzb2x2ZSkgPT4gewogICAgc2V0VGltZW91dCgoKSA9PiB7CiAgICAgIHJlc29sdmUobnVsbCk7CiAgICB9LCBGSUxFX0NIQU5HRV9USU1FT1VUX01TKTsKICB9KTsKCiAgLy8gV2FpdCBmb3IgdGhlIHVzZXIgdG8gcGljayB0aGUgZmlsZXMuCiAgY29uc3QgZmlsZXMgPSB5aWVsZCB7CiAgICBwcm9taXNlOiBQcm9taXNlLnJhY2UoW3BpY2tlZFByb21pc2UsIHRpbWVvdXRQcm9taXNlLCBjYW5jZWxQcm9taXNlXSksCiAgICByZXNwb25zZTogewogICAgICBhY3Rpb246ICdzdGFydGluZycsCiAgICB9CiAgfTsKCiAgaWYgKCFmaWxlcykgewogICAgcmV0dXJuIHsKICAgICAgcmVzcG9uc2U6IHsKICAgICAgICBhY3Rpb246ICdjb21wbGV0ZScsCiAgICAgIH0KICAgIH07CiAgfQoKICBjYW5jZWwucmVtb3ZlKCk7CgogIC8vIERpc2FibGUgdGhlIGlucHV0IGVsZW1lbnQgc2luY2UgZnVydGhlciBwaWNrcyBhcmUgbm90IGFsbG93ZWQuCiAgaW5wdXRFbGVtZW50LmRpc2FibGVkID0gdHJ1ZTsKCiAgZm9yIChjb25zdCBmaWxlIG9mIGZpbGVzKSB7CiAgICBjb25zdCBsaSA9IGRvY3VtZW50LmNyZWF0ZUVsZW1lbnQoJ2xpJyk7CiAgICBsaS5hcHBlbmQoc3BhbihmaWxlLm5hbWUsIHtmb250V2VpZ2h0OiAnYm9sZCd9KSk7CiAgICBsaS5hcHBlbmQoc3BhbigKICAgICAgICBgKCR7ZmlsZS50eXBlIHx8ICduL2EnfSkgLSAke2ZpbGUuc2l6ZX0gYnl0ZXMsIGAgKwogICAgICAgIGBsYXN0IG1vZGlmaWVkOiAkewogICAgICAgICAgICBmaWxlLmxhc3RNb2RpZmllZERhdGUgPyBmaWxlLmxhc3RNb2RpZmllZERhdGUudG9Mb2NhbGVEYXRlU3RyaW5nKCkgOgogICAgICAgICAgICAgICAgICAgICAgICAgICAgICAgICAgICAnbi9hJ30gLSBgKSk7CiAgICBjb25zdCBwZXJjZW50ID0gc3BhbignMCUgZG9uZScpOwogICAgbGkuYXBwZW5kQ2hpbGQocGVyY2VudCk7CgogICAgb3V0cHV0RWxlbWVudC5hcHBlbmRDaGlsZChsaSk7CgogICAgY29uc3QgZmlsZURhdGFQcm9taXNlID0gbmV3IFByb21pc2UoKHJlc29sdmUpID0+IHsKICAgICAgY29uc3QgcmVhZGVyID0gbmV3IEZpbGVSZWFkZXIoKTsKICAgICAgcmVhZGVyLm9ubG9hZCA9IChlKSA9PiB7CiAgICAgICAgcmVzb2x2ZShlLnRhcmdldC5yZXN1bHQpOwogICAgICB9OwogICAgICByZWFkZXIucmVhZEFzQXJyYXlCdWZmZXIoZmlsZSk7CiAgICB9KTsKICAgIC8vIFdhaXQgZm9yIHRoZSBkYXRhIHRvIGJlIHJlYWR5LgogICAgbGV0IGZpbGVEYXRhID0geWllbGQgewogICAgICBwcm9taXNlOiBmaWxlRGF0YVByb21pc2UsCiAgICAgIHJlc3BvbnNlOiB7CiAgICAgICAgYWN0aW9uOiAnY29udGludWUnLAogICAgICB9CiAgICB9OwoKICAgIC8vIFVzZSBhIGNodW5rZWQgc2VuZGluZyB0byBhdm9pZCBtZXNzYWdlIHNpemUgbGltaXRzLiBTZWUgYi82MjExNTY2MC4KICAgIGxldCBwb3NpdGlvbiA9IDA7CiAgICB3aGlsZSAocG9zaXRpb24gPCBmaWxlRGF0YS5ieXRlTGVuZ3RoKSB7CiAgICAgIGNvbnN0IGxlbmd0aCA9IE1hdGgubWluKGZpbGVEYXRhLmJ5dGVMZW5ndGggLSBwb3NpdGlvbiwgTUFYX1BBWUxPQURfU0laRSk7CiAgICAgIGNvbnN0IGNodW5rID0gbmV3IFVpbnQ4QXJyYXkoZmlsZURhdGEsIHBvc2l0aW9uLCBsZW5ndGgpOwogICAgICBwb3NpdGlvbiArPSBsZW5ndGg7CgogICAgICBjb25zdCBiYXNlNjQgPSBidG9hKFN0cmluZy5mcm9tQ2hhckNvZGUuYXBwbHkobnVsbCwgY2h1bmspKTsKICAgICAgeWllbGQgewogICAgICAgIHJlc3BvbnNlOiB7CiAgICAgICAgICBhY3Rpb246ICdhcHBlbmQnLAogICAgICAgICAgZmlsZTogZmlsZS5uYW1lLAogICAgICAgICAgZGF0YTogYmFzZTY0LAogICAgICAgIH0sCiAgICAgIH07CiAgICAgIHBlcmNlbnQudGV4dENvbnRlbnQgPQogICAgICAgICAgYCR7TWF0aC5yb3VuZCgocG9zaXRpb24gLyBmaWxlRGF0YS5ieXRlTGVuZ3RoKSAqIDEwMCl9JSBkb25lYDsKICAgIH0KICB9CgogIC8vIEFsbCBkb25lLgogIHlpZWxkIHsKICAgIHJlc3BvbnNlOiB7CiAgICAgIGFjdGlvbjogJ2NvbXBsZXRlJywKICAgIH0KICB9Owp9CgpzY29wZS5nb29nbGUgPSBzY29wZS5nb29nbGUgfHwge307CnNjb3BlLmdvb2dsZS5jb2xhYiA9IHNjb3BlLmdvb2dsZS5jb2xhYiB8fCB7fTsKc2NvcGUuZ29vZ2xlLmNvbGFiLl9maWxlcyA9IHsKICBfdXBsb2FkRmlsZXMsCiAgX3VwbG9hZEZpbGVzQ29udGludWUsCn07Cn0pKHNlbGYpOwo=",
              "ok": true,
              "headers": [
                [
                  "content-type",
                  "application/javascript"
                ]
              ],
              "status": 200,
              "status_text": ""
            }
          },
          "base_uri": "https://localhost:8080/",
          "height": 91
        },
        "outputId": "216db9cb-65ff-402a-a31f-b4c3f09bf525"
      },
      "source": [
        "# Prepare Data\n",
        "\n",
        "from google.colab import files\n",
        "\n",
        "uploaded = files.upload()\n",
        "\n",
        "for fn in uploaded.keys():\n",
        "  print('User uploaded file \"{name}\" with length {length} bytes'.format(\n",
        "      name=fn, length=len(uploaded[fn])))"
      ],
      "execution_count": 39,
      "outputs": [
        {
          "output_type": "display_data",
          "data": {
            "text/html": [
              "\n",
              "     <input type=\"file\" id=\"files-55be6e88-3c3b-479e-8219-f82c57a26939\" name=\"files[]\" multiple disabled />\n",
              "     <output id=\"result-55be6e88-3c3b-479e-8219-f82c57a26939\">\n",
              "      Upload widget is only available when the cell has been executed in the\n",
              "      current browser session. Please rerun this cell to enable.\n",
              "      </output>\n",
              "      <script src=\"/nbextensions/google.colab/files.js\"></script> "
            ],
            "text/plain": [
              "<IPython.core.display.HTML object>"
            ]
          },
          "metadata": {
            "tags": []
          }
        },
        {
          "output_type": "stream",
          "text": [
            "Saving BMI_Dataset_Classification.xlsx to BMI_Dataset_Classification.xlsx\n",
            "User uploaded file \"BMI_Dataset_Classification.xlsx\" with length 24373 bytes\n"
          ],
          "name": "stdout"
        }
      ]
    },
    {
      "cell_type": "code",
      "metadata": {
        "id": "wgSI3mOh8s7Y",
        "colab_type": "code",
        "colab": {
          "base_uri": "https://localhost:8080/",
          "height": 419
        },
        "outputId": "e1605512-291b-4dd3-f91c-a17a4d1c4786"
      },
      "source": [
        "Data = pd.read_excel('BMI_Dataset_Classification.xlsx', usecols = 'A:C')\n",
        "Data"
      ],
      "execution_count": 40,
      "outputs": [
        {
          "output_type": "execute_result",
          "data": {
            "text/html": [
              "<div>\n",
              "<style scoped>\n",
              "    .dataframe tbody tr th:only-of-type {\n",
              "        vertical-align: middle;\n",
              "    }\n",
              "\n",
              "    .dataframe tbody tr th {\n",
              "        vertical-align: top;\n",
              "    }\n",
              "\n",
              "    .dataframe thead th {\n",
              "        text-align: right;\n",
              "    }\n",
              "</style>\n",
              "<table border=\"1\" class=\"dataframe\">\n",
              "  <thead>\n",
              "    <tr style=\"text-align: right;\">\n",
              "      <th></th>\n",
              "      <th>Weight</th>\n",
              "      <th>Height</th>\n",
              "      <th>Target</th>\n",
              "    </tr>\n",
              "  </thead>\n",
              "  <tbody>\n",
              "    <tr>\n",
              "      <th>0</th>\n",
              "      <td>66.17</td>\n",
              "      <td>185.21</td>\n",
              "      <td>normal</td>\n",
              "    </tr>\n",
              "    <tr>\n",
              "      <th>1</th>\n",
              "      <td>71.27</td>\n",
              "      <td>168.91</td>\n",
              "      <td>fat lv3</td>\n",
              "    </tr>\n",
              "    <tr>\n",
              "      <th>2</th>\n",
              "      <td>73.17</td>\n",
              "      <td>179.83</td>\n",
              "      <td>normal</td>\n",
              "    </tr>\n",
              "    <tr>\n",
              "      <th>3</th>\n",
              "      <td>81.74</td>\n",
              "      <td>171.76</td>\n",
              "      <td>fat lv2</td>\n",
              "    </tr>\n",
              "    <tr>\n",
              "      <th>4</th>\n",
              "      <td>92.97</td>\n",
              "      <td>172.89</td>\n",
              "      <td>fat lv3</td>\n",
              "    </tr>\n",
              "    <tr>\n",
              "      <th>...</th>\n",
              "      <td>...</td>\n",
              "      <td>...</td>\n",
              "      <td>...</td>\n",
              "    </tr>\n",
              "    <tr>\n",
              "      <th>995</th>\n",
              "      <td>63.24</td>\n",
              "      <td>141.45</td>\n",
              "      <td>fat lv3</td>\n",
              "    </tr>\n",
              "    <tr>\n",
              "      <th>996</th>\n",
              "      <td>47.55</td>\n",
              "      <td>166.64</td>\n",
              "      <td>thin</td>\n",
              "    </tr>\n",
              "    <tr>\n",
              "      <th>997</th>\n",
              "      <td>68.10</td>\n",
              "      <td>168.52</td>\n",
              "      <td>fat lv1</td>\n",
              "    </tr>\n",
              "    <tr>\n",
              "      <th>998</th>\n",
              "      <td>74.39</td>\n",
              "      <td>169.24</td>\n",
              "      <td>fat lv2</td>\n",
              "    </tr>\n",
              "    <tr>\n",
              "      <th>999</th>\n",
              "      <td>65.95</td>\n",
              "      <td>174.37</td>\n",
              "      <td>normal</td>\n",
              "    </tr>\n",
              "  </tbody>\n",
              "</table>\n",
              "<p>1000 rows × 3 columns</p>\n",
              "</div>"
            ],
            "text/plain": [
              "     Weight  Height   Target\n",
              "0     66.17  185.21   normal\n",
              "1     71.27  168.91  fat lv3\n",
              "2     73.17  179.83   normal\n",
              "3     81.74  171.76  fat lv2\n",
              "4     92.97  172.89  fat lv3\n",
              "..      ...     ...      ...\n",
              "995   63.24  141.45  fat lv3\n",
              "996   47.55  166.64     thin\n",
              "997   68.10  168.52  fat lv1\n",
              "998   74.39  169.24  fat lv2\n",
              "999   65.95  174.37   normal\n",
              "\n",
              "[1000 rows x 3 columns]"
            ]
          },
          "metadata": {
            "tags": []
          },
          "execution_count": 40
        }
      ]
    },
    {
      "cell_type": "code",
      "metadata": {
        "id": "l9p5QLt48xFA",
        "colab_type": "code",
        "colab": {
          "base_uri": "https://localhost:8080/",
          "height": 34
        },
        "outputId": "2f2a5a08-4d8b-4ba7-cbed-6bca7c080407"
      },
      "source": [
        "DataMatrix = Data.values\n",
        "DataMatrix = np.array(DataMatrix, dtype='object')\n",
        "DataMatrix.shape"
      ],
      "execution_count": 41,
      "outputs": [
        {
          "output_type": "execute_result",
          "data": {
            "text/plain": [
              "(1000, 3)"
            ]
          },
          "metadata": {
            "tags": []
          },
          "execution_count": 41
        }
      ]
    },
    {
      "cell_type": "code",
      "metadata": {
        "id": "sb8LF5E-80tr",
        "colab_type": "code",
        "colab": {}
      },
      "source": [
        "D = DataMatrix.shape[1] - 1\n",
        "\n",
        "X = DataMatrix[:, :D]\n",
        "Y = DataMatrix[:, D:]\n",
        "\n",
        "start_train = -900\n",
        "end_train = -150"
      ],
      "execution_count": 0,
      "outputs": []
    },
    {
      "cell_type": "code",
      "metadata": {
        "id": "cpBC8dIu84a5",
        "colab_type": "code",
        "colab": {}
      },
      "source": [
        "X_Train = X[start_train:end_train, :]\n",
        "Y_Train = Y[start_train:end_train, :]\n",
        "\n",
        "X_Test = X[end_train:, :]\n",
        "Y_Test = Y[end_train:, :]"
      ],
      "execution_count": 0,
      "outputs": []
    },
    {
      "cell_type": "code",
      "metadata": {
        "id": "zZkO3TzG85Yr",
        "colab_type": "code",
        "colab": {}
      },
      "source": [
        "# Learning \n",
        "\n",
        "Feature_Name = np.array(Data.columns[:-1])\n",
        "All_Class, Count_All_Class = np.unique(Y_Train[:, :], return_counts = True)\n",
        "\n",
        "tree = DT_fit(X_Train, Y_Train, Feature_Name, All_Class, max_depth = 5, min_leaf = 10)\n",
        "# tree = DT_fit(X_Train, Y_Train, Feature_Name, All_Class, max_depth = 5, max_majority = 65, min_leaf = 20)"
      ],
      "execution_count": 0,
      "outputs": []
    },
    {
      "cell_type": "code",
      "metadata": {
        "id": "FoTf75t89FrZ",
        "colab_type": "code",
        "colab": {
          "base_uri": "https://localhost:8080/",
          "height": 34
        },
        "outputId": "122d026e-ecb4-435d-adf3-fb5369d14ac1"
      },
      "source": [
        "# Predict\n",
        "\n",
        "Yhat_Test = DT_predict(X_Test, tree)\n",
        "error_Test = find_error_classification(Y_Test, Yhat_Test[:, 0:1])\n",
        "error_Test"
      ],
      "execution_count": 48,
      "outputs": [
        {
          "output_type": "execute_result",
          "data": {
            "text/plain": [
              "24.666666666666664"
            ]
          },
          "metadata": {
            "tags": []
          },
          "execution_count": 48
        }
      ]
    }
  ]
}
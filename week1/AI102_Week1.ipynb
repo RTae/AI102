{
  "nbformat": 4,
  "nbformat_minor": 0,
  "metadata": {
    "colab": {
      "name": "AI102_Week1.ipynb",
      "provenance": [],
      "collapsed_sections": [
        "kSyD7VkWaJV4"
      ],
      "toc_visible": true,
      "mount_file_id": "1gCV2tS12lAlkXJCxUkZIS10nfQJa6mor",
      "authorship_tag": "ABX9TyP/k/SJqKcpXgi2mudLqFJS",
      "include_colab_link": true
    },
    "kernelspec": {
      "name": "python3",
      "display_name": "Python 3"
    }
  },
  "cells": [
    {
      "cell_type": "markdown",
      "metadata": {
        "id": "view-in-github",
        "colab_type": "text"
      },
      "source": [
        "<a href=\"https://colab.research.google.com/github/RTae/AI102/blob/master/week1/AI102_Week1.ipynb\" target=\"_parent\"><img src=\"https://colab.research.google.com/assets/colab-badge.svg\" alt=\"Open In Colab\"/></a>"
      ]
    },
    {
      "cell_type": "markdown",
      "metadata": {
        "id": "DsDZvV2JZq-a",
        "colab_type": "text"
      },
      "source": [
        "# **K-Neartest Neighbor : Classification**"
      ]
    },
    {
      "cell_type": "markdown",
      "metadata": {
        "id": "EUXRY_pkaBFt",
        "colab_type": "text"
      },
      "source": [
        "**From Scratch**"
      ]
    },
    {
      "cell_type": "code",
      "metadata": {
        "id": "ja7n9hJLVskR",
        "colab_type": "code",
        "colab": {}
      },
      "source": [
        "#import library\n",
        "\n",
        "import numpy as np\n",
        "import pandas as pd\n",
        "import matplotlib.pyplot as plt\n",
        "from google.colab import files \n",
        "import io\n",
        "%matplotlib inline"
      ],
      "execution_count": 0,
      "outputs": []
    },
    {
      "cell_type": "code",
      "metadata": {
        "id": "Otww3cRidBJV",
        "colab_type": "code",
        "colab": {}
      },
      "source": [
        "# Prepare Data\n",
        "\n",
        "X_Train = np.array([[60,1.5],[70,1.8],[80,2.0],[90,1.9],[100,1.7],[50,1.6]])\n",
        "Y_Train = np.array(['thin','thin','thin','fat','fat','thin'])\n",
        "X_Vaild = np.array([[50, 1.6],[90, 1.8],[70, 1.7]])\n",
        "Y_Vaild = np.array(['thin','fat','thin'])"
      ],
      "execution_count": 0,
      "outputs": []
    },
    {
      "cell_type": "code",
      "metadata": {
        "id": "KV7dVR2hWq-Z",
        "colab_type": "code",
        "colab": {}
      },
      "source": [
        "# write Fuction\n",
        "\n",
        "def minmax4norm(Data):\n",
        "  _min = Data.min(axis = 0,keepdims = True)\n",
        "  _max = Data.max(axis = 0,keepdims = True)\n",
        "\n",
        "  return _min,_max\n",
        "\n",
        "def minmaxNorm(Data,_min,_max):\n",
        "  x_norm = (Data - _min)/(_max - _min)\n",
        "\n",
        "  return x_norm\n",
        "\n",
        "def KNN_Dis(X_Train,X_Vaild):\n",
        "  all_dis = []\n",
        "\n",
        "  for X_V in X_Vaild:\n",
        "    dis = ((X_Train - X_V)**2).sum(axis = 1)\n",
        "    dis = np.sqrt(dis)\n",
        "    all_dis.append(dis)\n",
        "  return (np.array(all_dis)).T\n",
        "\n",
        "def KNN_Sort(Y_Train,all_dis):\n",
        "  all_sorted_traget = []\n",
        "  for dis in all_dis.T:\n",
        "    sorted_target = Y_Train[dis.argsort()]\n",
        "    all_sorted_traget.append(sorted_target)\n",
        "  return np.array(all_sorted_traget).T\n",
        "\n",
        "def KNN_FindClass(all_sorted_traget,K):\n",
        "  all_class = []\n",
        "  for sorted_target in all_sorted_traget.T:\n",
        "    unique, count_unique = np.unique(sorted_target[:K],return_counts=True)\n",
        "    _class = unique[count_unique.argmax()]\n",
        "    all_class.append(_class)\n",
        "  return np.array(all_class).reshape(-1,1)"
      ],
      "execution_count": 0,
      "outputs": []
    },
    {
      "cell_type": "code",
      "metadata": {
        "id": "_3PeR9ONeE3b",
        "colab_type": "code",
        "colab": {}
      },
      "source": [
        "min_Train,max_Train = minmax4norm(X_Train)\n",
        "X_norm_Train = minmaxNorm(X_Train,min_Train,max_Train)\n",
        "X_norm_Vaild = minmaxNorm(X_Vaild,min_Train,max_Train)\n",
        "dis = KNN_Dis(X_norm_Train,X_norm_Vaild)\n",
        "Sorted_Target = KNN_Sort(Y_Train,dis)\n",
        "class_Target = KNN_FindClass(Sorted_Target,3)"
      ],
      "execution_count": 0,
      "outputs": []
    },
    {
      "cell_type": "code",
      "metadata": {
        "id": "rSljYzpHedJx",
        "colab_type": "code",
        "outputId": "cecc8a89-6349-420e-d359-f2f4b1a21e2e",
        "colab": {
          "base_uri": "https://localhost:8080/",
          "height": 204
        }
      },
      "source": [
        "print(pd.DataFrame(Sorted_Target))\n",
        "print(pd.DataFrame(class_Target))"
      ],
      "execution_count": 0,
      "outputs": [
        {
          "output_type": "stream",
          "text": [
            "      0     1     2\n",
            "0  thin   fat  thin\n",
            "1  thin   fat  thin\n",
            "2  thin  thin  thin\n",
            "3  thin  thin   fat\n",
            "4   fat  thin   fat\n",
            "5   fat  thin  thin\n",
            "      0\n",
            "0  thin\n",
            "1   fat\n",
            "2  thin\n"
          ],
          "name": "stdout"
        }
      ]
    },
    {
      "cell_type": "markdown",
      "metadata": {
        "id": "kSyD7VkWaJV4",
        "colab_type": "text"
      },
      "source": [
        "# **K-Neartest Neighbor : Regression**"
      ]
    },
    {
      "cell_type": "code",
      "metadata": {
        "id": "jyvzEgd7aP0x",
        "colab_type": "code",
        "colab": {}
      },
      "source": [
        ""
      ],
      "execution_count": 0,
      "outputs": []
    }
  ]
}
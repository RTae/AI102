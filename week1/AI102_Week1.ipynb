{
  "nbformat": 4,
  "nbformat_minor": 0,
  "metadata": {
    "colab": {
      "name": "AI102_Week1.ipynb",
      "provenance": [],
      "collapsed_sections": [
        "kSyD7VkWaJV4"
      ],
      "authorship_tag": "ABX9TyMEg+XghK1fAhYqedymzuOR",
      "include_colab_link": true
    },
    "kernelspec": {
      "name": "python3",
      "display_name": "Python 3"
    }
  },
  "cells": [
    {
      "cell_type": "markdown",
      "metadata": {
        "id": "view-in-github",
        "colab_type": "text"
      },
      "source": [
        "<a href=\"https://colab.research.google.com/github/RTae/AI102/blob/master/week1/AI102_Week1.ipynb\" target=\"_parent\"><img src=\"https://colab.research.google.com/assets/colab-badge.svg\" alt=\"Open In Colab\"/></a>"
      ]
    },
    {
      "cell_type": "markdown",
      "metadata": {
        "id": "DsDZvV2JZq-a",
        "colab_type": "text"
      },
      "source": [
        "# **K-Neartest Neighbor : Classification**"
      ]
    },
    {
      "cell_type": "markdown",
      "metadata": {
        "id": "EUXRY_pkaBFt",
        "colab_type": "text"
      },
      "source": [
        "**From Scratch**"
      ]
    },
    {
      "cell_type": "code",
      "metadata": {
        "id": "ja7n9hJLVskR",
        "colab_type": "code",
        "colab": {}
      },
      "source": [
        "import numpy as np"
      ],
      "execution_count": 0,
      "outputs": []
    },
    {
      "cell_type": "code",
      "metadata": {
        "id": "KV7dVR2hWq-Z",
        "colab_type": "code",
        "colab": {}
      },
      "source": [
        "A = np.array([[1,2,3],[4,5,6],[7,8,9]])"
      ],
      "execution_count": 0,
      "outputs": []
    },
    {
      "cell_type": "code",
      "metadata": {
        "id": "vNXHTzJVWvLd",
        "colab_type": "code",
        "colab": {
          "base_uri": "https://localhost:8080/",
          "height": 68
        },
        "outputId": "c10b2064-35e9-40e7-da41-d251b28c1d00"
      },
      "source": [
        ""
      ],
      "execution_count": 11,
      "outputs": [
        {
          "output_type": "execute_result",
          "data": {
            "text/plain": [
              "array([[1, 2, 3],\n",
              "       [4, 5, 6],\n",
              "       [7, 8, 9]])"
            ]
          },
          "metadata": {
            "tags": []
          },
          "execution_count": 11
        }
      ]
    },
    {
      "cell_type": "markdown",
      "metadata": {
        "id": "kSyD7VkWaJV4",
        "colab_type": "text"
      },
      "source": [
        "# **K-Neartest Neighbor : Regression**"
      ]
    },
    {
      "cell_type": "code",
      "metadata": {
        "id": "jyvzEgd7aP0x",
        "colab_type": "code",
        "colab": {}
      },
      "source": [
        ""
      ],
      "execution_count": 0,
      "outputs": []
    }
  ]
}
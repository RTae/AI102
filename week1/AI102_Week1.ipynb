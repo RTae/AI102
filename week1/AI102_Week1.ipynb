{
  "nbformat": 4,
  "nbformat_minor": 0,
  "metadata": {
    "colab": {
      "name": "AI102_Week1.ipynb",
      "provenance": [],
      "collapsed_sections": [],
      "mount_file_id": "1gCV2tS12lAlkXJCxUkZIS10nfQJa6mor",
      "authorship_tag": "ABX9TyPuwfqZyu+e0UthcDkp+Qpm",
      "include_colab_link": true
    },
    "kernelspec": {
      "name": "python3",
      "display_name": "Python 3"
    }
  },
  "cells": [
    {
      "cell_type": "markdown",
      "metadata": {
        "id": "view-in-github",
        "colab_type": "text"
      },
      "source": [
        "<a href=\"https://colab.research.google.com/github/RTae/AI102/blob/master/week1/AI102_Week1.ipynb\" target=\"_parent\"><img src=\"https://colab.research.google.com/assets/colab-badge.svg\" alt=\"Open In Colab\"/></a>"
      ]
    },
    {
      "cell_type": "markdown",
      "metadata": {
        "id": "DsDZvV2JZq-a",
        "colab_type": "text"
      },
      "source": [
        "# **K-Neartest Neighbor : Classification**"
      ]
    },
    {
      "cell_type": "markdown",
      "metadata": {
        "id": "EUXRY_pkaBFt",
        "colab_type": "text"
      },
      "source": [
        "**From Scratch**"
      ]
    },
    {
      "cell_type": "code",
      "metadata": {
        "id": "ja7n9hJLVskR",
        "colab_type": "code",
        "colab": {}
      },
      "source": [
        "#import library\n",
        "\n",
        "import numpy as np\n",
        "import pandas as pd\n",
        "import matplotlib.pyplot as plt\n",
        "from google.colab import files \n",
        "import io\n"
      ],
      "execution_count": 0,
      "outputs": []
    },
    {
      "cell_type": "code",
      "metadata": {
        "id": "KV7dVR2hWq-Z",
        "colab_type": "code",
        "colab": {}
      },
      "source": [
        "# write Fuction\n",
        "\n",
        "def minmax4norm(Data):\n",
        "  _min = Data.min(axis = 0,keepdims = True)\n",
        "  _max = Data.max(axis = 0,keepdims = True)\n",
        "\n",
        "  return _min,_max\n",
        "\n",
        "def minmaxNorm(Data,_min,_max):\n",
        "  x_norm = (Data - _min)/(_max - _min)\n",
        "\n",
        "  return x_norm\n",
        "\n",
        "def KNN_Dis(X_Train,X_Vaild):\n",
        "  all_dis = []\n",
        "\n",
        "  for X_V in X_Vaild:\n",
        "    dis = ((X_Train - X_V)**2).sum(axis = 1)\n",
        "    dis = np.sqrt(dis)\n",
        "    all_dis.append(dis)\n",
        "  return (np.array(all_dis))\n",
        "\n",
        "def KNN_Sort(Y_Train,all_dis):\n",
        "  all_sorted_traget = []\n",
        "  for dis in all_dis:\n",
        "    sorted_target = Y_Train[dis.argsort()]\n",
        "    all_sorted_traget.append(sorted_target)\n",
        "  return np.array(all_sorted_traget)\n",
        "\n",
        "def KNN_FindClass(all_sorted_traget,K):\n",
        "  all_class = []\n",
        "  for sorted_target in all_sorted_traget:\n",
        "    unique, count_unique = np.unique(sorted_target[:K, :],return_counts=True)\n",
        "    _class = unique[count_unique.argmax()]\n",
        "    all_class.append(_class)\n",
        "  return np.array(all_class).reshape(-1,1)\n",
        "\n",
        "def KNN_findError_all(Y_Vaild,all_sorted_traget,min_K,max_K):\n",
        "  error_list = []\n",
        "  K_list = [i for i in range(min_K,max_K+1)]\n",
        "  for K in K_list:\n",
        "    Yhat = KNN_FindClass(all_sorted_traget,K)\n",
        "    K_error = find_error_classification_onces(Y_Vaild,Yhat)\n",
        "    error_list.append(K_error)\n",
        "  return error_list,K_list\n",
        "\n",
        "def find_error_classification_onces(Y, Yhat):\n",
        "    N = Y.shape[0]\n",
        "    error = (100/N)*(Y != Yhat).sum()\n",
        "    return error\n",
        "\n",
        "def KNN_best_K(K_list,error_list):\n",
        "  K_list = np.array(K_list)\n",
        "  error_list = np.array(error_list)\n",
        "  plt.plot(K_list,error_list)\n",
        "  plt.xlabel('K'),\n",
        "  plt.ylabel('Error')\n",
        "\n",
        "  sorted_K = K_list[error_list.argsort()]\n",
        "  error_list.sort()\n",
        "  best_K = sorted_K[0]\n",
        "  print(best_K)\n",
        "  print()\n",
        "  for i in range(len(K_list)):\n",
        "    print('K : ',sorted_K[i],', error : ',error_list[i])\n",
        "  return best_K\n",
        "\n",
        "def KNNC_FIT(X_train,Y_train,X_Vaild,Y_Vaild,min_K,max_K):\n",
        "  min_Train,max_Train = minmax4norm(X_Train)\n",
        "  X_norm_Train = minmaxNorm(X_Train,min_Train,max_Train)\n",
        "  X_norm_Vaild = minmaxNorm(X_Vaild,min_Train,max_Train)\n",
        "  dis = KNN_Dis(X_norm_Train,X_norm_Vaild)\n",
        "  Sorted_Target = KNN_Sort(Y_Train,dis)\n",
        "  error,K_list = KNN_findError_all(Y_Vaild,Sorted_Target,min_K,max_K)\n",
        "  best_K = KNN_best_K(K_list, error)\n",
        "\n",
        "  return best_K\n",
        "\n",
        "def KNNC_Predict(X_Train,Y_Train,X_Test,bestK):\n",
        "  min_Train,max_Train = minmax4norm(X_Train)\n",
        "  X_norm_Train = minmaxNorm(X_Train,min_Train,max_Train)\n",
        "  X_norm_Test = minmaxNorm(X_Test,min_Train,max_Train)\n",
        "  dis = KNN_Dis(X_norm_Train,X_norm_Test)\n",
        "  Sorted_Target = KNN_Sort(Y_Train,dis)\n",
        "  Yhat = KNN_FindClass(Sorted_Target,bestK)\n",
        "\n",
        "  return Yhat"
      ],
      "execution_count": 0,
      "outputs": []
    },
    {
      "cell_type": "markdown",
      "metadata": {
        "id": "cvnR43DY0g8o",
        "colab_type": "text"
      },
      "source": [
        "Example I : SET50 Data"
      ]
    },
    {
      "cell_type": "code",
      "metadata": {
        "id": "_d3kvwVEzYQT",
        "colab_type": "code",
        "outputId": "6ee57d63-d6ce-405c-d35b-01eba2821223",
        "colab": {
          "resources": {
            "http://localhost:8080/nbextensions/google.colab/files.js": {
              "data": "Ly8gQ29weXJpZ2h0IDIwMTcgR29vZ2xlIExMQwovLwovLyBMaWNlbnNlZCB1bmRlciB0aGUgQXBhY2hlIExpY2Vuc2UsIFZlcnNpb24gMi4wICh0aGUgIkxpY2Vuc2UiKTsKLy8geW91IG1heSBub3QgdXNlIHRoaXMgZmlsZSBleGNlcHQgaW4gY29tcGxpYW5jZSB3aXRoIHRoZSBMaWNlbnNlLgovLyBZb3UgbWF5IG9idGFpbiBhIGNvcHkgb2YgdGhlIExpY2Vuc2UgYXQKLy8KLy8gICAgICBodHRwOi8vd3d3LmFwYWNoZS5vcmcvbGljZW5zZXMvTElDRU5TRS0yLjAKLy8KLy8gVW5sZXNzIHJlcXVpcmVkIGJ5IGFwcGxpY2FibGUgbGF3IG9yIGFncmVlZCB0byBpbiB3cml0aW5nLCBzb2Z0d2FyZQovLyBkaXN0cmlidXRlZCB1bmRlciB0aGUgTGljZW5zZSBpcyBkaXN0cmlidXRlZCBvbiBhbiAiQVMgSVMiIEJBU0lTLAovLyBXSVRIT1VUIFdBUlJBTlRJRVMgT1IgQ09ORElUSU9OUyBPRiBBTlkgS0lORCwgZWl0aGVyIGV4cHJlc3Mgb3IgaW1wbGllZC4KLy8gU2VlIHRoZSBMaWNlbnNlIGZvciB0aGUgc3BlY2lmaWMgbGFuZ3VhZ2UgZ292ZXJuaW5nIHBlcm1pc3Npb25zIGFuZAovLyBsaW1pdGF0aW9ucyB1bmRlciB0aGUgTGljZW5zZS4KCi8qKgogKiBAZmlsZW92ZXJ2aWV3IEhlbHBlcnMgZm9yIGdvb2dsZS5jb2xhYiBQeXRob24gbW9kdWxlLgogKi8KKGZ1bmN0aW9uKHNjb3BlKSB7CmZ1bmN0aW9uIHNwYW4odGV4dCwgc3R5bGVBdHRyaWJ1dGVzID0ge30pIHsKICBjb25zdCBlbGVtZW50ID0gZG9jdW1lbnQuY3JlYXRlRWxlbWVudCgnc3BhbicpOwogIGVsZW1lbnQudGV4dENvbnRlbnQgPSB0ZXh0OwogIGZvciAoY29uc3Qga2V5IG9mIE9iamVjdC5rZXlzKHN0eWxlQXR0cmlidXRlcykpIHsKICAgIGVsZW1lbnQuc3R5bGVba2V5XSA9IHN0eWxlQXR0cmlidXRlc1trZXldOwogIH0KICByZXR1cm4gZWxlbWVudDsKfQoKLy8gTWF4IG51bWJlciBvZiBieXRlcyB3aGljaCB3aWxsIGJlIHVwbG9hZGVkIGF0IGEgdGltZS4KY29uc3QgTUFYX1BBWUxPQURfU0laRSA9IDEwMCAqIDEwMjQ7Ci8vIE1heCBhbW91bnQgb2YgdGltZSB0byBibG9jayB3YWl0aW5nIGZvciB0aGUgdXNlci4KY29uc3QgRklMRV9DSEFOR0VfVElNRU9VVF9NUyA9IDMwICogMTAwMDsKCmZ1bmN0aW9uIF91cGxvYWRGaWxlcyhpbnB1dElkLCBvdXRwdXRJZCkgewogIGNvbnN0IHN0ZXBzID0gdXBsb2FkRmlsZXNTdGVwKGlucHV0SWQsIG91dHB1dElkKTsKICBjb25zdCBvdXRwdXRFbGVtZW50ID0gZG9jdW1lbnQuZ2V0RWxlbWVudEJ5SWQob3V0cHV0SWQpOwogIC8vIENhY2hlIHN0ZXBzIG9uIHRoZSBvdXRwdXRFbGVtZW50IHRvIG1ha2UgaXQgYXZhaWxhYmxlIGZvciB0aGUgbmV4dCBjYWxsCiAgLy8gdG8gdXBsb2FkRmlsZXNDb250aW51ZSBmcm9tIFB5dGhvbi4KICBvdXRwdXRFbGVtZW50LnN0ZXBzID0gc3RlcHM7CgogIHJldHVybiBfdXBsb2FkRmlsZXNDb250aW51ZShvdXRwdXRJZCk7Cn0KCi8vIFRoaXMgaXMgcm91Z2hseSBhbiBhc3luYyBnZW5lcmF0b3IgKG5vdCBzdXBwb3J0ZWQgaW4gdGhlIGJyb3dzZXIgeWV0KSwKLy8gd2hlcmUgdGhlcmUgYXJlIG11bHRpcGxlIGFzeW5jaHJvbm91cyBzdGVwcyBhbmQgdGhlIFB5dGhvbiBzaWRlIGlzIGdvaW5nCi8vIHRvIHBvbGwgZm9yIGNvbXBsZXRpb24gb2YgZWFjaCBzdGVwLgovLyBUaGlzIHVzZXMgYSBQcm9taXNlIHRvIGJsb2NrIHRoZSBweXRob24gc2lkZSBvbiBjb21wbGV0aW9uIG9mIGVhY2ggc3RlcCwKLy8gdGhlbiBwYXNzZXMgdGhlIHJlc3VsdCBvZiB0aGUgcHJldmlvdXMgc3RlcCBhcyB0aGUgaW5wdXQgdG8gdGhlIG5leHQgc3RlcC4KZnVuY3Rpb24gX3VwbG9hZEZpbGVzQ29udGludWUob3V0cHV0SWQpIHsKICBjb25zdCBvdXRwdXRFbGVtZW50ID0gZG9jdW1lbnQuZ2V0RWxlbWVudEJ5SWQob3V0cHV0SWQpOwogIGNvbnN0IHN0ZXBzID0gb3V0cHV0RWxlbWVudC5zdGVwczsKCiAgY29uc3QgbmV4dCA9IHN0ZXBzLm5leHQob3V0cHV0RWxlbWVudC5sYXN0UHJvbWlzZVZhbHVlKTsKICByZXR1cm4gUHJvbWlzZS5yZXNvbHZlKG5leHQudmFsdWUucHJvbWlzZSkudGhlbigodmFsdWUpID0+IHsKICAgIC8vIENhY2hlIHRoZSBsYXN0IHByb21pc2UgdmFsdWUgdG8gbWFrZSBpdCBhdmFpbGFibGUgdG8gdGhlIG5leHQKICAgIC8vIHN0ZXAgb2YgdGhlIGdlbmVyYXRvci4KICAgIG91dHB1dEVsZW1lbnQubGFzdFByb21pc2VWYWx1ZSA9IHZhbHVlOwogICAgcmV0dXJuIG5leHQudmFsdWUucmVzcG9uc2U7CiAgfSk7Cn0KCi8qKgogKiBHZW5lcmF0b3IgZnVuY3Rpb24gd2hpY2ggaXMgY2FsbGVkIGJldHdlZW4gZWFjaCBhc3luYyBzdGVwIG9mIHRoZSB1cGxvYWQKICogcHJvY2Vzcy4KICogQHBhcmFtIHtzdHJpbmd9IGlucHV0SWQgRWxlbWVudCBJRCBvZiB0aGUgaW5wdXQgZmlsZSBwaWNrZXIgZWxlbWVudC4KICogQHBhcmFtIHtzdHJpbmd9IG91dHB1dElkIEVsZW1lbnQgSUQgb2YgdGhlIG91dHB1dCBkaXNwbGF5LgogKiBAcmV0dXJuIHshSXRlcmFibGU8IU9iamVjdD59IEl0ZXJhYmxlIG9mIG5leHQgc3RlcHMuCiAqLwpmdW5jdGlvbiogdXBsb2FkRmlsZXNTdGVwKGlucHV0SWQsIG91dHB1dElkKSB7CiAgY29uc3QgaW5wdXRFbGVtZW50ID0gZG9jdW1lbnQuZ2V0RWxlbWVudEJ5SWQoaW5wdXRJZCk7CiAgaW5wdXRFbGVtZW50LmRpc2FibGVkID0gZmFsc2U7CgogIGNvbnN0IG91dHB1dEVsZW1lbnQgPSBkb2N1bWVudC5nZXRFbGVtZW50QnlJZChvdXRwdXRJZCk7CiAgb3V0cHV0RWxlbWVudC5pbm5lckhUTUwgPSAnJzsKCiAgY29uc3QgcGlja2VkUHJvbWlzZSA9IG5ldyBQcm9taXNlKChyZXNvbHZlKSA9PiB7CiAgICBpbnB1dEVsZW1lbnQuYWRkRXZlbnRMaXN0ZW5lcignY2hhbmdlJywgKGUpID0+IHsKICAgICAgcmVzb2x2ZShlLnRhcmdldC5maWxlcyk7CiAgICB9KTsKICB9KTsKCiAgY29uc3QgY2FuY2VsID0gZG9jdW1lbnQuY3JlYXRlRWxlbWVudCgnYnV0dG9uJyk7CiAgaW5wdXRFbGVtZW50LnBhcmVudEVsZW1lbnQuYXBwZW5kQ2hpbGQoY2FuY2VsKTsKICBjYW5jZWwudGV4dENvbnRlbnQgPSAnQ2FuY2VsIHVwbG9hZCc7CiAgY29uc3QgY2FuY2VsUHJvbWlzZSA9IG5ldyBQcm9taXNlKChyZXNvbHZlKSA9PiB7CiAgICBjYW5jZWwub25jbGljayA9ICgpID0+IHsKICAgICAgcmVzb2x2ZShudWxsKTsKICAgIH07CiAgfSk7CgogIC8vIENhbmNlbCB1cGxvYWQgaWYgdXNlciBoYXNuJ3QgcGlja2VkIGFueXRoaW5nIGluIHRpbWVvdXQuCiAgY29uc3QgdGltZW91dFByb21pc2UgPSBuZXcgUHJvbWlzZSgocmVzb2x2ZSkgPT4gewogICAgc2V0VGltZW91dCgoKSA9PiB7CiAgICAgIHJlc29sdmUobnVsbCk7CiAgICB9LCBGSUxFX0NIQU5HRV9USU1FT1VUX01TKTsKICB9KTsKCiAgLy8gV2FpdCBmb3IgdGhlIHVzZXIgdG8gcGljayB0aGUgZmlsZXMuCiAgY29uc3QgZmlsZXMgPSB5aWVsZCB7CiAgICBwcm9taXNlOiBQcm9taXNlLnJhY2UoW3BpY2tlZFByb21pc2UsIHRpbWVvdXRQcm9taXNlLCBjYW5jZWxQcm9taXNlXSksCiAgICByZXNwb25zZTogewogICAgICBhY3Rpb246ICdzdGFydGluZycsCiAgICB9CiAgfTsKCiAgaWYgKCFmaWxlcykgewogICAgcmV0dXJuIHsKICAgICAgcmVzcG9uc2U6IHsKICAgICAgICBhY3Rpb246ICdjb21wbGV0ZScsCiAgICAgIH0KICAgIH07CiAgfQoKICBjYW5jZWwucmVtb3ZlKCk7CgogIC8vIERpc2FibGUgdGhlIGlucHV0IGVsZW1lbnQgc2luY2UgZnVydGhlciBwaWNrcyBhcmUgbm90IGFsbG93ZWQuCiAgaW5wdXRFbGVtZW50LmRpc2FibGVkID0gdHJ1ZTsKCiAgZm9yIChjb25zdCBmaWxlIG9mIGZpbGVzKSB7CiAgICBjb25zdCBsaSA9IGRvY3VtZW50LmNyZWF0ZUVsZW1lbnQoJ2xpJyk7CiAgICBsaS5hcHBlbmQoc3BhbihmaWxlLm5hbWUsIHtmb250V2VpZ2h0OiAnYm9sZCd9KSk7CiAgICBsaS5hcHBlbmQoc3BhbigKICAgICAgICBgKCR7ZmlsZS50eXBlIHx8ICduL2EnfSkgLSAke2ZpbGUuc2l6ZX0gYnl0ZXMsIGAgKwogICAgICAgIGBsYXN0IG1vZGlmaWVkOiAkewogICAgICAgICAgICBmaWxlLmxhc3RNb2RpZmllZERhdGUgPyBmaWxlLmxhc3RNb2RpZmllZERhdGUudG9Mb2NhbGVEYXRlU3RyaW5nKCkgOgogICAgICAgICAgICAgICAgICAgICAgICAgICAgICAgICAgICAnbi9hJ30gLSBgKSk7CiAgICBjb25zdCBwZXJjZW50ID0gc3BhbignMCUgZG9uZScpOwogICAgbGkuYXBwZW5kQ2hpbGQocGVyY2VudCk7CgogICAgb3V0cHV0RWxlbWVudC5hcHBlbmRDaGlsZChsaSk7CgogICAgY29uc3QgZmlsZURhdGFQcm9taXNlID0gbmV3IFByb21pc2UoKHJlc29sdmUpID0+IHsKICAgICAgY29uc3QgcmVhZGVyID0gbmV3IEZpbGVSZWFkZXIoKTsKICAgICAgcmVhZGVyLm9ubG9hZCA9IChlKSA9PiB7CiAgICAgICAgcmVzb2x2ZShlLnRhcmdldC5yZXN1bHQpOwogICAgICB9OwogICAgICByZWFkZXIucmVhZEFzQXJyYXlCdWZmZXIoZmlsZSk7CiAgICB9KTsKICAgIC8vIFdhaXQgZm9yIHRoZSBkYXRhIHRvIGJlIHJlYWR5LgogICAgbGV0IGZpbGVEYXRhID0geWllbGQgewogICAgICBwcm9taXNlOiBmaWxlRGF0YVByb21pc2UsCiAgICAgIHJlc3BvbnNlOiB7CiAgICAgICAgYWN0aW9uOiAnY29udGludWUnLAogICAgICB9CiAgICB9OwoKICAgIC8vIFVzZSBhIGNodW5rZWQgc2VuZGluZyB0byBhdm9pZCBtZXNzYWdlIHNpemUgbGltaXRzLiBTZWUgYi82MjExNTY2MC4KICAgIGxldCBwb3NpdGlvbiA9IDA7CiAgICB3aGlsZSAocG9zaXRpb24gPCBmaWxlRGF0YS5ieXRlTGVuZ3RoKSB7CiAgICAgIGNvbnN0IGxlbmd0aCA9IE1hdGgubWluKGZpbGVEYXRhLmJ5dGVMZW5ndGggLSBwb3NpdGlvbiwgTUFYX1BBWUxPQURfU0laRSk7CiAgICAgIGNvbnN0IGNodW5rID0gbmV3IFVpbnQ4QXJyYXkoZmlsZURhdGEsIHBvc2l0aW9uLCBsZW5ndGgpOwogICAgICBwb3NpdGlvbiArPSBsZW5ndGg7CgogICAgICBjb25zdCBiYXNlNjQgPSBidG9hKFN0cmluZy5mcm9tQ2hhckNvZGUuYXBwbHkobnVsbCwgY2h1bmspKTsKICAgICAgeWllbGQgewogICAgICAgIHJlc3BvbnNlOiB7CiAgICAgICAgICBhY3Rpb246ICdhcHBlbmQnLAogICAgICAgICAgZmlsZTogZmlsZS5uYW1lLAogICAgICAgICAgZGF0YTogYmFzZTY0LAogICAgICAgIH0sCiAgICAgIH07CiAgICAgIHBlcmNlbnQudGV4dENvbnRlbnQgPQogICAgICAgICAgYCR7TWF0aC5yb3VuZCgocG9zaXRpb24gLyBmaWxlRGF0YS5ieXRlTGVuZ3RoKSAqIDEwMCl9JSBkb25lYDsKICAgIH0KICB9CgogIC8vIEFsbCBkb25lLgogIHlpZWxkIHsKICAgIHJlc3BvbnNlOiB7CiAgICAgIGFjdGlvbjogJ2NvbXBsZXRlJywKICAgIH0KICB9Owp9CgpzY29wZS5nb29nbGUgPSBzY29wZS5nb29nbGUgfHwge307CnNjb3BlLmdvb2dsZS5jb2xhYiA9IHNjb3BlLmdvb2dsZS5jb2xhYiB8fCB7fTsKc2NvcGUuZ29vZ2xlLmNvbGFiLl9maWxlcyA9IHsKICBfdXBsb2FkRmlsZXMsCiAgX3VwbG9hZEZpbGVzQ29udGludWUsCn07Cn0pKHNlbGYpOwo=",
              "ok": true,
              "headers": [
                [
                  "content-type",
                  "application/javascript"
                ]
              ],
              "status": 200,
              "status_text": ""
            }
          },
          "base_uri": "https://localhost:8080/",
          "height": 71
        }
      },
      "source": [
        "# Prepare data\n",
        "from google.colab import files\n",
        "uploaded = files.upload()"
      ],
      "execution_count": 1,
      "outputs": [
        {
          "output_type": "display_data",
          "data": {
            "text/html": [
              "\n",
              "     <input type=\"file\" id=\"files-90bac7ae-8979-4900-bde3-3cf9ff985fa6\" name=\"files[]\" multiple disabled />\n",
              "     <output id=\"result-90bac7ae-8979-4900-bde3-3cf9ff985fa6\">\n",
              "      Upload widget is only available when the cell has been executed in the\n",
              "      current browser session. Please rerun this cell to enable.\n",
              "      </output>\n",
              "      <script src=\"/nbextensions/google.colab/files.js\"></script> "
            ],
            "text/plain": [
              "<IPython.core.display.HTML object>"
            ]
          },
          "metadata": {
            "tags": []
          }
        },
        {
          "output_type": "stream",
          "text": [
            "Saving SET50_D1_Dataset_Classification.xlsx to SET50_D1_Dataset_Classification (1).xlsx\n"
          ],
          "name": "stdout"
        }
      ]
    },
    {
      "cell_type": "code",
      "metadata": {
        "id": "6OQoTp8f1-W6",
        "colab_type": "code",
        "colab": {}
      },
      "source": [
        "data = pd.read_excel((uploaded['SET50_D1_Dataset_Classification.xlsx']),usecols = 'G:AK')"
      ],
      "execution_count": 0,
      "outputs": []
    },
    {
      "cell_type": "code",
      "metadata": {
        "id": "UXujooT2uQoU",
        "colab_type": "code",
        "colab": {
          "base_uri": "https://localhost:8080/",
          "height": 439
        },
        "outputId": "bd526b94-cc5c-47ec-ece1-eb32bd93d226"
      },
      "source": [
        "data"
      ],
      "execution_count": 8,
      "outputs": [
        {
          "output_type": "execute_result",
          "data": {
            "text/html": [
              "<div>\n",
              "<style scoped>\n",
              "    .dataframe tbody tr th:only-of-type {\n",
              "        vertical-align: middle;\n",
              "    }\n",
              "\n",
              "    .dataframe tbody tr th {\n",
              "        vertical-align: top;\n",
              "    }\n",
              "\n",
              "    .dataframe thead th {\n",
              "        text-align: right;\n",
              "    }\n",
              "</style>\n",
              "<table border=\"1\" class=\"dataframe\">\n",
              "  <thead>\n",
              "    <tr style=\"text-align: right;\">\n",
              "      <th></th>\n",
              "      <th>Delta30</th>\n",
              "      <th>Delta29</th>\n",
              "      <th>Delta28</th>\n",
              "      <th>Delta27</th>\n",
              "      <th>Delta26</th>\n",
              "      <th>Delta25</th>\n",
              "      <th>Delta24</th>\n",
              "      <th>Delta23</th>\n",
              "      <th>Delta22</th>\n",
              "      <th>Delta21</th>\n",
              "      <th>Delta20</th>\n",
              "      <th>Delta19</th>\n",
              "      <th>Delta18</th>\n",
              "      <th>Delta17</th>\n",
              "      <th>Delta16</th>\n",
              "      <th>Delta15</th>\n",
              "      <th>Delta14</th>\n",
              "      <th>Delta13</th>\n",
              "      <th>Delta12</th>\n",
              "      <th>Delta11</th>\n",
              "      <th>Delta10</th>\n",
              "      <th>Delta9</th>\n",
              "      <th>Delta8</th>\n",
              "      <th>Delta7</th>\n",
              "      <th>Delta6</th>\n",
              "      <th>Delta5</th>\n",
              "      <th>Delta4</th>\n",
              "      <th>Delta3</th>\n",
              "      <th>Delta2</th>\n",
              "      <th>Delta1</th>\n",
              "      <th>Target</th>\n",
              "    </tr>\n",
              "  </thead>\n",
              "  <tbody>\n",
              "    <tr>\n",
              "      <th>0</th>\n",
              "      <td>12.00</td>\n",
              "      <td>-2.00</td>\n",
              "      <td>-15.97</td>\n",
              "      <td>-0.88</td>\n",
              "      <td>-8.15</td>\n",
              "      <td>-8.13</td>\n",
              "      <td>-14.22</td>\n",
              "      <td>10.36</td>\n",
              "      <td>14.63</td>\n",
              "      <td>-8.69</td>\n",
              "      <td>19.29</td>\n",
              "      <td>-0.82</td>\n",
              "      <td>-3.95</td>\n",
              "      <td>-12.61</td>\n",
              "      <td>4.80</td>\n",
              "      <td>9.69</td>\n",
              "      <td>2.88</td>\n",
              "      <td>-7.33</td>\n",
              "      <td>-16.43</td>\n",
              "      <td>-6.43</td>\n",
              "      <td>-5.53</td>\n",
              "      <td>10.00</td>\n",
              "      <td>-2.70</td>\n",
              "      <td>-11.77</td>\n",
              "      <td>7.83</td>\n",
              "      <td>2.38</td>\n",
              "      <td>-27.98</td>\n",
              "      <td>-22.08</td>\n",
              "      <td>-37.88</td>\n",
              "      <td>33.37</td>\n",
              "      <td>Down</td>\n",
              "    </tr>\n",
              "    <tr>\n",
              "      <th>1</th>\n",
              "      <td>-2.00</td>\n",
              "      <td>-15.97</td>\n",
              "      <td>-0.88</td>\n",
              "      <td>-8.15</td>\n",
              "      <td>-8.13</td>\n",
              "      <td>-14.22</td>\n",
              "      <td>10.36</td>\n",
              "      <td>14.63</td>\n",
              "      <td>-8.69</td>\n",
              "      <td>19.29</td>\n",
              "      <td>-0.82</td>\n",
              "      <td>-3.95</td>\n",
              "      <td>-12.61</td>\n",
              "      <td>4.80</td>\n",
              "      <td>9.69</td>\n",
              "      <td>2.88</td>\n",
              "      <td>-7.33</td>\n",
              "      <td>-16.43</td>\n",
              "      <td>-6.43</td>\n",
              "      <td>-5.53</td>\n",
              "      <td>10.00</td>\n",
              "      <td>-2.70</td>\n",
              "      <td>-11.77</td>\n",
              "      <td>7.83</td>\n",
              "      <td>2.38</td>\n",
              "      <td>-27.98</td>\n",
              "      <td>-22.08</td>\n",
              "      <td>-37.88</td>\n",
              "      <td>33.37</td>\n",
              "      <td>-12.91</td>\n",
              "      <td>Up</td>\n",
              "    </tr>\n",
              "    <tr>\n",
              "      <th>2</th>\n",
              "      <td>-15.97</td>\n",
              "      <td>-0.88</td>\n",
              "      <td>-8.15</td>\n",
              "      <td>-8.13</td>\n",
              "      <td>-14.22</td>\n",
              "      <td>10.36</td>\n",
              "      <td>14.63</td>\n",
              "      <td>-8.69</td>\n",
              "      <td>19.29</td>\n",
              "      <td>-0.82</td>\n",
              "      <td>-3.95</td>\n",
              "      <td>-12.61</td>\n",
              "      <td>4.80</td>\n",
              "      <td>9.69</td>\n",
              "      <td>2.88</td>\n",
              "      <td>-7.33</td>\n",
              "      <td>-16.43</td>\n",
              "      <td>-6.43</td>\n",
              "      <td>-5.53</td>\n",
              "      <td>10.00</td>\n",
              "      <td>-2.70</td>\n",
              "      <td>-11.77</td>\n",
              "      <td>7.83</td>\n",
              "      <td>2.38</td>\n",
              "      <td>-27.98</td>\n",
              "      <td>-22.08</td>\n",
              "      <td>-37.88</td>\n",
              "      <td>33.37</td>\n",
              "      <td>-12.91</td>\n",
              "      <td>-4.94</td>\n",
              "      <td>Down</td>\n",
              "    </tr>\n",
              "    <tr>\n",
              "      <th>3</th>\n",
              "      <td>-0.88</td>\n",
              "      <td>-8.15</td>\n",
              "      <td>-8.13</td>\n",
              "      <td>-14.22</td>\n",
              "      <td>10.36</td>\n",
              "      <td>14.63</td>\n",
              "      <td>-8.69</td>\n",
              "      <td>19.29</td>\n",
              "      <td>-0.82</td>\n",
              "      <td>-3.95</td>\n",
              "      <td>-12.61</td>\n",
              "      <td>4.80</td>\n",
              "      <td>9.69</td>\n",
              "      <td>2.88</td>\n",
              "      <td>-7.33</td>\n",
              "      <td>-16.43</td>\n",
              "      <td>-6.43</td>\n",
              "      <td>-5.53</td>\n",
              "      <td>10.00</td>\n",
              "      <td>-2.70</td>\n",
              "      <td>-11.77</td>\n",
              "      <td>7.83</td>\n",
              "      <td>2.38</td>\n",
              "      <td>-27.98</td>\n",
              "      <td>-22.08</td>\n",
              "      <td>-37.88</td>\n",
              "      <td>33.37</td>\n",
              "      <td>-12.91</td>\n",
              "      <td>-4.94</td>\n",
              "      <td>-8.36</td>\n",
              "      <td>Down</td>\n",
              "    </tr>\n",
              "    <tr>\n",
              "      <th>4</th>\n",
              "      <td>-8.15</td>\n",
              "      <td>-8.13</td>\n",
              "      <td>-14.22</td>\n",
              "      <td>10.36</td>\n",
              "      <td>14.63</td>\n",
              "      <td>-8.69</td>\n",
              "      <td>19.29</td>\n",
              "      <td>-0.82</td>\n",
              "      <td>-3.95</td>\n",
              "      <td>-12.61</td>\n",
              "      <td>4.80</td>\n",
              "      <td>9.69</td>\n",
              "      <td>2.88</td>\n",
              "      <td>-7.33</td>\n",
              "      <td>-16.43</td>\n",
              "      <td>-6.43</td>\n",
              "      <td>-5.53</td>\n",
              "      <td>10.00</td>\n",
              "      <td>-2.70</td>\n",
              "      <td>-11.77</td>\n",
              "      <td>7.83</td>\n",
              "      <td>2.38</td>\n",
              "      <td>-27.98</td>\n",
              "      <td>-22.08</td>\n",
              "      <td>-37.88</td>\n",
              "      <td>33.37</td>\n",
              "      <td>-12.91</td>\n",
              "      <td>-4.94</td>\n",
              "      <td>-8.36</td>\n",
              "      <td>-34.40</td>\n",
              "      <td>Down</td>\n",
              "    </tr>\n",
              "    <tr>\n",
              "      <th>...</th>\n",
              "      <td>...</td>\n",
              "      <td>...</td>\n",
              "      <td>...</td>\n",
              "      <td>...</td>\n",
              "      <td>...</td>\n",
              "      <td>...</td>\n",
              "      <td>...</td>\n",
              "      <td>...</td>\n",
              "      <td>...</td>\n",
              "      <td>...</td>\n",
              "      <td>...</td>\n",
              "      <td>...</td>\n",
              "      <td>...</td>\n",
              "      <td>...</td>\n",
              "      <td>...</td>\n",
              "      <td>...</td>\n",
              "      <td>...</td>\n",
              "      <td>...</td>\n",
              "      <td>...</td>\n",
              "      <td>...</td>\n",
              "      <td>...</td>\n",
              "      <td>...</td>\n",
              "      <td>...</td>\n",
              "      <td>...</td>\n",
              "      <td>...</td>\n",
              "      <td>...</td>\n",
              "      <td>...</td>\n",
              "      <td>...</td>\n",
              "      <td>...</td>\n",
              "      <td>...</td>\n",
              "      <td>...</td>\n",
              "    </tr>\n",
              "    <tr>\n",
              "      <th>1912</th>\n",
              "      <td>5.24</td>\n",
              "      <td>-0.33</td>\n",
              "      <td>1.03</td>\n",
              "      <td>-1.87</td>\n",
              "      <td>-3.72</td>\n",
              "      <td>13.85</td>\n",
              "      <td>17.74</td>\n",
              "      <td>9.41</td>\n",
              "      <td>-2.18</td>\n",
              "      <td>-0.48</td>\n",
              "      <td>3.75</td>\n",
              "      <td>-0.56</td>\n",
              "      <td>7.19</td>\n",
              "      <td>-1.51</td>\n",
              "      <td>8.94</td>\n",
              "      <td>-7.16</td>\n",
              "      <td>2.14</td>\n",
              "      <td>-10.69</td>\n",
              "      <td>4.20</td>\n",
              "      <td>-2.72</td>\n",
              "      <td>-8.88</td>\n",
              "      <td>14.41</td>\n",
              "      <td>-0.89</td>\n",
              "      <td>-7.12</td>\n",
              "      <td>-0.48</td>\n",
              "      <td>-3.84</td>\n",
              "      <td>1.61</td>\n",
              "      <td>7.53</td>\n",
              "      <td>-7.23</td>\n",
              "      <td>-1.11</td>\n",
              "      <td>Down</td>\n",
              "    </tr>\n",
              "    <tr>\n",
              "      <th>1913</th>\n",
              "      <td>-0.33</td>\n",
              "      <td>1.03</td>\n",
              "      <td>-1.87</td>\n",
              "      <td>-3.72</td>\n",
              "      <td>13.85</td>\n",
              "      <td>17.74</td>\n",
              "      <td>9.41</td>\n",
              "      <td>-2.18</td>\n",
              "      <td>-0.48</td>\n",
              "      <td>3.75</td>\n",
              "      <td>-0.56</td>\n",
              "      <td>7.19</td>\n",
              "      <td>-1.51</td>\n",
              "      <td>8.94</td>\n",
              "      <td>-7.16</td>\n",
              "      <td>2.14</td>\n",
              "      <td>-10.69</td>\n",
              "      <td>4.20</td>\n",
              "      <td>-2.72</td>\n",
              "      <td>-8.88</td>\n",
              "      <td>14.41</td>\n",
              "      <td>-0.89</td>\n",
              "      <td>-7.12</td>\n",
              "      <td>-0.48</td>\n",
              "      <td>-3.84</td>\n",
              "      <td>1.61</td>\n",
              "      <td>7.53</td>\n",
              "      <td>-7.23</td>\n",
              "      <td>-1.11</td>\n",
              "      <td>-1.25</td>\n",
              "      <td>Up</td>\n",
              "    </tr>\n",
              "    <tr>\n",
              "      <th>1914</th>\n",
              "      <td>1.03</td>\n",
              "      <td>-1.87</td>\n",
              "      <td>-3.72</td>\n",
              "      <td>13.85</td>\n",
              "      <td>17.74</td>\n",
              "      <td>9.41</td>\n",
              "      <td>-2.18</td>\n",
              "      <td>-0.48</td>\n",
              "      <td>3.75</td>\n",
              "      <td>-0.56</td>\n",
              "      <td>7.19</td>\n",
              "      <td>-1.51</td>\n",
              "      <td>8.94</td>\n",
              "      <td>-7.16</td>\n",
              "      <td>2.14</td>\n",
              "      <td>-10.69</td>\n",
              "      <td>4.20</td>\n",
              "      <td>-2.72</td>\n",
              "      <td>-8.88</td>\n",
              "      <td>14.41</td>\n",
              "      <td>-0.89</td>\n",
              "      <td>-7.12</td>\n",
              "      <td>-0.48</td>\n",
              "      <td>-3.84</td>\n",
              "      <td>1.61</td>\n",
              "      <td>7.53</td>\n",
              "      <td>-7.23</td>\n",
              "      <td>-1.11</td>\n",
              "      <td>-1.25</td>\n",
              "      <td>3.14</td>\n",
              "      <td>Down</td>\n",
              "    </tr>\n",
              "    <tr>\n",
              "      <th>1915</th>\n",
              "      <td>-1.87</td>\n",
              "      <td>-3.72</td>\n",
              "      <td>13.85</td>\n",
              "      <td>17.74</td>\n",
              "      <td>9.41</td>\n",
              "      <td>-2.18</td>\n",
              "      <td>-0.48</td>\n",
              "      <td>3.75</td>\n",
              "      <td>-0.56</td>\n",
              "      <td>7.19</td>\n",
              "      <td>-1.51</td>\n",
              "      <td>8.94</td>\n",
              "      <td>-7.16</td>\n",
              "      <td>2.14</td>\n",
              "      <td>-10.69</td>\n",
              "      <td>4.20</td>\n",
              "      <td>-2.72</td>\n",
              "      <td>-8.88</td>\n",
              "      <td>14.41</td>\n",
              "      <td>-0.89</td>\n",
              "      <td>-7.12</td>\n",
              "      <td>-0.48</td>\n",
              "      <td>-3.84</td>\n",
              "      <td>1.61</td>\n",
              "      <td>7.53</td>\n",
              "      <td>-7.23</td>\n",
              "      <td>-1.11</td>\n",
              "      <td>-1.25</td>\n",
              "      <td>3.14</td>\n",
              "      <td>-10.04</td>\n",
              "      <td>Down</td>\n",
              "    </tr>\n",
              "    <tr>\n",
              "      <th>1916</th>\n",
              "      <td>-3.72</td>\n",
              "      <td>13.85</td>\n",
              "      <td>17.74</td>\n",
              "      <td>9.41</td>\n",
              "      <td>-2.18</td>\n",
              "      <td>-0.48</td>\n",
              "      <td>3.75</td>\n",
              "      <td>-0.56</td>\n",
              "      <td>7.19</td>\n",
              "      <td>-1.51</td>\n",
              "      <td>8.94</td>\n",
              "      <td>-7.16</td>\n",
              "      <td>2.14</td>\n",
              "      <td>-10.69</td>\n",
              "      <td>4.20</td>\n",
              "      <td>-2.72</td>\n",
              "      <td>-8.88</td>\n",
              "      <td>14.41</td>\n",
              "      <td>-0.89</td>\n",
              "      <td>-7.12</td>\n",
              "      <td>-0.48</td>\n",
              "      <td>-3.84</td>\n",
              "      <td>1.61</td>\n",
              "      <td>7.53</td>\n",
              "      <td>-7.23</td>\n",
              "      <td>-1.11</td>\n",
              "      <td>-1.25</td>\n",
              "      <td>3.14</td>\n",
              "      <td>-10.04</td>\n",
              "      <td>-4.98</td>\n",
              "      <td>Up</td>\n",
              "    </tr>\n",
              "  </tbody>\n",
              "</table>\n",
              "<p>1917 rows × 31 columns</p>\n",
              "</div>"
            ],
            "text/plain": [
              "      Delta30  Delta29  Delta28  Delta27  ...  Delta3  Delta2  Delta1  Target\n",
              "0       12.00    -2.00   -15.97    -0.88  ...  -22.08  -37.88   33.37    Down\n",
              "1       -2.00   -15.97    -0.88    -8.15  ...  -37.88   33.37  -12.91      Up\n",
              "2      -15.97    -0.88    -8.15    -8.13  ...   33.37  -12.91   -4.94    Down\n",
              "3       -0.88    -8.15    -8.13   -14.22  ...  -12.91   -4.94   -8.36    Down\n",
              "4       -8.15    -8.13   -14.22    10.36  ...   -4.94   -8.36  -34.40    Down\n",
              "...       ...      ...      ...      ...  ...     ...     ...     ...     ...\n",
              "1912     5.24    -0.33     1.03    -1.87  ...    7.53   -7.23   -1.11    Down\n",
              "1913    -0.33     1.03    -1.87    -3.72  ...   -7.23   -1.11   -1.25      Up\n",
              "1914     1.03    -1.87    -3.72    13.85  ...   -1.11   -1.25    3.14    Down\n",
              "1915    -1.87    -3.72    13.85    17.74  ...   -1.25    3.14  -10.04    Down\n",
              "1916    -3.72    13.85    17.74     9.41  ...    3.14  -10.04   -4.98      Up\n",
              "\n",
              "[1917 rows x 31 columns]"
            ]
          },
          "metadata": {
            "tags": []
          },
          "execution_count": 8
        }
      ]
    },
    {
      "cell_type": "code",
      "metadata": {
        "id": "hjebmaKl1hgX",
        "colab_type": "code",
        "colab": {}
      },
      "source": [
        "DataMatrix = data.values"
      ],
      "execution_count": 0,
      "outputs": []
    },
    {
      "cell_type": "code",
      "metadata": {
        "id": "ubqlPYzywrhV",
        "colab_type": "code",
        "colab": {
          "base_uri": "https://localhost:8080/",
          "height": 34
        },
        "outputId": "1a523a73-05e1-4144-e949-1ea5f4d0fdf4"
      },
      "source": [
        "DataMatrix.shape"
      ],
      "execution_count": 10,
      "outputs": [
        {
          "output_type": "execute_result",
          "data": {
            "text/plain": [
              "(1917, 31)"
            ]
          },
          "metadata": {
            "tags": []
          },
          "execution_count": 10
        }
      ]
    },
    {
      "cell_type": "code",
      "metadata": {
        "id": "AC4YgYNmzppj",
        "colab_type": "code",
        "colab": {}
      },
      "source": [
        "D = DataMatrix.shape[-1]-1\n",
        "X = DataMatrix[:, :D]\n",
        "X = np.array(X, dtype=np.float32)\n",
        "Y = DataMatrix[:, D:]\n",
        "\n",
        "X_Train = X[:-300,:]\n",
        "Y_Train = Y[:-300,:]\n",
        "X_Vaild = X[-300:-150,:]\n",
        "Y_Vaild = Y[-300:-150,:]\n",
        "X_Test = X[-150:,:]\n",
        "Y_Test = Y[-150:,:]\n"
      ],
      "execution_count": 0,
      "outputs": []
    },
    {
      "cell_type": "code",
      "metadata": {
        "id": "3EC7qa8SxXjw",
        "colab_type": "code",
        "colab": {
          "base_uri": "https://localhost:8080/",
          "height": 823
        },
        "outputId": "3e7ebb72-a843-4558-8907-57dec08b519c"
      },
      "source": [
        "#Learning\n",
        "\n",
        "best_K = KNNC_FIT(X_Train,Y_Train,X_Vaild,Y_Vaild,1,30)"
      ],
      "execution_count": 12,
      "outputs": [
        {
          "output_type": "stream",
          "text": [
            "10\n",
            "\n",
            "K :  10 , error :  42.666666666666664\n",
            "K :  9 , error :  42.666666666666664\n",
            "K :  3 , error :  43.33333333333333\n",
            "K :  6 , error :  44.0\n",
            "K :  7 , error :  44.0\n",
            "K :  5 , error :  44.666666666666664\n",
            "K :  16 , error :  44.666666666666664\n",
            "K :  2 , error :  45.33333333333333\n",
            "K :  12 , error :  46.666666666666664\n",
            "K :  26 , error :  46.666666666666664\n",
            "K :  28 , error :  47.33333333333333\n",
            "K :  8 , error :  47.33333333333333\n",
            "K :  22 , error :  47.33333333333333\n",
            "K :  18 , error :  48.0\n",
            "K :  19 , error :  48.666666666666664\n",
            "K :  11 , error :  48.666666666666664\n",
            "K :  20 , error :  49.33333333333333\n",
            "K :  27 , error :  49.33333333333333\n",
            "K :  15 , error :  49.33333333333333\n",
            "K :  30 , error :  49.33333333333333\n",
            "K :  29 , error :  49.33333333333333\n",
            "K :  24 , error :  50.0\n",
            "K :  14 , error :  50.0\n",
            "K :  4 , error :  50.0\n",
            "K :  21 , error :  50.666666666666664\n",
            "K :  17 , error :  50.666666666666664\n",
            "K :  23 , error :  52.0\n",
            "K :  13 , error :  52.0\n",
            "K :  25 , error :  52.666666666666664\n",
            "K :  1 , error :  52.666666666666664\n"
          ],
          "name": "stdout"
        },
        {
          "output_type": "display_data",
          "data": {
            "image/png": "[encoded data removed]",
            "text/plain": [
              "<Figure size 432x288 with 1 Axes>"
            ]
          },
          "metadata": {
            "tags": [],
            "needs_background": "light"
          }
        }
      ]
    },
    {
      "cell_type": "code",
      "metadata": {
        "id": "wy-Nj36Xzjnn",
        "colab_type": "code",
        "colab": {
          "base_uri": "https://localhost:8080/",
          "height": 34
        },
        "outputId": "9a739bda-b531-4d89-841f-057395e92306"
      },
      "source": [
        "#Predicts\n",
        "\n",
        "Yhat = KNNC_Predict(X_Train,Y_Train,X_Test,best_K)\n",
        "error = find_error_classification_onces(Y_Test,Yhat)\n",
        "print('Error : ' + str(error) + ' %')"
      ],
      "execution_count": 13,
      "outputs": [
        {
          "output_type": "stream",
          "text": [
            "Error : 45.33333333333333 %\n"
          ],
          "name": "stdout"
        }
      ]
    },
    {
      "cell_type": "markdown",
      "metadata": {
        "id": "SB_fpSCE2Wk1",
        "colab_type": "text"
      },
      "source": [
        "Example II : EURUSD Data"
      ]
    },
    {
      "cell_type": "code",
      "metadata": {
        "id": "0763e1o02xD8",
        "colab_type": "code",
        "colab": {
          "resources": {
            "http://localhost:8080/nbextensions/google.colab/files.js": {
              "data": "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",
              "ok": true,
              "headers": [
                [
                  "content-type",
                  "application/javascript"
                ]
              ],
              "status": 200,
              "status_text": ""
            }
          },
          "base_uri": "https://localhost:8080/",
          "height": 71
        },
        "outputId": "3ded01f3-f9aa-4a5f-c8af-a687b0e9c1d2"
      },
      "source": [
        "# Prepare data\n",
        "\n",
        "uploaded = files.upload()"
      ],
      "execution_count": 16,
      "outputs": [
        {
          "output_type": "display_data",
          "data": {
            "text/html": [
              "\n",
              "     <input type=\"file\" id=\"files-1b3ddc55-ec2a-4118-9c5d-b194a04be19d\" name=\"files[]\" multiple disabled />\n",
              "     <output id=\"result-1b3ddc55-ec2a-4118-9c5d-b194a04be19d\">\n",
              "      Upload widget is only available when the cell has been executed in the\n",
              "      current browser session. Please rerun this cell to enable.\n",
              "      </output>\n",
              "      <script src=\"/nbextensions/google.colab/files.js\"></script> "
            ],
            "text/plain": [
              "<IPython.core.display.HTML object>"
            ]
          },
          "metadata": {
            "tags": []
          }
        },
        {
          "output_type": "stream",
          "text": [
            "Saving EURUSD_D1_Dataset_Classification.xlsx to EURUSD_D1_Dataset_Classification (1).xlsx\n"
          ],
          "name": "stdout"
        }
      ]
    },
    {
      "cell_type": "code",
      "metadata": {
        "id": "84fFuPnM20VB",
        "colab_type": "code",
        "colab": {}
      },
      "source": [
        "data = pd.read_excel((uploaded['EURUSD_D1_Dataset_Classification.xlsx']),usecols = 'G:AK')"
      ],
      "execution_count": 0,
      "outputs": []
    },
    {
      "cell_type": "code",
      "metadata": {
        "id": "S9gldcti23nM",
        "colab_type": "code",
        "colab": {
          "base_uri": "https://localhost:8080/",
          "height": 439
        },
        "outputId": "78d6086e-7480-4685-e585-476ecf723f0b"
      },
      "source": [
        "data"
      ],
      "execution_count": 18,
      "outputs": [
        {
          "output_type": "execute_result",
          "data": {
            "text/html": [
              "<div>\n",
              "<style scoped>\n",
              "    .dataframe tbody tr th:only-of-type {\n",
              "        vertical-align: middle;\n",
              "    }\n",
              "\n",
              "    .dataframe tbody tr th {\n",
              "        vertical-align: top;\n",
              "    }\n",
              "\n",
              "    .dataframe thead th {\n",
              "        text-align: right;\n",
              "    }\n",
              "</style>\n",
              "<table border=\"1\" class=\"dataframe\">\n",
              "  <thead>\n",
              "    <tr style=\"text-align: right;\">\n",
              "      <th></th>\n",
              "      <th>Delta30</th>\n",
              "      <th>Delta29</th>\n",
              "      <th>Delta28</th>\n",
              "      <th>Delta27</th>\n",
              "      <th>Delta26</th>\n",
              "      <th>Delta25</th>\n",
              "      <th>Delta24</th>\n",
              "      <th>Delta23</th>\n",
              "      <th>Delta22</th>\n",
              "      <th>Delta21</th>\n",
              "      <th>Delta20</th>\n",
              "      <th>Delta19</th>\n",
              "      <th>Delta18</th>\n",
              "      <th>Delta17</th>\n",
              "      <th>Delta16</th>\n",
              "      <th>Delta15</th>\n",
              "      <th>Delta14</th>\n",
              "      <th>Delta13</th>\n",
              "      <th>Delta12</th>\n",
              "      <th>Delta11</th>\n",
              "      <th>Delta10</th>\n",
              "      <th>Delta9</th>\n",
              "      <th>Delta8</th>\n",
              "      <th>Delta7</th>\n",
              "      <th>Delta6</th>\n",
              "      <th>Delta5</th>\n",
              "      <th>Delta4</th>\n",
              "      <th>Delta3</th>\n",
              "      <th>Delta2</th>\n",
              "      <th>Delta1</th>\n",
              "      <th>Target</th>\n",
              "    </tr>\n",
              "  </thead>\n",
              "  <tbody>\n",
              "    <tr>\n",
              "      <th>0</th>\n",
              "      <td>0.00930</td>\n",
              "      <td>-0.02400</td>\n",
              "      <td>0.02300</td>\n",
              "      <td>0.00750</td>\n",
              "      <td>-0.00010</td>\n",
              "      <td>-0.01060</td>\n",
              "      <td>-0.00320</td>\n",
              "      <td>-0.00730</td>\n",
              "      <td>0.01590</td>\n",
              "      <td>-0.00090</td>\n",
              "      <td>0.00050</td>\n",
              "      <td>-0.01000</td>\n",
              "      <td>0.00030</td>\n",
              "      <td>-0.00630</td>\n",
              "      <td>0.00700</td>\n",
              "      <td>-0.00850</td>\n",
              "      <td>-0.00020</td>\n",
              "      <td>0.00470</td>\n",
              "      <td>-0.00250</td>\n",
              "      <td>-0.01480</td>\n",
              "      <td>0.00240</td>\n",
              "      <td>0.00030</td>\n",
              "      <td>0.00030</td>\n",
              "      <td>-0.00780</td>\n",
              "      <td>0.00970</td>\n",
              "      <td>0.01020</td>\n",
              "      <td>0.00150</td>\n",
              "      <td>-0.00250</td>\n",
              "      <td>0.00050</td>\n",
              "      <td>0.00140</td>\n",
              "      <td>Down</td>\n",
              "    </tr>\n",
              "    <tr>\n",
              "      <th>1</th>\n",
              "      <td>-0.02400</td>\n",
              "      <td>0.02300</td>\n",
              "      <td>0.00750</td>\n",
              "      <td>-0.00010</td>\n",
              "      <td>-0.01060</td>\n",
              "      <td>-0.00320</td>\n",
              "      <td>-0.00730</td>\n",
              "      <td>0.01590</td>\n",
              "      <td>-0.00090</td>\n",
              "      <td>0.00050</td>\n",
              "      <td>-0.01000</td>\n",
              "      <td>0.00030</td>\n",
              "      <td>-0.00630</td>\n",
              "      <td>0.00700</td>\n",
              "      <td>-0.00850</td>\n",
              "      <td>-0.00020</td>\n",
              "      <td>0.00470</td>\n",
              "      <td>-0.00250</td>\n",
              "      <td>-0.01480</td>\n",
              "      <td>0.00240</td>\n",
              "      <td>0.00030</td>\n",
              "      <td>0.00030</td>\n",
              "      <td>-0.00780</td>\n",
              "      <td>0.00970</td>\n",
              "      <td>0.01020</td>\n",
              "      <td>0.00150</td>\n",
              "      <td>-0.00250</td>\n",
              "      <td>0.00050</td>\n",
              "      <td>0.00140</td>\n",
              "      <td>-0.00610</td>\n",
              "      <td>Down</td>\n",
              "    </tr>\n",
              "    <tr>\n",
              "      <th>2</th>\n",
              "      <td>0.02300</td>\n",
              "      <td>0.00750</td>\n",
              "      <td>-0.00010</td>\n",
              "      <td>-0.01060</td>\n",
              "      <td>-0.00320</td>\n",
              "      <td>-0.00730</td>\n",
              "      <td>0.01590</td>\n",
              "      <td>-0.00090</td>\n",
              "      <td>0.00050</td>\n",
              "      <td>-0.01000</td>\n",
              "      <td>0.00030</td>\n",
              "      <td>-0.00630</td>\n",
              "      <td>0.00700</td>\n",
              "      <td>-0.00850</td>\n",
              "      <td>-0.00020</td>\n",
              "      <td>0.00470</td>\n",
              "      <td>-0.00250</td>\n",
              "      <td>-0.01480</td>\n",
              "      <td>0.00240</td>\n",
              "      <td>0.00030</td>\n",
              "      <td>0.00030</td>\n",
              "      <td>-0.00780</td>\n",
              "      <td>0.00970</td>\n",
              "      <td>0.01020</td>\n",
              "      <td>0.00150</td>\n",
              "      <td>-0.00250</td>\n",
              "      <td>0.00050</td>\n",
              "      <td>0.00140</td>\n",
              "      <td>-0.00610</td>\n",
              "      <td>-0.00320</td>\n",
              "      <td>Down</td>\n",
              "    </tr>\n",
              "    <tr>\n",
              "      <th>3</th>\n",
              "      <td>0.00750</td>\n",
              "      <td>-0.00010</td>\n",
              "      <td>-0.01060</td>\n",
              "      <td>-0.00320</td>\n",
              "      <td>-0.00730</td>\n",
              "      <td>0.01590</td>\n",
              "      <td>-0.00090</td>\n",
              "      <td>0.00050</td>\n",
              "      <td>-0.01000</td>\n",
              "      <td>0.00030</td>\n",
              "      <td>-0.00630</td>\n",
              "      <td>0.00700</td>\n",
              "      <td>-0.00850</td>\n",
              "      <td>-0.00020</td>\n",
              "      <td>0.00470</td>\n",
              "      <td>-0.00250</td>\n",
              "      <td>-0.01480</td>\n",
              "      <td>0.00240</td>\n",
              "      <td>0.00030</td>\n",
              "      <td>0.00030</td>\n",
              "      <td>-0.00780</td>\n",
              "      <td>0.00970</td>\n",
              "      <td>0.01020</td>\n",
              "      <td>0.00150</td>\n",
              "      <td>-0.00250</td>\n",
              "      <td>0.00050</td>\n",
              "      <td>0.00140</td>\n",
              "      <td>-0.00610</td>\n",
              "      <td>-0.00320</td>\n",
              "      <td>-0.01060</td>\n",
              "      <td>Up</td>\n",
              "    </tr>\n",
              "    <tr>\n",
              "      <th>4</th>\n",
              "      <td>-0.00010</td>\n",
              "      <td>-0.01060</td>\n",
              "      <td>-0.00320</td>\n",
              "      <td>-0.00730</td>\n",
              "      <td>0.01590</td>\n",
              "      <td>-0.00090</td>\n",
              "      <td>0.00050</td>\n",
              "      <td>-0.01000</td>\n",
              "      <td>0.00030</td>\n",
              "      <td>-0.00630</td>\n",
              "      <td>0.00700</td>\n",
              "      <td>-0.00850</td>\n",
              "      <td>-0.00020</td>\n",
              "      <td>0.00470</td>\n",
              "      <td>-0.00250</td>\n",
              "      <td>-0.01480</td>\n",
              "      <td>0.00240</td>\n",
              "      <td>0.00030</td>\n",
              "      <td>0.00030</td>\n",
              "      <td>-0.00780</td>\n",
              "      <td>0.00970</td>\n",
              "      <td>0.01020</td>\n",
              "      <td>0.00150</td>\n",
              "      <td>-0.00250</td>\n",
              "      <td>0.00050</td>\n",
              "      <td>0.00140</td>\n",
              "      <td>-0.00610</td>\n",
              "      <td>-0.00320</td>\n",
              "      <td>-0.01060</td>\n",
              "      <td>0.00740</td>\n",
              "      <td>Down</td>\n",
              "    </tr>\n",
              "    <tr>\n",
              "      <th>...</th>\n",
              "      <td>...</td>\n",
              "      <td>...</td>\n",
              "      <td>...</td>\n",
              "      <td>...</td>\n",
              "      <td>...</td>\n",
              "      <td>...</td>\n",
              "      <td>...</td>\n",
              "      <td>...</td>\n",
              "      <td>...</td>\n",
              "      <td>...</td>\n",
              "      <td>...</td>\n",
              "      <td>...</td>\n",
              "      <td>...</td>\n",
              "      <td>...</td>\n",
              "      <td>...</td>\n",
              "      <td>...</td>\n",
              "      <td>...</td>\n",
              "      <td>...</td>\n",
              "      <td>...</td>\n",
              "      <td>...</td>\n",
              "      <td>...</td>\n",
              "      <td>...</td>\n",
              "      <td>...</td>\n",
              "      <td>...</td>\n",
              "      <td>...</td>\n",
              "      <td>...</td>\n",
              "      <td>...</td>\n",
              "      <td>...</td>\n",
              "      <td>...</td>\n",
              "      <td>...</td>\n",
              "      <td>...</td>\n",
              "    </tr>\n",
              "    <tr>\n",
              "      <th>5338</th>\n",
              "      <td>-0.00386</td>\n",
              "      <td>-0.00105</td>\n",
              "      <td>-0.00660</td>\n",
              "      <td>0.00072</td>\n",
              "      <td>-0.00236</td>\n",
              "      <td>0.00322</td>\n",
              "      <td>0.00650</td>\n",
              "      <td>0.00774</td>\n",
              "      <td>0.00296</td>\n",
              "      <td>-0.00316</td>\n",
              "      <td>0.00017</td>\n",
              "      <td>0.00007</td>\n",
              "      <td>0.00004</td>\n",
              "      <td>-0.00845</td>\n",
              "      <td>0.00011</td>\n",
              "      <td>-0.00084</td>\n",
              "      <td>0.00065</td>\n",
              "      <td>-0.00582</td>\n",
              "      <td>-0.00118</td>\n",
              "      <td>-0.00068</td>\n",
              "      <td>0.00429</td>\n",
              "      <td>0.00042</td>\n",
              "      <td>0.00155</td>\n",
              "      <td>-0.00123</td>\n",
              "      <td>-0.00484</td>\n",
              "      <td>0.00155</td>\n",
              "      <td>0.00520</td>\n",
              "      <td>-0.00569</td>\n",
              "      <td>-0.00116</td>\n",
              "      <td>-0.00575</td>\n",
              "      <td>Down</td>\n",
              "    </tr>\n",
              "    <tr>\n",
              "      <th>5339</th>\n",
              "      <td>-0.00105</td>\n",
              "      <td>-0.00660</td>\n",
              "      <td>0.00072</td>\n",
              "      <td>-0.00236</td>\n",
              "      <td>0.00322</td>\n",
              "      <td>0.00650</td>\n",
              "      <td>0.00774</td>\n",
              "      <td>0.00296</td>\n",
              "      <td>-0.00316</td>\n",
              "      <td>0.00017</td>\n",
              "      <td>0.00007</td>\n",
              "      <td>0.00004</td>\n",
              "      <td>-0.00845</td>\n",
              "      <td>0.00011</td>\n",
              "      <td>-0.00084</td>\n",
              "      <td>0.00065</td>\n",
              "      <td>-0.00582</td>\n",
              "      <td>-0.00118</td>\n",
              "      <td>-0.00068</td>\n",
              "      <td>0.00429</td>\n",
              "      <td>0.00042</td>\n",
              "      <td>0.00155</td>\n",
              "      <td>-0.00123</td>\n",
              "      <td>-0.00484</td>\n",
              "      <td>0.00155</td>\n",
              "      <td>0.00520</td>\n",
              "      <td>-0.00569</td>\n",
              "      <td>-0.00116</td>\n",
              "      <td>-0.00575</td>\n",
              "      <td>-0.00118</td>\n",
              "      <td>Up</td>\n",
              "    </tr>\n",
              "    <tr>\n",
              "      <th>5340</th>\n",
              "      <td>-0.00660</td>\n",
              "      <td>0.00072</td>\n",
              "      <td>-0.00236</td>\n",
              "      <td>0.00322</td>\n",
              "      <td>0.00650</td>\n",
              "      <td>0.00774</td>\n",
              "      <td>0.00296</td>\n",
              "      <td>-0.00316</td>\n",
              "      <td>0.00017</td>\n",
              "      <td>0.00007</td>\n",
              "      <td>0.00004</td>\n",
              "      <td>-0.00845</td>\n",
              "      <td>0.00011</td>\n",
              "      <td>-0.00084</td>\n",
              "      <td>0.00065</td>\n",
              "      <td>-0.00582</td>\n",
              "      <td>-0.00118</td>\n",
              "      <td>-0.00068</td>\n",
              "      <td>0.00429</td>\n",
              "      <td>0.00042</td>\n",
              "      <td>0.00155</td>\n",
              "      <td>-0.00123</td>\n",
              "      <td>-0.00484</td>\n",
              "      <td>0.00155</td>\n",
              "      <td>0.00520</td>\n",
              "      <td>-0.00569</td>\n",
              "      <td>-0.00116</td>\n",
              "      <td>-0.00575</td>\n",
              "      <td>-0.00118</td>\n",
              "      <td>0.00071</td>\n",
              "      <td>Down</td>\n",
              "    </tr>\n",
              "    <tr>\n",
              "      <th>5341</th>\n",
              "      <td>0.00072</td>\n",
              "      <td>-0.00236</td>\n",
              "      <td>0.00322</td>\n",
              "      <td>0.00650</td>\n",
              "      <td>0.00774</td>\n",
              "      <td>0.00296</td>\n",
              "      <td>-0.00316</td>\n",
              "      <td>0.00017</td>\n",
              "      <td>0.00007</td>\n",
              "      <td>0.00004</td>\n",
              "      <td>-0.00845</td>\n",
              "      <td>0.00011</td>\n",
              "      <td>-0.00084</td>\n",
              "      <td>0.00065</td>\n",
              "      <td>-0.00582</td>\n",
              "      <td>-0.00118</td>\n",
              "      <td>-0.00068</td>\n",
              "      <td>0.00429</td>\n",
              "      <td>0.00042</td>\n",
              "      <td>0.00155</td>\n",
              "      <td>-0.00123</td>\n",
              "      <td>-0.00484</td>\n",
              "      <td>0.00155</td>\n",
              "      <td>0.00520</td>\n",
              "      <td>-0.00569</td>\n",
              "      <td>-0.00116</td>\n",
              "      <td>-0.00575</td>\n",
              "      <td>-0.00118</td>\n",
              "      <td>0.00071</td>\n",
              "      <td>-0.00194</td>\n",
              "      <td>Up</td>\n",
              "    </tr>\n",
              "    <tr>\n",
              "      <th>5342</th>\n",
              "      <td>-0.00236</td>\n",
              "      <td>0.00322</td>\n",
              "      <td>0.00650</td>\n",
              "      <td>0.00774</td>\n",
              "      <td>0.00296</td>\n",
              "      <td>-0.00316</td>\n",
              "      <td>0.00017</td>\n",
              "      <td>0.00007</td>\n",
              "      <td>0.00004</td>\n",
              "      <td>-0.00845</td>\n",
              "      <td>0.00011</td>\n",
              "      <td>-0.00084</td>\n",
              "      <td>0.00065</td>\n",
              "      <td>-0.00582</td>\n",
              "      <td>-0.00118</td>\n",
              "      <td>-0.00068</td>\n",
              "      <td>0.00429</td>\n",
              "      <td>0.00042</td>\n",
              "      <td>0.00155</td>\n",
              "      <td>-0.00123</td>\n",
              "      <td>-0.00484</td>\n",
              "      <td>0.00155</td>\n",
              "      <td>0.00520</td>\n",
              "      <td>-0.00569</td>\n",
              "      <td>-0.00116</td>\n",
              "      <td>-0.00575</td>\n",
              "      <td>-0.00118</td>\n",
              "      <td>0.00071</td>\n",
              "      <td>-0.00194</td>\n",
              "      <td>0.00184</td>\n",
              "      <td>Up</td>\n",
              "    </tr>\n",
              "  </tbody>\n",
              "</table>\n",
              "<p>5343 rows × 31 columns</p>\n",
              "</div>"
            ],
            "text/plain": [
              "      Delta30  Delta29  Delta28  Delta27  ...   Delta3   Delta2   Delta1  Target\n",
              "0     0.00930 -0.02400  0.02300  0.00750  ... -0.00250  0.00050  0.00140    Down\n",
              "1    -0.02400  0.02300  0.00750 -0.00010  ...  0.00050  0.00140 -0.00610    Down\n",
              "2     0.02300  0.00750 -0.00010 -0.01060  ...  0.00140 -0.00610 -0.00320    Down\n",
              "3     0.00750 -0.00010 -0.01060 -0.00320  ... -0.00610 -0.00320 -0.01060      Up\n",
              "4    -0.00010 -0.01060 -0.00320 -0.00730  ... -0.00320 -0.01060  0.00740    Down\n",
              "...       ...      ...      ...      ...  ...      ...      ...      ...     ...\n",
              "5338 -0.00386 -0.00105 -0.00660  0.00072  ... -0.00569 -0.00116 -0.00575    Down\n",
              "5339 -0.00105 -0.00660  0.00072 -0.00236  ... -0.00116 -0.00575 -0.00118      Up\n",
              "5340 -0.00660  0.00072 -0.00236  0.00322  ... -0.00575 -0.00118  0.00071    Down\n",
              "5341  0.00072 -0.00236  0.00322  0.00650  ... -0.00118  0.00071 -0.00194      Up\n",
              "5342 -0.00236  0.00322  0.00650  0.00774  ...  0.00071 -0.00194  0.00184      Up\n",
              "\n",
              "[5343 rows x 31 columns]"
            ]
          },
          "metadata": {
            "tags": []
          },
          "execution_count": 18
        }
      ]
    },
    {
      "cell_type": "code",
      "metadata": {
        "id": "R-hlcyZl23s9",
        "colab_type": "code",
        "colab": {}
      },
      "source": [
        "DataMatrix = data.values"
      ],
      "execution_count": 0,
      "outputs": []
    },
    {
      "cell_type": "code",
      "metadata": {
        "id": "FupfapUj23yZ",
        "colab_type": "code",
        "colab": {
          "base_uri": "https://localhost:8080/",
          "height": 34
        },
        "outputId": "e150498f-3820-4128-96dc-8ce6e93d2c4b"
      },
      "source": [
        "DataMatrix.shape"
      ],
      "execution_count": 20,
      "outputs": [
        {
          "output_type": "execute_result",
          "data": {
            "text/plain": [
              "(5343, 31)"
            ]
          },
          "metadata": {
            "tags": []
          },
          "execution_count": 20
        }
      ]
    },
    {
      "cell_type": "code",
      "metadata": {
        "id": "lRk8_E7a2-DN",
        "colab_type": "code",
        "colab": {}
      },
      "source": [
        "D = DataMatrix.shape[-1]-1\n",
        "X = DataMatrix[:, :D]\n",
        "X = np.array(X, dtype=np.float32)\n",
        "Y = DataMatrix[:, D:]\n",
        "\n",
        "X_Train = X[3000:-100,:]\n",
        "Y_Train = Y[3000:-100,:]\n",
        "X_Vaild = X[-100:-50,:]\n",
        "Y_Vaild = Y[-100:-50,:]\n",
        "X_Test = X[-50:,:]\n",
        "Y_Test = Y[-50:,:]"
      ],
      "execution_count": 0,
      "outputs": []
    },
    {
      "cell_type": "code",
      "metadata": {
        "id": "qa6Ye4pb3xsL",
        "colab_type": "code",
        "colab": {
          "base_uri": "https://localhost:8080/",
          "height": 823
        },
        "outputId": "9c0d35a7-a93b-4eb5-faa5-6d3cb21ff525"
      },
      "source": [
        "#Learning\n",
        "\n",
        "best_K = KNNC_FIT(X_Train,Y_Train,X_Vaild,Y_Vaild,1,30)"
      ],
      "execution_count": 22,
      "outputs": [
        {
          "output_type": "stream",
          "text": [
            "5\n",
            "\n",
            "K :  5 , error :  40.0\n",
            "K :  23 , error :  40.0\n",
            "K :  1 , error :  42.0\n",
            "K :  25 , error :  42.0\n",
            "K :  22 , error :  42.0\n",
            "K :  21 , error :  42.0\n",
            "K :  2 , error :  44.0\n",
            "K :  3 , error :  44.0\n",
            "K :  24 , error :  44.0\n",
            "K :  20 , error :  44.0\n",
            "K :  19 , error :  44.0\n",
            "K :  28 , error :  46.0\n",
            "K :  27 , error :  46.0\n",
            "K :  26 , error :  46.0\n",
            "K :  18 , error :  46.0\n",
            "K :  30 , error :  46.0\n",
            "K :  29 , error :  46.0\n",
            "K :  6 , error :  46.0\n",
            "K :  4 , error :  46.0\n",
            "K :  17 , error :  48.0\n",
            "K :  8 , error :  48.0\n",
            "K :  7 , error :  48.0\n",
            "K :  16 , error :  48.0\n",
            "K :  9 , error :  50.0\n",
            "K :  15 , error :  50.0\n",
            "K :  12 , error :  52.0\n",
            "K :  11 , error :  52.0\n",
            "K :  10 , error :  52.0\n",
            "K :  14 , error :  54.0\n",
            "K :  13 , error :  54.0\n"
          ],
          "name": "stdout"
        },
        {
          "output_type": "display_data",
          "data": {
            "image/png": "[encoded data removed]",
            "text/plain": [
              "<Figure size 432x288 with 1 Axes>"
            ]
          },
          "metadata": {
            "tags": [],
            "needs_background": "light"
          }
        }
      ]
    },
    {
      "cell_type": "code",
      "metadata": {
        "id": "fO9eFi29314E",
        "colab_type": "code",
        "colab": {
          "base_uri": "https://localhost:8080/",
          "height": 34
        },
        "outputId": "76011bb7-8d5b-41e4-d235-bf25aef190d6"
      },
      "source": [
        "#Predicts\n",
        "\n",
        "Yhat = KNNC_Predict(X_Train,Y_Train,X_Test,best_K)\n",
        "error = find_error_classification_onces(Y_Test,Yhat)\n",
        "print('Error : ' + str(error) + ' %')"
      ],
      "execution_count": 23,
      "outputs": [
        {
          "output_type": "stream",
          "text": [
            "Error : 58.0 %\n"
          ],
          "name": "stdout"
        }
      ]
    },
    {
      "cell_type": "markdown",
      "metadata": {
        "id": "FkXYDRCY4Vd4",
        "colab_type": "text"
      },
      "source": [
        "Example III : BMI Data"
      ]
    },
    {
      "cell_type": "code",
      "metadata": {
        "id": "un87zw4U4eB_",
        "colab_type": "code",
        "colab": {
          "resources": {
            "http://localhost:8080/nbextensions/google.colab/files.js": {
              "data": "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",
              "ok": true,
              "headers": [
                [
                  "content-type",
                  "application/javascript"
                ]
              ],
              "status": 200,
              "status_text": ""
            }
          },
          "base_uri": "https://localhost:8080/",
          "height": 71
        },
        "outputId": "6b6dfcd5-0904-41e5-81e3-348913869e75"
      },
      "source": [
        "# Prepare data\n",
        "\n",
        "uploaded = files.upload()"
      ],
      "execution_count": 24,
      "outputs": [
        {
          "output_type": "display_data",
          "data": {
            "text/html": [
              "\n",
              "     <input type=\"file\" id=\"files-290c4a7e-0133-4266-baf1-b3b96f2e9859\" name=\"files[]\" multiple disabled />\n",
              "     <output id=\"result-290c4a7e-0133-4266-baf1-b3b96f2e9859\">\n",
              "      Upload widget is only available when the cell has been executed in the\n",
              "      current browser session. Please rerun this cell to enable.\n",
              "      </output>\n",
              "      <script src=\"/nbextensions/google.colab/files.js\"></script> "
            ],
            "text/plain": [
              "<IPython.core.display.HTML object>"
            ]
          },
          "metadata": {
            "tags": []
          }
        },
        {
          "output_type": "stream",
          "text": [
            "Saving BMI_Dataset_Classification.xlsx to BMI_Dataset_Classification (1).xlsx\n"
          ],
          "name": "stdout"
        }
      ]
    },
    {
      "cell_type": "code",
      "metadata": {
        "id": "Td_ie0Es4eJt",
        "colab_type": "code",
        "colab": {}
      },
      "source": [
        "data = pd.read_excel((uploaded['BMI_Dataset_Classification.xlsx']))"
      ],
      "execution_count": 0,
      "outputs": []
    },
    {
      "cell_type": "code",
      "metadata": {
        "id": "DcNgqCPB4eR2",
        "colab_type": "code",
        "colab": {
          "base_uri": "https://localhost:8080/",
          "height": 419
        },
        "outputId": "7eb51a3a-472e-4743-a1a4-3fe8234d5acb"
      },
      "source": [
        "data"
      ],
      "execution_count": 26,
      "outputs": [
        {
          "output_type": "execute_result",
          "data": {
            "text/html": [
              "<div>\n",
              "<style scoped>\n",
              "    .dataframe tbody tr th:only-of-type {\n",
              "        vertical-align: middle;\n",
              "    }\n",
              "\n",
              "    .dataframe tbody tr th {\n",
              "        vertical-align: top;\n",
              "    }\n",
              "\n",
              "    .dataframe thead th {\n",
              "        text-align: right;\n",
              "    }\n",
              "</style>\n",
              "<table border=\"1\" class=\"dataframe\">\n",
              "  <thead>\n",
              "    <tr style=\"text-align: right;\">\n",
              "      <th></th>\n",
              "      <th>Weight</th>\n",
              "      <th>Height</th>\n",
              "      <th>Target</th>\n",
              "    </tr>\n",
              "  </thead>\n",
              "  <tbody>\n",
              "    <tr>\n",
              "      <th>0</th>\n",
              "      <td>66.17</td>\n",
              "      <td>185.21</td>\n",
              "      <td>normal</td>\n",
              "    </tr>\n",
              "    <tr>\n",
              "      <th>1</th>\n",
              "      <td>71.27</td>\n",
              "      <td>168.91</td>\n",
              "      <td>fat lv3</td>\n",
              "    </tr>\n",
              "    <tr>\n",
              "      <th>2</th>\n",
              "      <td>73.17</td>\n",
              "      <td>179.83</td>\n",
              "      <td>normal</td>\n",
              "    </tr>\n",
              "    <tr>\n",
              "      <th>3</th>\n",
              "      <td>81.74</td>\n",
              "      <td>171.76</td>\n",
              "      <td>fat lv2</td>\n",
              "    </tr>\n",
              "    <tr>\n",
              "      <th>4</th>\n",
              "      <td>92.97</td>\n",
              "      <td>172.89</td>\n",
              "      <td>fat lv3</td>\n",
              "    </tr>\n",
              "    <tr>\n",
              "      <th>...</th>\n",
              "      <td>...</td>\n",
              "      <td>...</td>\n",
              "      <td>...</td>\n",
              "    </tr>\n",
              "    <tr>\n",
              "      <th>995</th>\n",
              "      <td>63.24</td>\n",
              "      <td>141.45</td>\n",
              "      <td>fat lv3</td>\n",
              "    </tr>\n",
              "    <tr>\n",
              "      <th>996</th>\n",
              "      <td>47.55</td>\n",
              "      <td>166.64</td>\n",
              "      <td>thin</td>\n",
              "    </tr>\n",
              "    <tr>\n",
              "      <th>997</th>\n",
              "      <td>68.10</td>\n",
              "      <td>168.52</td>\n",
              "      <td>fat lv1</td>\n",
              "    </tr>\n",
              "    <tr>\n",
              "      <th>998</th>\n",
              "      <td>74.39</td>\n",
              "      <td>169.24</td>\n",
              "      <td>fat lv2</td>\n",
              "    </tr>\n",
              "    <tr>\n",
              "      <th>999</th>\n",
              "      <td>65.95</td>\n",
              "      <td>174.37</td>\n",
              "      <td>normal</td>\n",
              "    </tr>\n",
              "  </tbody>\n",
              "</table>\n",
              "<p>1000 rows × 3 columns</p>\n",
              "</div>"
            ],
            "text/plain": [
              "     Weight  Height   Target\n",
              "0     66.17  185.21   normal\n",
              "1     71.27  168.91  fat lv3\n",
              "2     73.17  179.83   normal\n",
              "3     81.74  171.76  fat lv2\n",
              "4     92.97  172.89  fat lv3\n",
              "..      ...     ...      ...\n",
              "995   63.24  141.45  fat lv3\n",
              "996   47.55  166.64     thin\n",
              "997   68.10  168.52  fat lv1\n",
              "998   74.39  169.24  fat lv2\n",
              "999   65.95  174.37   normal\n",
              "\n",
              "[1000 rows x 3 columns]"
            ]
          },
          "metadata": {
            "tags": []
          },
          "execution_count": 26
        }
      ]
    },
    {
      "cell_type": "code",
      "metadata": {
        "id": "77gFXP8G4qzA",
        "colab_type": "code",
        "colab": {}
      },
      "source": [
        "DataMatrix = data.values"
      ],
      "execution_count": 0,
      "outputs": []
    },
    {
      "cell_type": "code",
      "metadata": {
        "id": "E-HI8yDj4q3q",
        "colab_type": "code",
        "colab": {
          "base_uri": "https://localhost:8080/",
          "height": 34
        },
        "outputId": "b2250ea6-b716-4bdc-a959-11bf7b8bf5fb"
      },
      "source": [
        "DataMatrix.shape"
      ],
      "execution_count": 28,
      "outputs": [
        {
          "output_type": "execute_result",
          "data": {
            "text/plain": [
              "(1000, 3)"
            ]
          },
          "metadata": {
            "tags": []
          },
          "execution_count": 28
        }
      ]
    },
    {
      "cell_type": "code",
      "metadata": {
        "id": "o7R6o11Y4q6d",
        "colab_type": "code",
        "colab": {}
      },
      "source": [
        "D = DataMatrix.shape[-1]-1\n",
        "X = DataMatrix[:, :D]\n",
        "X = np.array(X, dtype=np.float32)\n",
        "Y = DataMatrix[:, D:]\n",
        "\n",
        "X_Train = X[:800,:]\n",
        "Y_Train = Y[:800,:]\n",
        "X_Vaild = X[800:900,:]\n",
        "Y_Vaild = Y[800:900,:]\n",
        "X_Test = X[900:,:]\n",
        "Y_Test = Y[900:,:]"
      ],
      "execution_count": 0,
      "outputs": []
    },
    {
      "cell_type": "code",
      "metadata": {
        "id": "Cg0Z82V94rAF",
        "colab_type": "code",
        "colab": {
          "base_uri": "https://localhost:8080/",
          "height": 823
        },
        "outputId": "b9c10f60-013c-42c2-877f-883f673da38c"
      },
      "source": [
        "#Learning\n",
        "\n",
        "best_K = KNNC_FIT(X_Train,Y_Train,X_Vaild,Y_Vaild,1,30)"
      ],
      "execution_count": 32,
      "outputs": [
        {
          "output_type": "stream",
          "text": [
            "2\n",
            "\n",
            "K :  2 , error :  5.0\n",
            "K :  6 , error :  5.0\n",
            "K :  7 , error :  5.0\n",
            "K :  1 , error :  6.0\n",
            "K :  4 , error :  6.0\n",
            "K :  12 , error :  6.0\n",
            "K :  3 , error :  7.0\n",
            "K :  8 , error :  7.0\n",
            "K :  9 , error :  7.0\n",
            "K :  10 , error :  7.0\n",
            "K :  11 , error :  7.0\n",
            "K :  13 , error :  7.0\n",
            "K :  14 , error :  7.0\n",
            "K :  16 , error :  8.0\n",
            "K :  15 , error :  8.0\n",
            "K :  5 , error :  8.0\n",
            "K :  17 , error :  9.0\n",
            "K :  18 , error :  9.0\n",
            "K :  19 , error :  9.0\n",
            "K :  20 , error :  9.0\n",
            "K :  22 , error :  9.0\n",
            "K :  23 , error :  9.0\n",
            "K :  26 , error :  9.0\n",
            "K :  21 , error :  10.0\n",
            "K :  24 , error :  10.0\n",
            "K :  25 , error :  10.0\n",
            "K :  30 , error :  10.0\n",
            "K :  27 , error :  11.0\n",
            "K :  28 , error :  11.0\n",
            "K :  29 , error :  11.0\n"
          ],
          "name": "stdout"
        },
        {
          "output_type": "display_data",
          "data": {
            "image/png": "[encoded data removed]",
            "text/plain": [
              "<Figure size 432x288 with 1 Axes>"
            ]
          },
          "metadata": {
            "tags": [],
            "needs_background": "light"
          }
        }
      ]
    },
    {
      "cell_type": "code",
      "metadata": {
        "id": "1cclczSE4rEC",
        "colab_type": "code",
        "colab": {
          "base_uri": "https://localhost:8080/",
          "height": 34
        },
        "outputId": "07b3f386-1ea9-429b-e732-3ed5bb5bc7fa"
      },
      "source": [
        "#Predicts\n",
        "\n",
        "Yhat = KNNC_Predict(X_Train,Y_Train,X_Test,best_K)\n",
        "error = find_error_classification_onces(Y_Test,Yhat)\n",
        "print('Error : ' + str(error) + ' %')"
      ],
      "execution_count": 33,
      "outputs": [
        {
          "output_type": "stream",
          "text": [
            "Error : 12.0 %\n"
          ],
          "name": "stdout"
        }
      ]
    },
    {
      "cell_type": "code",
      "metadata": {
        "id": "Pg2kKRf34rHR",
        "colab_type": "code",
        "colab": {
          "base_uri": "https://localhost:8080/",
          "height": 255
        },
        "outputId": "414c00e8-297d-46a3-f938-b7f24d6c26b0"
      },
      "source": [
        "print(pd.DataFrame(Yhat,Y_Test))"
      ],
      "execution_count": 34,
      "outputs": [
        {
          "output_type": "stream",
          "text": [
            "                  0\n",
            "(fat lv1,)  fat lv1\n",
            "(normal,)    normal\n",
            "(normal,)   fat lv1\n",
            "(normal,)    normal\n",
            "(normal,)    normal\n",
            "...             ...\n",
            "(fat lv3,)  fat lv2\n",
            "(thin,)        thin\n",
            "(fat lv1,)  fat lv1\n",
            "(fat lv2,)  fat lv2\n",
            "(normal,)    normal\n",
            "\n",
            "[100 rows x 1 columns]\n"
          ],
          "name": "stdout"
        }
      ]
    },
    {
      "cell_type": "markdown",
      "metadata": {
        "id": "kSyD7VkWaJV4",
        "colab_type": "text"
      },
      "source": [
        "# **K-Neartest Neighbor : Regression**"
      ]
    },
    {
      "cell_type": "code",
      "metadata": {
        "id": "jyvzEgd7aP0x",
        "colab_type": "code",
        "colab": {}
      },
      "source": [
        "#import library\n",
        "\n",
        "import numpy as np\n",
        "import pandas as pd\n",
        "import matplotlib.pyplot as plt\n",
        "import io\n"
      ],
      "execution_count": 0,
      "outputs": []
    },
    {
      "cell_type": "code",
      "metadata": {
        "id": "BmxT0RqSzR14",
        "colab_type": "code",
        "colab": {}
      },
      "source": [
        "# write Fuction\n",
        "\n",
        "def minmax4norm(Data):\n",
        "  _min = Data.min(axis = 0,keepdims = True)\n",
        "  _max = Data.max(axis = 0,keepdims = True)\n",
        "\n",
        "  return _min,_max\n",
        "\n",
        "def minmaxNorm(Data,_min,_max):\n",
        "  x_norm = (Data - _min)/(_max - _min)\n",
        "\n",
        "  return x_norm\n",
        "\n",
        "def KNN_Dis(X_Train,X_Vaild):\n",
        "  all_dis = []\n",
        "\n",
        "  for X_V in X_Vaild:\n",
        "    dis = ((X_Train - X_V)**2).sum(axis = 1)\n",
        "    dis = np.sqrt(dis)\n",
        "    all_dis.append(dis)\n",
        "  return (np.array(all_dis))\n",
        "\n",
        "def KNN_Sort(Y_Train,all_dis):\n",
        "  all_sorted_traget = []\n",
        "  for dis in all_dis:\n",
        "    sorted_target = Y_Train[dis.argsort()]\n",
        "    all_sorted_traget.append(sorted_target)\n",
        "  return np.array(all_sorted_traget)\n",
        "\n",
        "def KNN_FindClass(all_sorted_traget,K):\n",
        "  all_class = []\n",
        "  for sorted_target in all_sorted_traget:\n",
        "    value = sorted_target[:K, :].mean()\n",
        "    all_class.append(value)\n",
        "  return np.array(all_class).reshape(-1,1)\n",
        "\n",
        "def KNN_findError_all(Y_Vaild,all_sorted_traget,min_K,max_K):\n",
        "  error_list = []\n",
        "  K_list = [i for i in range(min_K,max_K+1)]\n",
        "  for K in K_list:\n",
        "    Yhat = KNN_FindClass(all_sorted_traget,K)\n",
        "    K_error = find_error_MAE_onces(Y_Vaild,Yhat)\n",
        "    error_list.append(K_error)\n",
        "  return error_list,K_list\n",
        "\n",
        "def find_error_MAE_onces(Y, Yhat):\n",
        "    N = Y.shape[0]\n",
        "    error = (np.abs(Y-Yhat)).sum()/N\n",
        "    return error\n",
        "\n",
        "def KNN_best_K(K_list,error_list):\n",
        "  K_list = np.array(K_list)\n",
        "  error_list = np.array(error_list)\n",
        "  plt.plot(K_list,error_list)\n",
        "  plt.xlabel('K'),\n",
        "  plt.ylabel('Error')\n",
        "\n",
        "  sorted_K = K_list[error_list.argsort()]\n",
        "  error_list.sort()\n",
        "  best_K = sorted_K[0]\n",
        "  print(best_K)\n",
        "  print()\n",
        "  for i in range(len(K_list)):\n",
        "    print('K : ',sorted_K[i],', error : ',error_list[i])\n",
        "  return best_K\n",
        "\n",
        "def KNNR_FIT(X_Train,Y_Train,X_Valid,Y_Valid,min_K,max_K):\n",
        "  min_Train,max_Train = minmax4norm(X_Train)\n",
        "  X_norm_Train = minmaxNorm(X_Train,min_Train,max_Train)\n",
        "  X_norm_Vaild = minmaxNorm(X_Valid,min_Train,max_Train)\n",
        "  dis = KNN_Dis(X_norm_Train,X_norm_Vaild)\n",
        "  Sorted_Target = KNN_Sort(Y_Train,dis)\n",
        "  error,K_list = KNN_findError_all(Y_Valid,Sorted_Target,min_K,max_K)\n",
        "  best_K = KNN_best_K(K_list, error)\n",
        "\n",
        "  return best_K\n",
        "\n",
        "def KNNR_predict(X_Train,Y_Train,X_Test,bestK):\n",
        "  min_Train,max_Train = minmax4norm(X_Train)\n",
        "  X_norm_Train = minmaxNorm(X_Train,min_Train,max_Train)\n",
        "  X_norm_Test = minmaxNorm(X_Test,min_Train,max_Train)\n",
        "  dis = KNN_Dis(X_norm_Train,X_norm_Test)\n",
        "  Sorted_Target = KNN_Sort(Y_Train,dis)\n",
        "  Yhat = KNN_FindClass(Sorted_Target,bestK)\n",
        "\n",
        "  return Yhat"
      ],
      "execution_count": 0,
      "outputs": []
    },
    {
      "cell_type": "markdown",
      "metadata": {
        "id": "9ssv4VoI7P9v",
        "colab_type": "text"
      },
      "source": [
        "Example I : SET50 Data"
      ]
    },
    {
      "cell_type": "code",
      "metadata": {
        "id": "9CRhIc5cLBO6",
        "colab_type": "code",
        "colab": {
          "resources": {
            "http://localhost:8080/nbextensions/google.colab/files.js": {
              "data": "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",
              "ok": true,
              "headers": [
                [
                  "content-type",
                  "application/javascript"
                ]
              ],
              "status": 200,
              "status_text": ""
            }
          },
          "base_uri": "https://localhost:8080/",
          "height": 71
        },
        "outputId": "dcf1dd9b-f7ad-4ed2-ebfc-f959386a09f0"
      },
      "source": [
        "# Prepare data\n",
        "\n",
        "from google.colab import files\n",
        "uploaded = files.upload()"
      ],
      "execution_count": 37,
      "outputs": [
        {
          "output_type": "display_data",
          "data": {
            "text/html": [
              "\n",
              "     <input type=\"file\" id=\"files-ba0d479f-5d4e-4ea7-9a3e-ba2ce7e53917\" name=\"files[]\" multiple disabled />\n",
              "     <output id=\"result-ba0d479f-5d4e-4ea7-9a3e-ba2ce7e53917\">\n",
              "      Upload widget is only available when the cell has been executed in the\n",
              "      current browser session. Please rerun this cell to enable.\n",
              "      </output>\n",
              "      <script src=\"/nbextensions/google.colab/files.js\"></script> "
            ],
            "text/plain": [
              "<IPython.core.display.HTML object>"
            ]
          },
          "metadata": {
            "tags": []
          }
        },
        {
          "output_type": "stream",
          "text": [
            "Saving SET50_D1_Dataset_Regression.xlsx to SET50_D1_Dataset_Regression.xlsx\n"
          ],
          "name": "stdout"
        }
      ]
    },
    {
      "cell_type": "code",
      "metadata": {
        "id": "UEETiPUWLBjp",
        "colab_type": "code",
        "colab": {}
      },
      "source": [
        "data = pd.read_excel((uploaded['SET50_D1_Dataset_Regression.xlsx']),usecols = 'N:AD', skiprows = range(5))"
      ],
      "execution_count": 0,
      "outputs": []
    },
    {
      "cell_type": "code",
      "metadata": {
        "id": "mwv7UZGNLBnv",
        "colab_type": "code",
        "colab": {
          "base_uri": "https://localhost:8080/",
          "height": 456
        },
        "outputId": "b24fd76e-63de-4b98-99fd-70c6a16a15c4"
      },
      "source": [
        "data"
      ],
      "execution_count": 39,
      "outputs": [
        {
          "output_type": "execute_result",
          "data": {
            "text/html": [
              "<div>\n",
              "<style scoped>\n",
              "    .dataframe tbody tr th:only-of-type {\n",
              "        vertical-align: middle;\n",
              "    }\n",
              "\n",
              "    .dataframe tbody tr th {\n",
              "        vertical-align: top;\n",
              "    }\n",
              "\n",
              "    .dataframe thead th {\n",
              "        text-align: right;\n",
              "    }\n",
              "</style>\n",
              "<table border=\"1\" class=\"dataframe\">\n",
              "  <thead>\n",
              "    <tr style=\"text-align: right;\">\n",
              "      <th></th>\n",
              "      <th>Unnamed: 13</th>\n",
              "      <th>Unnamed: 14</th>\n",
              "      <th>Unnamed: 15</th>\n",
              "      <th>Unnamed: 16</th>\n",
              "      <th>Unnamed: 17</th>\n",
              "      <th>Unnamed: 18</th>\n",
              "      <th>Unnamed: 19</th>\n",
              "      <th>Unnamed: 20</th>\n",
              "      <th>Unnamed: 21</th>\n",
              "      <th>Unnamed: 22</th>\n",
              "      <th>Unnamed: 23</th>\n",
              "      <th>Unnamed: 24</th>\n",
              "      <th>Unnamed: 25</th>\n",
              "      <th>Unnamed: 26</th>\n",
              "      <th>Unnamed: 27</th>\n",
              "      <th>Unnamed: 28</th>\n",
              "      <th>Unnamed: 29</th>\n",
              "    </tr>\n",
              "  </thead>\n",
              "  <tbody>\n",
              "    <tr>\n",
              "      <th>0</th>\n",
              "      <td>759.93</td>\n",
              "      <td>762.55</td>\n",
              "      <td>768.51</td>\n",
              "      <td>751.14</td>\n",
              "      <td>742.53</td>\n",
              "      <td>748.83</td>\n",
              "      <td>754.04</td>\n",
              "      <td>757.87</td>\n",
              "      <td>740.64</td>\n",
              "      <td>729.07</td>\n",
              "      <td>756.932000</td>\n",
              "      <td>746.090000</td>\n",
              "      <td>766.406621</td>\n",
              "      <td>734.925379</td>\n",
              "      <td>741.96</td>\n",
              "      <td>742.98</td>\n",
              "      <td>732.56</td>\n",
              "    </tr>\n",
              "    <tr>\n",
              "      <th>1</th>\n",
              "      <td>762.55</td>\n",
              "      <td>768.51</td>\n",
              "      <td>751.14</td>\n",
              "      <td>742.53</td>\n",
              "      <td>742.98</td>\n",
              "      <td>754.04</td>\n",
              "      <td>757.87</td>\n",
              "      <td>740.64</td>\n",
              "      <td>729.07</td>\n",
              "      <td>732.56</td>\n",
              "      <td>757.931333</td>\n",
              "      <td>747.003333</td>\n",
              "      <td>768.542569</td>\n",
              "      <td>726.789431</td>\n",
              "      <td>731.89</td>\n",
              "      <td>736.78</td>\n",
              "      <td>720.78</td>\n",
              "    </tr>\n",
              "    <tr>\n",
              "      <th>2</th>\n",
              "      <td>768.51</td>\n",
              "      <td>751.14</td>\n",
              "      <td>742.53</td>\n",
              "      <td>742.98</td>\n",
              "      <td>736.78</td>\n",
              "      <td>757.87</td>\n",
              "      <td>740.64</td>\n",
              "      <td>729.07</td>\n",
              "      <td>732.56</td>\n",
              "      <td>720.78</td>\n",
              "      <td>759.470889</td>\n",
              "      <td>749.348889</td>\n",
              "      <td>762.679597</td>\n",
              "      <td>718.600403</td>\n",
              "      <td>733.97</td>\n",
              "      <td>734.06</td>\n",
              "      <td>711.48</td>\n",
              "    </tr>\n",
              "    <tr>\n",
              "      <th>3</th>\n",
              "      <td>751.14</td>\n",
              "      <td>742.53</td>\n",
              "      <td>742.98</td>\n",
              "      <td>736.78</td>\n",
              "      <td>734.06</td>\n",
              "      <td>740.64</td>\n",
              "      <td>729.07</td>\n",
              "      <td>732.56</td>\n",
              "      <td>720.78</td>\n",
              "      <td>711.48</td>\n",
              "      <td>762.483926</td>\n",
              "      <td>752.189259</td>\n",
              "      <td>754.463000</td>\n",
              "      <td>707.877000</td>\n",
              "      <td>704.12</td>\n",
              "      <td>722.01</td>\n",
              "      <td>702.83</td>\n",
              "    </tr>\n",
              "    <tr>\n",
              "      <th>4</th>\n",
              "      <td>742.53</td>\n",
              "      <td>742.98</td>\n",
              "      <td>736.78</td>\n",
              "      <td>734.06</td>\n",
              "      <td>722.01</td>\n",
              "      <td>729.07</td>\n",
              "      <td>732.56</td>\n",
              "      <td>720.78</td>\n",
              "      <td>711.48</td>\n",
              "      <td>702.83</td>\n",
              "      <td>758.702617</td>\n",
              "      <td>748.339506</td>\n",
              "      <td>747.755026</td>\n",
              "      <td>706.176974</td>\n",
              "      <td>726.28</td>\n",
              "      <td>738.16</td>\n",
              "      <td>721.45</td>\n",
              "    </tr>\n",
              "    <tr>\n",
              "      <th>...</th>\n",
              "      <td>...</td>\n",
              "      <td>...</td>\n",
              "      <td>...</td>\n",
              "      <td>...</td>\n",
              "      <td>...</td>\n",
              "      <td>...</td>\n",
              "      <td>...</td>\n",
              "      <td>...</td>\n",
              "      <td>...</td>\n",
              "      <td>...</td>\n",
              "      <td>...</td>\n",
              "      <td>...</td>\n",
              "      <td>...</td>\n",
              "      <td>...</td>\n",
              "      <td>...</td>\n",
              "      <td>...</td>\n",
              "      <td>...</td>\n",
              "    </tr>\n",
              "    <tr>\n",
              "      <th>1939</th>\n",
              "      <td>1142.74</td>\n",
              "      <td>1150.79</td>\n",
              "      <td>1147.59</td>\n",
              "      <td>1144.44</td>\n",
              "      <td>1143.30</td>\n",
              "      <td>1140.37</td>\n",
              "      <td>1147.90</td>\n",
              "      <td>1140.67</td>\n",
              "      <td>1139.56</td>\n",
              "      <td>1138.31</td>\n",
              "      <td>1149.911738</td>\n",
              "      <td>1142.919465</td>\n",
              "      <td>1145.543309</td>\n",
              "      <td>1129.896691</td>\n",
              "      <td>1139.65</td>\n",
              "      <td>1143.38</td>\n",
              "      <td>1141.45</td>\n",
              "    </tr>\n",
              "    <tr>\n",
              "      <th>1940</th>\n",
              "      <td>1150.79</td>\n",
              "      <td>1147.59</td>\n",
              "      <td>1144.44</td>\n",
              "      <td>1143.30</td>\n",
              "      <td>1143.38</td>\n",
              "      <td>1147.90</td>\n",
              "      <td>1140.67</td>\n",
              "      <td>1139.56</td>\n",
              "      <td>1138.31</td>\n",
              "      <td>1141.45</td>\n",
              "      <td>1147.521159</td>\n",
              "      <td>1142.069643</td>\n",
              "      <td>1145.660505</td>\n",
              "      <td>1130.611495</td>\n",
              "      <td>1139.82</td>\n",
              "      <td>1140.47</td>\n",
              "      <td>1131.41</td>\n",
              "    </tr>\n",
              "    <tr>\n",
              "      <th>1941</th>\n",
              "      <td>1147.59</td>\n",
              "      <td>1144.44</td>\n",
              "      <td>1143.30</td>\n",
              "      <td>1143.38</td>\n",
              "      <td>1140.47</td>\n",
              "      <td>1140.67</td>\n",
              "      <td>1139.56</td>\n",
              "      <td>1138.31</td>\n",
              "      <td>1141.45</td>\n",
              "      <td>1131.41</td>\n",
              "      <td>1148.610773</td>\n",
              "      <td>1144.013096</td>\n",
              "      <td>1141.221154</td>\n",
              "      <td>1128.550846</td>\n",
              "      <td>1132.37</td>\n",
              "      <td>1135.14</td>\n",
              "      <td>1126.43</td>\n",
              "    </tr>\n",
              "    <tr>\n",
              "      <th>1942</th>\n",
              "      <td>1144.44</td>\n",
              "      <td>1143.30</td>\n",
              "      <td>1143.38</td>\n",
              "      <td>1140.47</td>\n",
              "      <td>1135.14</td>\n",
              "      <td>1139.56</td>\n",
              "      <td>1138.31</td>\n",
              "      <td>1141.45</td>\n",
              "      <td>1131.41</td>\n",
              "      <td>1126.43</td>\n",
              "      <td>1148.270515</td>\n",
              "      <td>1142.898730</td>\n",
              "      <td>1141.895991</td>\n",
              "      <td>1122.544009</td>\n",
              "      <td>1124.85</td>\n",
              "      <td>1134.54</td>\n",
              "      <td>1130.92</td>\n",
              "    </tr>\n",
              "    <tr>\n",
              "      <th>1943</th>\n",
              "      <td>1143.30</td>\n",
              "      <td>1143.38</td>\n",
              "      <td>1140.47</td>\n",
              "      <td>1135.14</td>\n",
              "      <td>1134.54</td>\n",
              "      <td>1138.31</td>\n",
              "      <td>1141.45</td>\n",
              "      <td>1131.41</td>\n",
              "      <td>1126.43</td>\n",
              "      <td>1130.92</td>\n",
              "      <td>1146.993677</td>\n",
              "      <td>1141.785820</td>\n",
              "      <td>1140.798877</td>\n",
              "      <td>1118.993123</td>\n",
              "      <td>1126.28</td>\n",
              "      <td>1128.70</td>\n",
              "      <td>1124.54</td>\n",
              "    </tr>\n",
              "  </tbody>\n",
              "</table>\n",
              "<p>1944 rows × 17 columns</p>\n",
              "</div>"
            ],
            "text/plain": [
              "      Unnamed: 13  Unnamed: 14  ...  Unnamed: 28  Unnamed: 29\n",
              "0          759.93       762.55  ...       742.98       732.56\n",
              "1          762.55       768.51  ...       736.78       720.78\n",
              "2          768.51       751.14  ...       734.06       711.48\n",
              "3          751.14       742.53  ...       722.01       702.83\n",
              "4          742.53       742.98  ...       738.16       721.45\n",
              "...           ...          ...  ...          ...          ...\n",
              "1939      1142.74      1150.79  ...      1143.38      1141.45\n",
              "1940      1150.79      1147.59  ...      1140.47      1131.41\n",
              "1941      1147.59      1144.44  ...      1135.14      1126.43\n",
              "1942      1144.44      1143.30  ...      1134.54      1130.92\n",
              "1943      1143.30      1143.38  ...      1128.70      1124.54\n",
              "\n",
              "[1944 rows x 17 columns]"
            ]
          },
          "metadata": {
            "tags": []
          },
          "execution_count": 39
        }
      ]
    },
    {
      "cell_type": "code",
      "metadata": {
        "id": "HNlJX_9-LBw9",
        "colab_type": "code",
        "colab": {}
      },
      "source": [
        "DataMatrix = data.values"
      ],
      "execution_count": 0,
      "outputs": []
    },
    {
      "cell_type": "code",
      "metadata": {
        "id": "3RthWpBNLBvh",
        "colab_type": "code",
        "colab": {
          "base_uri": "https://localhost:8080/",
          "height": 34
        },
        "outputId": "9f43f446-017b-45ce-fca4-29c1d613eda4"
      },
      "source": [
        "DataMatrix.shape"
      ],
      "execution_count": 45,
      "outputs": [
        {
          "output_type": "execute_result",
          "data": {
            "text/plain": [
              "(1944, 17)"
            ]
          },
          "metadata": {
            "tags": []
          },
          "execution_count": 45
        }
      ]
    },
    {
      "cell_type": "code",
      "metadata": {
        "id": "p90me2ZXLBuC",
        "colab_type": "code",
        "colab": {}
      },
      "source": [
        "number_of_target = 2\n",
        "D = DataMatrix.shape[1] - number_of_target"
      ],
      "execution_count": 0,
      "outputs": []
    },
    {
      "cell_type": "code",
      "metadata": {
        "id": "-RzbcmzOLBsr",
        "colab_type": "code",
        "colab": {}
      },
      "source": [
        "X = DataMatrix[:, :D]\n",
        "High = DataMatrix[:, D:D+1]\n",
        "#Low = DataMatrix[:, D+1:]"
      ],
      "execution_count": 0,
      "outputs": []
    },
    {
      "cell_type": "code",
      "metadata": {
        "id": "l6WN6E02Lw1-",
        "colab_type": "code",
        "colab": {}
      },
      "source": [
        "start_train = 0\n",
        "end_train = -300\n",
        "end_valid = -150\n",
        "# end_test = -1\n",
        "\n",
        "X_Train = X[start_train:end_train, :]\n",
        "High_Train = High[start_train:end_train, :]\n",
        "#Low_Train = Low[start_train:end_train, :]\n",
        "\n",
        "X_Valid = X[end_train:end_valid, :]\n",
        "High_Valid = High[end_train:end_valid, :]\n",
        "#Low_Valid = Low[end_train:end_valid, :]\n",
        "\n",
        "X_Test = X[end_valid:, :]\n",
        "High_Test = High[end_valid:, :]\n",
        "#Low_Test = Low[end_valid:, :]"
      ],
      "execution_count": 0,
      "outputs": []
    },
    {
      "cell_type": "code",
      "metadata": {
        "id": "GoM61ecpLwvY",
        "colab_type": "code",
        "colab": {
          "base_uri": "https://localhost:8080/",
          "height": 1000
        },
        "outputId": "efa00225-0fb7-49fa-b8c5-e1e4d5de2a66"
      },
      "source": [
        "# Learning\n",
        "\n",
        "best_K = KNNR_FIT(X_Train, High_Train, X_Valid, High_Valid, 1, 100)"
      ],
      "execution_count": 49,
      "outputs": [
        {
          "output_type": "stream",
          "text": [
            "3\n",
            "\n",
            "K :  3 , error :  11.657333333333337\n",
            "K :  5 , error :  11.723866666666682\n",
            "K :  2 , error :  11.765666666666661\n",
            "K :  4 , error :  11.776516666666678\n",
            "K :  6 , error :  11.790222222222228\n",
            "K :  7 , error :  11.832619047619056\n",
            "K :  8 , error :  12.066975000000014\n",
            "K :  10 , error :  12.09478666666668\n",
            "K :  9 , error :  12.16445925925928\n",
            "K :  11 , error :  12.21423636363638\n",
            "K :  14 , error :  12.315085714285733\n",
            "K :  13 , error :  12.369753846153868\n",
            "K :  12 , error :  12.389761111111119\n",
            "K :  16 , error :  12.407916666666667\n",
            "K :  15 , error :  12.491760000000017\n",
            "K :  17 , error :  12.520117647058825\n",
            "K :  18 , error :  12.533774074074067\n",
            "K :  19 , error :  12.64441403508772\n",
            "K :  20 , error :  12.81721666666666\n",
            "K :  1 , error :  12.921000000000012\n",
            "K :  21 , error :  13.012803174603162\n",
            "K :  22 , error :  13.091445454545452\n",
            "K :  23 , error :  13.308808695652166\n",
            "K :  24 , error :  13.423163888888888\n",
            "K :  25 , error :  13.60000000000001\n",
            "K :  26 , error :  13.777020512820528\n",
            "K :  27 , error :  13.968254320987661\n",
            "K :  28 , error :  14.028378571428567\n",
            "K :  29 , error :  14.15920459770113\n",
            "K :  30 , error :  14.2479\n",
            "K :  31 , error :  14.383307526881708\n",
            "K :  32 , error :  14.548964583333333\n",
            "K :  33 , error :  14.663373737373744\n",
            "K :  34 , error :  14.741954901960792\n",
            "K :  35 , error :  14.776386666666673\n",
            "K :  36 , error :  14.88701481481483\n",
            "K :  100 , error :  14.907492666666686\n",
            "K :  37 , error :  14.962317117117149\n",
            "K :  99 , error :  15.013600673400676\n",
            "K :  38 , error :  15.021484210526344\n",
            "K :  39 , error :  15.09922222222227\n",
            "K :  98 , error :  15.102283673469397\n",
            "K :  40 , error :  15.126263333333343\n",
            "K :  41 , error :  15.157504065040655\n",
            "K :  42 , error :  15.221453968253996\n",
            "K :  97 , error :  15.239412371134021\n",
            "K :  44 , error :  15.28265000000003\n",
            "K :  43 , error :  15.285235658914756\n",
            "K :  96 , error :  15.305446527777786\n",
            "K :  45 , error :  15.316514074074117\n",
            "K :  46 , error :  15.374555072463815\n",
            "K :  95 , error :  15.37653964912279\n",
            "K :  47 , error :  15.421781560283732\n",
            "K :  48 , error :  15.439059722222222\n",
            "K :  58 , error :  15.460424137931053\n",
            "K :  94 , error :  15.474128368794332\n",
            "K :  59 , error :  15.490762711864441\n",
            "K :  49 , error :  15.495372789115658\n",
            "K :  93 , error :  15.500274551971316\n",
            "K :  57 , error :  15.50296842105265\n",
            "K :  52 , error :  15.505247435897466\n",
            "K :  54 , error :  15.50790246913584\n",
            "K :  67 , error :  15.528762189054742\n",
            "K :  66 , error :  15.529434343434367\n",
            "K :  55 , error :  15.530343030303065\n",
            "K :  92 , error :  15.53107826086955\n",
            "K :  65 , error :  15.53385025641026\n",
            "K :  51 , error :  15.53967581699348\n",
            "K :  53 , error :  15.555739622641534\n",
            "K :  56 , error :  15.56266666666668\n",
            "K :  91 , error :  15.566124542124545\n",
            "K :  50 , error :  15.568352000000017\n",
            "K :  68 , error :  15.5687254901961\n",
            "K :  69 , error :  15.570916908212585\n",
            "K :  64 , error :  15.576109375000003\n",
            "K :  62 , error :  15.577046236559193\n",
            "K :  60 , error :  15.580812222222246\n",
            "K :  63 , error :  15.588443386243428\n",
            "K :  70 , error :  15.592602857142877\n",
            "K :  76 , error :  15.594099122807025\n",
            "K :  75 , error :  15.595606222222228\n",
            "K :  77 , error :  15.596098701298713\n",
            "K :  61 , error :  15.598757377049212\n",
            "K :  74 , error :  15.617199099099102\n",
            "K :  71 , error :  15.641695774647909\n",
            "K :  72 , error :  15.64327685185186\n",
            "K :  90 , error :  15.643810370370362\n",
            "K :  81 , error :  15.646769547325093\n",
            "K :  78 , error :  15.649445299145311\n",
            "K :  80 , error :  15.65180833333335\n",
            "K :  79 , error :  15.658513924050657\n",
            "K :  73 , error :  15.678670319634724\n",
            "K :  82 , error :  15.685045528455284\n",
            "K :  83 , error :  15.68986666666667\n",
            "K :  89 , error :  15.697564044943828\n",
            "K :  84 , error :  15.733424603174583\n",
            "K :  87 , error :  15.738361685823751\n",
            "K :  85 , error :  15.749567058823505\n",
            "K :  88 , error :  15.750160606060618\n",
            "K :  86 , error :  15.775845736434086\n"
          ],
          "name": "stdout"
        },
        {
          "output_type": "display_data",
          "data": {
            "image/png": "[encoded data removed]",
            "text/plain": [
              "<Figure size 432x288 with 1 Axes>"
            ]
          },
          "metadata": {
            "tags": [],
            "needs_background": "light"
          }
        }
      ]
    },
    {
      "cell_type": "code",
      "metadata": {
        "id": "4LqxPOCrLwpd",
        "colab_type": "code",
        "colab": {}
      },
      "source": [
        "#Predict\n",
        "\n",
        "Highhat_Test = KNNR_predict(X_Train, High_Train, X_Test, best_K)\n",
        "error_Test = find_error_MAE_onces(High_Test, Highhat_Test)"
      ],
      "execution_count": 0,
      "outputs": []
    },
    {
      "cell_type": "code",
      "metadata": {
        "id": "xORGRXcJMPRG",
        "colab_type": "code",
        "colab": {
          "base_uri": "https://localhost:8080/",
          "height": 34
        },
        "outputId": "96548124-6289-477f-ae98-6d73ecd2c09b"
      },
      "source": [
        "error_Test"
      ],
      "execution_count": 52,
      "outputs": [
        {
          "output_type": "execute_result",
          "data": {
            "text/plain": [
              "8.248911111111092"
            ]
          },
          "metadata": {
            "tags": []
          },
          "execution_count": 52
        }
      ]
    },
    {
      "cell_type": "code",
      "metadata": {
        "id": "VBbiuOwgMSvA",
        "colab_type": "code",
        "colab": {
          "base_uri": "https://localhost:8080/",
          "height": 391
        },
        "outputId": "f9caeeb5-ca17-48c2-a740-e9c52bbf96fc"
      },
      "source": [
        "fig = plt.figure(figsize = (12, 6))\n",
        "plt.plot(Highhat_Test, label = 'Predicted High')\n",
        "plt.plot(High_Test, label = 'Real High')\n",
        "plt.legend()"
      ],
      "execution_count": 53,
      "outputs": [
        {
          "output_type": "execute_result",
          "data": {
            "text/plain": [
              "<matplotlib.legend.Legend at 0x7f025129a550>"
            ]
          },
          "metadata": {
            "tags": []
          },
          "execution_count": 53
        },
        {
          "output_type": "display_data",
          "data": {
            "image/png": "[encoded data removed]",
            "text/plain": [
              "<Figure size 864x432 with 1 Axes>"
            ]
          },
          "metadata": {
            "tags": [],
            "needs_background": "light"
          }
        }
      ]
    },
    {
      "cell_type": "markdown",
      "metadata": {
        "colab_type": "text",
        "id": "fBSGoRV3K34x"
      },
      "source": [
        "Example II : EURUSD Data"
      ]
    },
    {
      "cell_type": "code",
      "metadata": {
        "id": "GjA5TpZ_6jsK",
        "colab_type": "code",
        "colab": {
          "resources": {
            "http://localhost:8080/nbextensions/google.colab/files.js": {
              "data": "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",
              "ok": true,
              "headers": [
                [
                  "content-type",
                  "application/javascript"
                ]
              ],
              "status": 200,
              "status_text": ""
            }
          },
          "base_uri": "https://localhost:8080/",
          "height": 71
        },
        "outputId": "be57d1dc-b3d2-498d-ca09-95b38004fe20"
      },
      "source": [
        "# Prepare data\n",
        "\n",
        "uploaded = files.upload()"
      ],
      "execution_count": 152,
      "outputs": [
        {
          "output_type": "display_data",
          "data": {
            "text/html": [
              "\n",
              "     <input type=\"file\" id=\"files-ac41f015-a1e1-4375-b3db-4c2486760bc6\" name=\"files[]\" multiple disabled />\n",
              "     <output id=\"result-ac41f015-a1e1-4375-b3db-4c2486760bc6\">\n",
              "      Upload widget is only available when the cell has been executed in the\n",
              "      current browser session. Please rerun this cell to enable.\n",
              "      </output>\n",
              "      <script src=\"/nbextensions/google.colab/files.js\"></script> "
            ],
            "text/plain": [
              "<IPython.core.display.HTML object>"
            ]
          },
          "metadata": {
            "tags": []
          }
        },
        {
          "output_type": "stream",
          "text": [
            "Saving EURUSD_D1_Dataset_Regression.xlsx to EURUSD_D1_Dataset_Regression (2).xlsx\n"
          ],
          "name": "stdout"
        }
      ]
    },
    {
      "cell_type": "code",
      "metadata": {
        "id": "xIX4rRP_7ISX",
        "colab_type": "code",
        "colab": {}
      },
      "source": [
        "data = pd.read_excel((uploaded['EURUSD_D1_Dataset_Regression.xlsx']),usecols = 'N:AD', skiprows = range(5))"
      ],
      "execution_count": 0,
      "outputs": []
    },
    {
      "cell_type": "code",
      "metadata": {
        "id": "jYenRK-z7IaK",
        "colab_type": "code",
        "colab": {
          "base_uri": "https://localhost:8080/",
          "height": 456
        },
        "outputId": "bdb83e3f-1c8e-4571-d267-60fa10a8bd4d"
      },
      "source": [
        "data"
      ],
      "execution_count": 262,
      "outputs": [
        {
          "output_type": "execute_result",
          "data": {
            "text/html": [
              "<div>\n",
              "<style scoped>\n",
              "    .dataframe tbody tr th:only-of-type {\n",
              "        vertical-align: middle;\n",
              "    }\n",
              "\n",
              "    .dataframe tbody tr th {\n",
              "        vertical-align: top;\n",
              "    }\n",
              "\n",
              "    .dataframe thead th {\n",
              "        text-align: right;\n",
              "    }\n",
              "</style>\n",
              "<table border=\"1\" class=\"dataframe\">\n",
              "  <thead>\n",
              "    <tr style=\"text-align: right;\">\n",
              "      <th></th>\n",
              "      <th>Unnamed: 13</th>\n",
              "      <th>Unnamed: 14</th>\n",
              "      <th>Unnamed: 15</th>\n",
              "      <th>Unnamed: 16</th>\n",
              "      <th>Unnamed: 17</th>\n",
              "      <th>Unnamed: 18</th>\n",
              "      <th>Unnamed: 19</th>\n",
              "      <th>Unnamed: 20</th>\n",
              "      <th>Unnamed: 21</th>\n",
              "      <th>Unnamed: 22</th>\n",
              "      <th>Unnamed: 23</th>\n",
              "      <th>Unnamed: 24</th>\n",
              "      <th>Unnamed: 25</th>\n",
              "      <th>Unnamed: 26</th>\n",
              "      <th>Unnamed: 27</th>\n",
              "      <th>Unnamed: 28</th>\n",
              "      <th>Unnamed: 29</th>\n",
              "    </tr>\n",
              "  </thead>\n",
              "  <tbody>\n",
              "    <tr>\n",
              "      <th>0</th>\n",
              "      <td>1.13009</td>\n",
              "      <td>1.14506</td>\n",
              "      <td>1.14438</td>\n",
              "      <td>1.15077</td>\n",
              "      <td>1.15366</td>\n",
              "      <td>1.12014</td>\n",
              "      <td>1.12723</td>\n",
              "      <td>1.13265</td>\n",
              "      <td>1.13006</td>\n",
              "      <td>1.14346</td>\n",
              "      <td>1.144792</td>\n",
              "      <td>1.130708</td>\n",
              "      <td>1.157813</td>\n",
              "      <td>1.124715</td>\n",
              "      <td>1.14888</td>\n",
              "      <td>1.16229</td>\n",
              "      <td>1.14888</td>\n",
              "    </tr>\n",
              "    <tr>\n",
              "      <th>1</th>\n",
              "      <td>1.14506</td>\n",
              "      <td>1.14438</td>\n",
              "      <td>1.15077</td>\n",
              "      <td>1.15366</td>\n",
              "      <td>1.16229</td>\n",
              "      <td>1.12723</td>\n",
              "      <td>1.13265</td>\n",
              "      <td>1.13006</td>\n",
              "      <td>1.14346</td>\n",
              "      <td>1.14888</td>\n",
              "      <td>1.139891</td>\n",
              "      <td>1.127185</td>\n",
              "      <td>1.158828</td>\n",
              "      <td>1.134312</td>\n",
              "      <td>1.15357</td>\n",
              "      <td>1.15739</td>\n",
              "      <td>1.14620</td>\n",
              "    </tr>\n",
              "    <tr>\n",
              "      <th>2</th>\n",
              "      <td>1.14438</td>\n",
              "      <td>1.15077</td>\n",
              "      <td>1.15366</td>\n",
              "      <td>1.16229</td>\n",
              "      <td>1.15739</td>\n",
              "      <td>1.13265</td>\n",
              "      <td>1.13006</td>\n",
              "      <td>1.14346</td>\n",
              "      <td>1.14888</td>\n",
              "      <td>1.14620</td>\n",
              "      <td>1.141614</td>\n",
              "      <td>1.127200</td>\n",
              "      <td>1.160360</td>\n",
              "      <td>1.135908</td>\n",
              "      <td>1.15120</td>\n",
              "      <td>1.15370</td>\n",
              "      <td>1.14667</td>\n",
              "    </tr>\n",
              "    <tr>\n",
              "      <th>3</th>\n",
              "      <td>1.15077</td>\n",
              "      <td>1.15366</td>\n",
              "      <td>1.16229</td>\n",
              "      <td>1.15739</td>\n",
              "      <td>1.15370</td>\n",
              "      <td>1.13006</td>\n",
              "      <td>1.14346</td>\n",
              "      <td>1.14888</td>\n",
              "      <td>1.14620</td>\n",
              "      <td>1.14667</td>\n",
              "      <td>1.142536</td>\n",
              "      <td>1.129017</td>\n",
              "      <td>1.154614</td>\n",
              "      <td>1.146826</td>\n",
              "      <td>1.14913</td>\n",
              "      <td>1.14967</td>\n",
              "      <td>1.13744</td>\n",
              "    </tr>\n",
              "    <tr>\n",
              "      <th>4</th>\n",
              "      <td>1.15366</td>\n",
              "      <td>1.16229</td>\n",
              "      <td>1.15739</td>\n",
              "      <td>1.15370</td>\n",
              "      <td>1.14967</td>\n",
              "      <td>1.14346</td>\n",
              "      <td>1.14888</td>\n",
              "      <td>1.14620</td>\n",
              "      <td>1.14667</td>\n",
              "      <td>1.13744</td>\n",
              "      <td>1.145281</td>\n",
              "      <td>1.129365</td>\n",
              "      <td>1.159082</td>\n",
              "      <td>1.137762</td>\n",
              "      <td>1.13775</td>\n",
              "      <td>1.15766</td>\n",
              "      <td>1.13675</td>\n",
              "    </tr>\n",
              "    <tr>\n",
              "      <th>...</th>\n",
              "      <td>...</td>\n",
              "      <td>...</td>\n",
              "      <td>...</td>\n",
              "      <td>...</td>\n",
              "      <td>...</td>\n",
              "      <td>...</td>\n",
              "      <td>...</td>\n",
              "      <td>...</td>\n",
              "      <td>...</td>\n",
              "      <td>...</td>\n",
              "      <td>...</td>\n",
              "      <td>...</td>\n",
              "      <td>...</td>\n",
              "      <td>...</td>\n",
              "      <td>...</td>\n",
              "      <td>...</td>\n",
              "      <td>...</td>\n",
              "    </tr>\n",
              "    <tr>\n",
              "      <th>4227</th>\n",
              "      <td>1.12820</td>\n",
              "      <td>1.12253</td>\n",
              "      <td>1.12096</td>\n",
              "      <td>1.11558</td>\n",
              "      <td>1.11877</td>\n",
              "      <td>1.12033</td>\n",
              "      <td>1.12062</td>\n",
              "      <td>1.11457</td>\n",
              "      <td>1.11269</td>\n",
              "      <td>1.11013</td>\n",
              "      <td>1.126627</td>\n",
              "      <td>1.121320</td>\n",
              "      <td>1.124096</td>\n",
              "      <td>1.110560</td>\n",
              "      <td>1.11460</td>\n",
              "      <td>1.11509</td>\n",
              "      <td>1.11120</td>\n",
              "    </tr>\n",
              "    <tr>\n",
              "      <th>4228</th>\n",
              "      <td>1.12253</td>\n",
              "      <td>1.12096</td>\n",
              "      <td>1.11558</td>\n",
              "      <td>1.11877</td>\n",
              "      <td>1.11509</td>\n",
              "      <td>1.12062</td>\n",
              "      <td>1.11457</td>\n",
              "      <td>1.11269</td>\n",
              "      <td>1.11013</td>\n",
              "      <td>1.11120</td>\n",
              "      <td>1.127151</td>\n",
              "      <td>1.120990</td>\n",
              "      <td>1.121229</td>\n",
              "      <td>1.109647</td>\n",
              "      <td>1.11246</td>\n",
              "      <td>1.11509</td>\n",
              "      <td>1.11128</td>\n",
              "    </tr>\n",
              "    <tr>\n",
              "      <th>4229</th>\n",
              "      <td>1.12096</td>\n",
              "      <td>1.11558</td>\n",
              "      <td>1.11877</td>\n",
              "      <td>1.11509</td>\n",
              "      <td>1.11509</td>\n",
              "      <td>1.11457</td>\n",
              "      <td>1.11269</td>\n",
              "      <td>1.11013</td>\n",
              "      <td>1.11120</td>\n",
              "      <td>1.11128</td>\n",
              "      <td>1.125611</td>\n",
              "      <td>1.120867</td>\n",
              "      <td>1.115966</td>\n",
              "      <td>1.112306</td>\n",
              "      <td>1.11443</td>\n",
              "      <td>1.11610</td>\n",
              "      <td>1.11321</td>\n",
              "    </tr>\n",
              "    <tr>\n",
              "      <th>4230</th>\n",
              "      <td>1.11558</td>\n",
              "      <td>1.11877</td>\n",
              "      <td>1.11509</td>\n",
              "      <td>1.11509</td>\n",
              "      <td>1.11610</td>\n",
              "      <td>1.11269</td>\n",
              "      <td>1.11013</td>\n",
              "      <td>1.11120</td>\n",
              "      <td>1.11128</td>\n",
              "      <td>1.11321</td>\n",
              "      <td>1.124061</td>\n",
              "      <td>1.118768</td>\n",
              "      <td>1.116157</td>\n",
              "      <td>1.112227</td>\n",
              "      <td>1.11548</td>\n",
              "      <td>1.11620</td>\n",
              "      <td>1.10600</td>\n",
              "    </tr>\n",
              "    <tr>\n",
              "      <th>4231</th>\n",
              "      <td>1.11877</td>\n",
              "      <td>1.11509</td>\n",
              "      <td>1.11509</td>\n",
              "      <td>1.11610</td>\n",
              "      <td>1.11620</td>\n",
              "      <td>1.11013</td>\n",
              "      <td>1.11120</td>\n",
              "      <td>1.11128</td>\n",
              "      <td>1.11321</td>\n",
              "      <td>1.10600</td>\n",
              "      <td>1.121234</td>\n",
              "      <td>1.116742</td>\n",
              "      <td>1.118637</td>\n",
              "      <td>1.107147</td>\n",
              "      <td>1.10749</td>\n",
              "      <td>1.10958</td>\n",
              "      <td>1.10268</td>\n",
              "    </tr>\n",
              "  </tbody>\n",
              "</table>\n",
              "<p>4232 rows × 17 columns</p>\n",
              "</div>"
            ],
            "text/plain": [
              "      Unnamed: 13  Unnamed: 14  ...  Unnamed: 28  Unnamed: 29\n",
              "0         1.13009      1.14506  ...      1.16229      1.14888\n",
              "1         1.14506      1.14438  ...      1.15739      1.14620\n",
              "2         1.14438      1.15077  ...      1.15370      1.14667\n",
              "3         1.15077      1.15366  ...      1.14967      1.13744\n",
              "4         1.15366      1.16229  ...      1.15766      1.13675\n",
              "...           ...          ...  ...          ...          ...\n",
              "4227      1.12820      1.12253  ...      1.11509      1.11120\n",
              "4228      1.12253      1.12096  ...      1.11509      1.11128\n",
              "4229      1.12096      1.11558  ...      1.11610      1.11321\n",
              "4230      1.11558      1.11877  ...      1.11620      1.10600\n",
              "4231      1.11877      1.11509  ...      1.10958      1.10268\n",
              "\n",
              "[4232 rows x 17 columns]"
            ]
          },
          "metadata": {
            "tags": []
          },
          "execution_count": 262
        }
      ]
    },
    {
      "cell_type": "code",
      "metadata": {
        "id": "LwqYgir27IYN",
        "colab_type": "code",
        "colab": {}
      },
      "source": [
        "DataMatrix = data.values"
      ],
      "execution_count": 0,
      "outputs": []
    },
    {
      "cell_type": "code",
      "metadata": {
        "id": "TKXnvaDF8pw8",
        "colab_type": "code",
        "colab": {
          "base_uri": "https://localhost:8080/",
          "height": 34
        },
        "outputId": "cf2666d6-6ec9-49e2-d1a9-32bb193070ff"
      },
      "source": [
        "DataMatrix.shape"
      ],
      "execution_count": 264,
      "outputs": [
        {
          "output_type": "execute_result",
          "data": {
            "text/plain": [
              "(4232, 17)"
            ]
          },
          "metadata": {
            "tags": []
          },
          "execution_count": 264
        }
      ]
    },
    {
      "cell_type": "code",
      "metadata": {
        "id": "8rnUbjyE7IW8",
        "colab_type": "code",
        "colab": {}
      },
      "source": [
        "number_of_target = 2\n",
        "D = DataMatrix.shape[1] - number_of_target"
      ],
      "execution_count": 0,
      "outputs": []
    },
    {
      "cell_type": "code",
      "metadata": {
        "id": "_iPN7GUQ7IU-",
        "colab_type": "code",
        "colab": {}
      },
      "source": [
        "X = DataMatrix[:, :D]\n",
        "High = DataMatrix[:, D:D+1] # Predict High Value\n",
        "# Low = DataMatrix[:, D+1:]"
      ],
      "execution_count": 0,
      "outputs": []
    },
    {
      "cell_type": "code",
      "metadata": {
        "id": "iDTaWGN-8eC_",
        "colab_type": "code",
        "colab": {}
      },
      "source": [
        "X_Train = X[:-300, :]\n",
        "High_Train = High[:-300, :]\n",
        "# Low_Train = Low[start_train:end_train, :]\n",
        "\n",
        "X_Valid = X[-300:-150, :]\n",
        "High_Valid = High[-300:-150, :]\n",
        "# Low_Valid = Low[end_train:end_valid, :]\n",
        "\n",
        "X_Test = X[-150:, :]\n",
        "High_Test = High[-150:, :]\n",
        "# Low_Test = Low[end_valid:, :]\n"
      ],
      "execution_count": 0,
      "outputs": []
    },
    {
      "cell_type": "code",
      "metadata": {
        "id": "OMt8Ajcw8kcy",
        "colab_type": "code",
        "colab": {
          "base_uri": "https://localhost:8080/",
          "height": 1000
        },
        "outputId": "1ca97a75-a748-4845-c024-62cdb4a13db4"
      },
      "source": [
        "#Learning\n",
        "\n",
        "best_K = KNNR_FIT(X_Train, High_Train, X_Valid, High_Valid, 1, 100)"
      ],
      "execution_count": 268,
      "outputs": [
        {
          "output_type": "stream",
          "text": [
            "4\n",
            "\n",
            "K :  4 , error :  0.003939749999999882\n",
            "K :  11 , error :  0.003965248484848088\n",
            "K :  10 , error :  0.00397993333333288\n",
            "K :  13 , error :  0.003983420512820097\n",
            "K :  12 , error :  0.003987449999999551\n",
            "K :  3 , error :  0.004022244444444733\n",
            "K :  14 , error :  0.0040274761904756425\n",
            "K :  5 , error :  0.00403444000000011\n",
            "K :  9 , error :  0.004060481481480993\n",
            "K :  15 , error :  0.004099586666666274\n",
            "K :  7 , error :  0.004127304761904457\n",
            "K :  8 , error :  0.00413940833333297\n",
            "K :  16 , error :  0.00414794583333283\n",
            "K :  17 , error :  0.0041780784313719555\n",
            "K :  6 , error :  0.004240477777777455\n",
            "K :  18 , error :  0.004247133333332719\n",
            "K :  19 , error :  0.004265799999999544\n",
            "K :  20 , error :  0.004286933333332703\n",
            "K :  21 , error :  0.0043315682539676135\n",
            "K :  22 , error :  0.004371466666666121\n",
            "K :  23 , error :  0.00438663768115887\n",
            "K :  24 , error :  0.004434661111110554\n",
            "K :  27 , error :  0.004442148148147587\n",
            "K :  26 , error :  0.004456071794871231\n",
            "K :  28 , error :  0.004482557142856615\n",
            "K :  25 , error :  0.004483575999999448\n",
            "K :  29 , error :  0.004506142528735091\n",
            "K :  30 , error :  0.0045578422222215765\n",
            "K :  31 , error :  0.004571027956988636\n",
            "K :  2 , error :  0.004586200000000008\n",
            "K :  34 , error :  0.004586819607842565\n",
            "K :  33 , error :  0.004602183838383306\n",
            "K :  32 , error :  0.004609916666666111\n",
            "K :  35 , error :  0.004626129523808978\n",
            "K :  36 , error :  0.004672899999999519\n",
            "K :  37 , error :  0.0047045873873868245\n",
            "K :  38 , error :  0.004730554385964387\n",
            "K :  39 , error :  0.004735420512820013\n",
            "K :  40 , error :  0.0047673566666661445\n",
            "K :  41 , error :  0.004811572357723052\n",
            "K :  42 , error :  0.004851033333332809\n",
            "K :  45 , error :  0.0048675748148143344\n",
            "K :  43 , error :  0.004871981395348338\n",
            "K :  44 , error :  0.004874036363635881\n",
            "K :  46 , error :  0.004899439130434298\n",
            "K :  47 , error :  0.004907065248226517\n",
            "K :  48 , error :  0.004941334722221796\n",
            "K :  49 , error :  0.004968059863945157\n",
            "K :  50 , error :  0.004989731999999588\n",
            "K :  51 , error :  0.005002145098038776\n",
            "K :  52 , error :  0.005015025641025209\n",
            "K :  53 , error :  0.005027807547169374\n",
            "K :  54 , error :  0.005053465432098318\n",
            "K :  55 , error :  0.005057392727272287\n",
            "K :  59 , error :  0.005062837288135202\n",
            "K :  56 , error :  0.0050633559523805645\n",
            "K :  57 , error :  0.005068338011695475\n",
            "K :  58 , error :  0.005069905747126056\n",
            "K :  60 , error :  0.005083895555555169\n",
            "K :  61 , error :  0.0051035038251362\n",
            "K :  62 , error :  0.005160692473117877\n",
            "K :  63 , error :  0.00518907089947048\n",
            "K :  64 , error :  0.005196754166666214\n",
            "K :  65 , error :  0.005217866666666179\n",
            "K :  66 , error :  0.005223052525252059\n",
            "K :  68 , error :  0.005242147058823092\n",
            "K :  69 , error :  0.005248628985506812\n",
            "K :  67 , error :  0.005248629850745829\n",
            "K :  70 , error :  0.005281719047618633\n",
            "K :  71 , error :  0.00529276244131415\n",
            "K :  72 , error :  0.0053014722222217954\n",
            "K :  73 , error :  0.005319659360730181\n",
            "K :  74 , error :  0.0053505090090085914\n",
            "K :  75 , error :  0.005354337777777406\n",
            "K :  76 , error :  0.0053786710526312\n",
            "K :  77 , error :  0.0054066259740255885\n",
            "K :  78 , error :  0.005425326495726126\n",
            "K :  79 , error :  0.005456971308016527\n",
            "K :  80 , error :  0.005484589166666289\n",
            "K :  81 , error :  0.005499665843621036\n",
            "K :  82 , error :  0.005529937398373595\n",
            "K :  83 , error :  0.005537344578312895\n",
            "K :  84 , error :  0.00555082857142822\n",
            "K :  85 , error :  0.005573519999999651\n",
            "K :  86 , error :  0.005575675968991942\n",
            "K :  87 , error :  0.005576521839080107\n",
            "K :  88 , error :  0.005577067424242029\n",
            "K :  89 , error :  0.005585064419475259\n",
            "K :  90 , error :  0.0056012770370366515\n",
            "K :  91 , error :  0.005607986813186462\n",
            "K :  92 , error :  0.005627521014492407\n",
            "K :  1 , error :  0.005649999999999466\n",
            "K :  93 , error :  0.005664999283153778\n",
            "K :  94 , error :  0.005688885815602485\n",
            "K :  95 , error :  0.00570589052631544\n",
            "K :  96 , error :  0.0057257430555552125\n",
            "K :  97 , error :  0.005745225429552895\n",
            "K :  98 , error :  0.005754933333332937\n",
            "K :  99 , error :  0.005781977104376741\n",
            "K :  100 , error :  0.005800093999999617\n"
          ],
          "name": "stdout"
        },
        {
          "output_type": "display_data",
          "data": {
            "image/png": "[encoded data removed]",
            "text/plain": [
              "<Figure size 432x288 with 1 Axes>"
            ]
          },
          "metadata": {
            "tags": [],
            "needs_background": "light"
          }
        }
      ]
    },
    {
      "cell_type": "code",
      "metadata": {
        "id": "ehloL9LM8sOd",
        "colab_type": "code",
        "colab": {}
      },
      "source": [
        "#Predict\n",
        "\n",
        "Highhat_Test = KNNR_predict(X_Train, High_Train, X_Test, best_K)\n",
        "error_Test = find_error_MAE_onces(High_Test, Highhat_Test)\n"
      ],
      "execution_count": 0,
      "outputs": []
    },
    {
      "cell_type": "code",
      "metadata": {
        "id": "KiPxcG6cG2y8",
        "colab_type": "code",
        "colab": {
          "base_uri": "https://localhost:8080/",
          "height": 34
        },
        "outputId": "b7054915-5833-4887-a7c5-039a3d5ac70b"
      },
      "source": [
        "error_Test"
      ],
      "execution_count": 272,
      "outputs": [
        {
          "output_type": "execute_result",
          "data": {
            "text/plain": [
              "0.0035636333333333202"
            ]
          },
          "metadata": {
            "tags": []
          },
          "execution_count": 272
        }
      ]
    },
    {
      "cell_type": "code",
      "metadata": {
        "id": "zMBpwTQkHA_t",
        "colab_type": "code",
        "colab": {
          "base_uri": "https://localhost:8080/",
          "height": 391
        },
        "outputId": "2b6f555a-b033-4c71-e1a2-fd2180ab1cc5"
      },
      "source": [
        "fig = plt.figure(figsize = (12, 6))\n",
        "plt.plot(Highhat_Test, label = 'Predicted High')\n",
        "plt.plot(High_Test, label = 'Real High')\n",
        "plt.legend()"
      ],
      "execution_count": 273,
      "outputs": [
        {
          "output_type": "execute_result",
          "data": {
            "text/plain": [
              "<matplotlib.legend.Legend at 0x7f0375746748>"
            ]
          },
          "metadata": {
            "tags": []
          },
          "execution_count": 273
        },
        {
          "output_type": "display_data",
          "data": {
            "image/png": "[encoded data removed]",
            "text/plain": [
              "<Figure size 864x432 with 1 Axes>"
            ]
          },
          "metadata": {
            "tags": [],
            "needs_background": "light"
          }
        }
      ]
    },
    {
      "cell_type": "code",
      "metadata": {
        "id": "0S5htIoGIGVW",
        "colab_type": "code",
        "colab": {
          "base_uri": "https://localhost:8080/",
          "height": 296
        },
        "outputId": "19f8c317-f6f9-4a7c-aabe-0b34f610d4a7"
      },
      "source": [
        "plt.scatter(Highhat_Test, High_Test)\n",
        "plt.xlabel('Yhat')\n",
        "plt.ylabel('Y')"
      ],
      "execution_count": 274,
      "outputs": [
        {
          "output_type": "execute_result",
          "data": {
            "text/plain": [
              "Text(0, 0.5, 'Y')"
            ]
          },
          "metadata": {
            "tags": []
          },
          "execution_count": 274
        },
        {
          "output_type": "display_data",
          "data": {
            "image/png": "[encoded data removed]",
            "text/plain": [
              "<Figure size 432x288 with 1 Axes>"
            ]
          },
          "metadata": {
            "tags": [],
            "needs_background": "light"
          }
        }
      ]
    },
    {
      "cell_type": "markdown",
      "metadata": {
        "id": "HIkgBysyMt7C",
        "colab_type": "text"
      },
      "source": [
        "Example III : BMI Data"
      ]
    },
    {
      "cell_type": "code",
      "metadata": {
        "id": "Rge0r9HwIKPG",
        "colab_type": "code",
        "colab": {
          "resources": {
            "http://localhost:8080/nbextensions/google.colab/files.js": {
              "data": "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",
              "ok": true,
              "headers": [
                [
                  "content-type",
                  "application/javascript"
                ]
              ],
              "status": 200,
              "status_text": ""
            }
          },
          "base_uri": "https://localhost:8080/",
          "height": 71
        },
        "outputId": "5c3d9829-cdb5-4836-d0f8-ec11b0d566b6"
      },
      "source": [
        "# Prepare data\n",
        "\n",
        "uploaded = files.upload()"
      ],
      "execution_count": 54,
      "outputs": [
        {
          "output_type": "display_data",
          "data": {
            "text/html": [
              "\n",
              "     <input type=\"file\" id=\"files-4122460f-44b4-42d0-b387-73e9c12e0f73\" name=\"files[]\" multiple disabled />\n",
              "     <output id=\"result-4122460f-44b4-42d0-b387-73e9c12e0f73\">\n",
              "      Upload widget is only available when the cell has been executed in the\n",
              "      current browser session. Please rerun this cell to enable.\n",
              "      </output>\n",
              "      <script src=\"/nbextensions/google.colab/files.js\"></script> "
            ],
            "text/plain": [
              "<IPython.core.display.HTML object>"
            ]
          },
          "metadata": {
            "tags": []
          }
        },
        {
          "output_type": "stream",
          "text": [
            "Saving BMI_Dataset_Regression.xlsx to BMI_Dataset_Regression.xlsx\n"
          ],
          "name": "stdout"
        }
      ]
    },
    {
      "cell_type": "code",
      "metadata": {
        "id": "-YZHOGtzN9o1",
        "colab_type": "code",
        "colab": {}
      },
      "source": [
        "data = pd.read_excel((uploaded['BMI_Dataset_Regression.xlsx']))"
      ],
      "execution_count": 0,
      "outputs": []
    },
    {
      "cell_type": "code",
      "metadata": {
        "id": "QkOb9a4-N9lB",
        "colab_type": "code",
        "colab": {
          "base_uri": "https://localhost:8080/",
          "height": 419
        },
        "outputId": "9b5ed31b-f6f9-4b31-a7bc-ece971bcc3d3"
      },
      "source": [
        "data"
      ],
      "execution_count": 61,
      "outputs": [
        {
          "output_type": "execute_result",
          "data": {
            "text/html": [
              "<div>\n",
              "<style scoped>\n",
              "    .dataframe tbody tr th:only-of-type {\n",
              "        vertical-align: middle;\n",
              "    }\n",
              "\n",
              "    .dataframe tbody tr th {\n",
              "        vertical-align: top;\n",
              "    }\n",
              "\n",
              "    .dataframe thead th {\n",
              "        text-align: right;\n",
              "    }\n",
              "</style>\n",
              "<table border=\"1\" class=\"dataframe\">\n",
              "  <thead>\n",
              "    <tr style=\"text-align: right;\">\n",
              "      <th></th>\n",
              "      <th>Weight</th>\n",
              "      <th>Height</th>\n",
              "      <th>Target</th>\n",
              "    </tr>\n",
              "  </thead>\n",
              "  <tbody>\n",
              "    <tr>\n",
              "      <th>0</th>\n",
              "      <td>66.17</td>\n",
              "      <td>185.21</td>\n",
              "      <td>19.289713</td>\n",
              "    </tr>\n",
              "    <tr>\n",
              "      <th>1</th>\n",
              "      <td>71.27</td>\n",
              "      <td>168.91</td>\n",
              "      <td>24.980524</td>\n",
              "    </tr>\n",
              "    <tr>\n",
              "      <th>2</th>\n",
              "      <td>73.17</td>\n",
              "      <td>179.83</td>\n",
              "      <td>22.625011</td>\n",
              "    </tr>\n",
              "    <tr>\n",
              "      <th>3</th>\n",
              "      <td>81.74</td>\n",
              "      <td>171.76</td>\n",
              "      <td>27.707434</td>\n",
              "    </tr>\n",
              "    <tr>\n",
              "      <th>4</th>\n",
              "      <td>92.97</td>\n",
              "      <td>172.89</td>\n",
              "      <td>31.102301</td>\n",
              "    </tr>\n",
              "    <tr>\n",
              "      <th>...</th>\n",
              "      <td>...</td>\n",
              "      <td>...</td>\n",
              "      <td>...</td>\n",
              "    </tr>\n",
              "    <tr>\n",
              "      <th>995</th>\n",
              "      <td>63.24</td>\n",
              "      <td>141.45</td>\n",
              "      <td>31.604193</td>\n",
              "    </tr>\n",
              "    <tr>\n",
              "      <th>996</th>\n",
              "      <td>47.55</td>\n",
              "      <td>166.64</td>\n",
              "      <td>17.122030</td>\n",
              "    </tr>\n",
              "    <tr>\n",
              "      <th>997</th>\n",
              "      <td>68.10</td>\n",
              "      <td>168.52</td>\n",
              "      <td>23.977842</td>\n",
              "    </tr>\n",
              "    <tr>\n",
              "      <th>998</th>\n",
              "      <td>74.39</td>\n",
              "      <td>169.24</td>\n",
              "      <td>25.974427</td>\n",
              "    </tr>\n",
              "    <tr>\n",
              "      <th>999</th>\n",
              "      <td>65.95</td>\n",
              "      <td>174.37</td>\n",
              "      <td>21.689305</td>\n",
              "    </tr>\n",
              "  </tbody>\n",
              "</table>\n",
              "<p>1000 rows × 3 columns</p>\n",
              "</div>"
            ],
            "text/plain": [
              "     Weight  Height     Target\n",
              "0     66.17  185.21  19.289713\n",
              "1     71.27  168.91  24.980524\n",
              "2     73.17  179.83  22.625011\n",
              "3     81.74  171.76  27.707434\n",
              "4     92.97  172.89  31.102301\n",
              "..      ...     ...        ...\n",
              "995   63.24  141.45  31.604193\n",
              "996   47.55  166.64  17.122030\n",
              "997   68.10  168.52  23.977842\n",
              "998   74.39  169.24  25.974427\n",
              "999   65.95  174.37  21.689305\n",
              "\n",
              "[1000 rows x 3 columns]"
            ]
          },
          "metadata": {
            "tags": []
          },
          "execution_count": 61
        }
      ]
    },
    {
      "cell_type": "code",
      "metadata": {
        "id": "VEDKRnd2N9jE",
        "colab_type": "code",
        "colab": {}
      },
      "source": [
        "DataMatrix = data.values"
      ],
      "execution_count": 0,
      "outputs": []
    },
    {
      "cell_type": "code",
      "metadata": {
        "id": "5uvtnt0eN9gc",
        "colab_type": "code",
        "colab": {
          "base_uri": "https://localhost:8080/",
          "height": 34
        },
        "outputId": "436cc483-aac7-40c0-8911-7ed9ec9b444b"
      },
      "source": [
        "DataMatrix.shape"
      ],
      "execution_count": 63,
      "outputs": [
        {
          "output_type": "execute_result",
          "data": {
            "text/plain": [
              "(1000, 3)"
            ]
          },
          "metadata": {
            "tags": []
          },
          "execution_count": 63
        }
      ]
    },
    {
      "cell_type": "code",
      "metadata": {
        "id": "usMX6yn2N9C1",
        "colab_type": "code",
        "colab": {}
      },
      "source": [
        "D = DataMatrix.shape[1] - 1"
      ],
      "execution_count": 0,
      "outputs": []
    },
    {
      "cell_type": "code",
      "metadata": {
        "id": "ypDmE7_vOO3B",
        "colab_type": "code",
        "colab": {}
      },
      "source": [
        "X = DataMatrix[:, :D]\n",
        "X = np.array(X, dtype=np.float32)\n",
        "Y = DataMatrix[:, D:]"
      ],
      "execution_count": 0,
      "outputs": []
    },
    {
      "cell_type": "code",
      "metadata": {
        "id": "kRUYP9Z-OPQN",
        "colab_type": "code",
        "colab": {}
      },
      "source": [
        "start_train = 0\n",
        "end_train = -300\n",
        "end_valid = -150\n",
        "\n",
        "X_Train = X[start_train:end_train, :]\n",
        "Y_Train = Y[start_train:end_train, :]\n",
        "\n",
        "X_Valid = X[end_train:end_valid, :]\n",
        "Y_Valid = Y[end_train:end_valid, :]\n",
        "\n",
        "X_Test = X[end_valid:, :]\n",
        "Y_Test = Y[end_valid:, :]"
      ],
      "execution_count": 0,
      "outputs": []
    },
    {
      "cell_type": "code",
      "metadata": {
        "id": "USz291fMOTTk",
        "colab_type": "code",
        "colab": {
          "base_uri": "https://localhost:8080/",
          "height": 823
        },
        "outputId": "9f46cd37-f19c-4b38-8d81-ec13dd4c92e2"
      },
      "source": [
        "best_K = KNNR_FIT(X_Train, Y_Train, X_Valid, Y_Valid, 1, 30)"
      ],
      "execution_count": 69,
      "outputs": [
        {
          "output_type": "stream",
          "text": [
            "5\n",
            "\n",
            "K :  5 , error :  0.2793283445042106\n",
            "K :  6 , error :  0.2796154639730383\n",
            "K :  4 , error :  0.2870354959898069\n",
            "K :  1 , error :  0.2906886155919456\n",
            "K :  3 , error :  0.2913682342595428\n",
            "K :  7 , error :  0.29161310829704473\n",
            "K :  2 , error :  0.2940527745937604\n",
            "K :  9 , error :  0.30425812935574215\n",
            "K :  8 , error :  0.3079550031723539\n",
            "K :  10 , error :  0.31557031995090734\n",
            "K :  11 , error :  0.32320543335057766\n",
            "K :  12 , error :  0.3240056570867888\n",
            "K :  13 , error :  0.3368884481481036\n",
            "K :  15 , error :  0.33908608333515433\n",
            "K :  14 , error :  0.34184022406079023\n",
            "K :  16 , error :  0.3500233739083683\n",
            "K :  17 , error :  0.35709536449210777\n",
            "K :  18 , error :  0.3601462914330693\n",
            "K :  19 , error :  0.3681592932835073\n",
            "K :  20 , error :  0.3825591047692025\n",
            "K :  21 , error :  0.3974650356570922\n",
            "K :  22 , error :  0.41310246477594215\n",
            "K :  23 , error :  0.42358596164244244\n",
            "K :  24 , error :  0.43450558619337204\n",
            "K :  25 , error :  0.4425250108170792\n",
            "K :  26 , error :  0.44959879049844764\n",
            "K :  27 , error :  0.46038272147270526\n",
            "K :  28 , error :  0.4687655257534756\n",
            "K :  29 , error :  0.4779281164216193\n",
            "K :  30 , error :  0.48636041723886336\n"
          ],
          "name": "stdout"
        },
        {
          "output_type": "display_data",
          "data": {
            "image/png": "[encoded data removed]",
            "text/plain": [
              "<Figure size 432x288 with 1 Axes>"
            ]
          },
          "metadata": {
            "tags": [],
            "needs_background": "light"
          }
        }
      ]
    },
    {
      "cell_type": "code",
      "metadata": {
        "id": "CP3pfVJhOVox",
        "colab_type": "code",
        "colab": {}
      },
      "source": [
        "Yhat_Test = KNNR_predict(X_Train, Y_Train, X_Test, best_K)\n",
        "error_Test = find_error_MAE_onces(Y_Test, Yhat_Test)"
      ],
      "execution_count": 0,
      "outputs": []
    },
    {
      "cell_type": "code",
      "metadata": {
        "id": "ZgiXgpk2ObKz",
        "colab_type": "code",
        "colab": {
          "base_uri": "https://localhost:8080/",
          "height": 34
        },
        "outputId": "7eb15a2b-1e12-4c9c-94e8-7fca605ddd42"
      },
      "source": [
        "error_Test"
      ],
      "execution_count": 71,
      "outputs": [
        {
          "output_type": "execute_result",
          "data": {
            "text/plain": [
              "0.20098001046378253"
            ]
          },
          "metadata": {
            "tags": []
          },
          "execution_count": 71
        }
      ]
    },
    {
      "cell_type": "code",
      "metadata": {
        "id": "4AVXSy03OcmW",
        "colab_type": "code",
        "colab": {
          "base_uri": "https://localhost:8080/",
          "height": 391
        },
        "outputId": "d7e710ed-0bf1-4a22-fff2-60517dd4ab81"
      },
      "source": [
        "fig = plt.figure(figsize = (12, 6))\n",
        "plt.plot(Yhat_Test, label = 'Predicted Change')\n",
        "plt.plot(Y_Test, label = 'Real Change')\n",
        "plt.legend()"
      ],
      "execution_count": 72,
      "outputs": [
        {
          "output_type": "execute_result",
          "data": {
            "text/plain": [
              "<matplotlib.legend.Legend at 0x7f0252612d68>"
            ]
          },
          "metadata": {
            "tags": []
          },
          "execution_count": 72
        },
        {
          "output_type": "display_data",
          "data": {
            "image/png": "[encoded data removed]",
            "text/plain": [
              "<Figure size 864x432 with 1 Axes>"
            ]
          },
          "metadata": {
            "tags": [],
            "needs_background": "light"
          }
        }
      ]
    },
    {
      "cell_type": "code",
      "metadata": {
        "id": "iTBeA78vOdWN",
        "colab_type": "code",
        "colab": {
          "base_uri": "https://localhost:8080/",
          "height": 296
        },
        "outputId": "357b2d8a-7f89-4a48-856c-a61c348d3bc2"
      },
      "source": [
        "plt.scatter(Yhat_Test, Y_Test)\n",
        "plt.xlabel('Yhat')\n",
        "plt.ylabel('Y')"
      ],
      "execution_count": 73,
      "outputs": [
        {
          "output_type": "execute_result",
          "data": {
            "text/plain": [
              "Text(0, 0.5, 'Y')"
            ]
          },
          "metadata": {
            "tags": []
          },
          "execution_count": 73
        },
        {
          "output_type": "display_data",
          "data": {
            "image/png": "[encoded data removed]",
            "text/plain": [
              "<Figure size 432x288 with 1 Axes>"
            ]
          },
          "metadata": {
            "tags": [],
            "needs_background": "light"
          }
        }
      ]
    },
    {
      "cell_type": "code",
      "metadata": {
        "id": "qpF_1l32OeaA",
        "colab_type": "code",
        "colab": {}
      },
      "source": [
        ""
      ],
      "execution_count": 0,
      "outputs": []
    }
  ]
}
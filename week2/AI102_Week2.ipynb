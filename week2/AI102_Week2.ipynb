{
  "nbformat": 4,
  "nbformat_minor": 0,
  "metadata": {
    "colab": {
      "name": "AI102_Week2.ipynb",
      "provenance": [],
      "authorship_tag": "ABX9TyP3UkzL8XFN+iinqrJyxGGi",
      "include_colab_link": true
    },
    "kernelspec": {
      "name": "python3",
      "display_name": "Python 3"
    }
  },
  "cells": [
    {
      "cell_type": "markdown",
      "metadata": {
        "id": "view-in-github",
        "colab_type": "text"
      },
      "source": [
        "<a href=\"https://colab.research.google.com/github/RTae/AI102/blob/master/week2/AI102_Week2.ipynb\" target=\"_parent\"><img src=\"https://colab.research.google.com/assets/colab-badge.svg\" alt=\"Open In Colab\"/></a>"
      ]
    },
    {
      "cell_type": "markdown",
      "metadata": {
        "id": "EyCUC85lYGWe",
        "colab_type": "text"
      },
      "source": [
        "# Naive Bayes (Classification)"
      ]
    },
    {
      "cell_type": "markdown",
      "metadata": {
        "id": "WEphkEstTlZf",
        "colab_type": "text"
      },
      "source": [
        "- Continuous"
      ]
    },
    {
      "cell_type": "markdown",
      "metadata": {
        "id": "TcchHw41Tjxy",
        "colab_type": "text"
      },
      "source": [
        "- Discrete"
      ]
    },
    {
      "cell_type": "code",
      "metadata": {
        "id": "1YmyrtjUXiBt",
        "colab_type": "code",
        "colab": {}
      },
      "source": [
        "import numpy as np\n",
        "import pandas as pd\n",
        "import matplotlib.pyplot as plt"
      ],
      "execution_count": 0,
      "outputs": []
    },
    {
      "cell_type": "code",
      "metadata": {
        "id": "bXz8fWZpV-UJ",
        "colab_type": "code",
        "colab": {}
      },
      "source": [
        "def NB_find_Feature_Value(X_Train, Feature_Name):\n",
        "  Feture_Value = []\n",
        "  D = len(Feature_Name)\n",
        "  for d in range(D):\n",
        "    Value = np.unique(X_Train[:,d])\n",
        "    Feture_Value.append(Value)\n",
        "  return Feture_Value"
      ],
      "execution_count": 0,
      "outputs": []
    },
    {
      "cell_type": "code",
      "metadata": {
        "id": "FUJ_MF1bbX3K",
        "colab_type": "code",
        "colab": {}
      },
      "source": [
        "def NB_create_DictStorage(Feture_name,Feature_Value,All_Class):\n",
        "  DictStorge = {}\n",
        "  n_class = len(All_Class)\n",
        "  n_colums = n_class+1\n",
        "  D = len(Feture_name)\n",
        "  for d in range(D):\n",
        "    fn = Feture_name[d]\n",
        "    n_value = len(Feature_Value[d])\n",
        "    n_rows = n_value + 1\n",
        "    MaxtrixStorge = np.zeros([n_rows,n_colums],dtype = 'object')\n",
        "    for c in range(n_class):\n",
        "      MaxtrixStorge[0,c+1] = All_Class[c]\n",
        "    for r in range(n_value):\n",
        "      MaxtrixStorge[r+1,0] = Feature_Value[d][r]\n",
        "    DictStorge[fn] = np.array(MaxtrixStorge)\n",
        "  return DictStorge"
      ],
      "execution_count": 0,
      "outputs": []
    },
    {
      "cell_type": "code",
      "metadata": {
        "id": "bUa7b_UhZqzO",
        "colab_type": "code",
        "colab": {}
      },
      "source": [
        "def NB_count_element(X_Train,Y_Train,Feature_Name,empty_Count):\n",
        "  D = len(Feature_Name)\n",
        "  for d in range(D):\n",
        "    fn = Feature_Name[d]\n",
        "    n_rows, n_columns = empty_Count[fn].shape\n",
        "    for c in range(1,n_columns):\n",
        "      filter_class = (Y_Train[:,0] == empty_Count[fn][0,c])\n",
        "      for r in range(1,n_rows):\n",
        "        filter_feature = (X_Train[:,d] == empty_Count[fn][r,0])\n",
        "        empty_Count[fn][r,c] = (filter_feature & filter_class).sum()\n",
        "  return empty_Count"
      ],
      "execution_count": 0,
      "outputs": []
    },
    {
      "cell_type": "code",
      "metadata": {
        "id": "55lNewecdkHv",
        "colab_type": "code",
        "colab": {}
      },
      "source": [
        "def NB_calculate_prob(empty_Prob,Count_Martix,Count_all_CLass,Feature_Name):\n",
        "  D = len(Feature_Name)\n",
        "  for d in range(D):\n",
        "    fn = Feature_Name[d]\n",
        "    empty_Prob[fn][1:,1:] = Count_Martix[fn][1:,1:]/Count_all_CLass\n",
        "  return empty_Prob\n"
      ],
      "execution_count": 0,
      "outputs": []
    },
    {
      "cell_type": "code",
      "metadata": {
        "id": "z_pYsI6Pe7Z4",
        "colab_type": "code",
        "colab": {}
      },
      "source": [
        "def NBDD_fit(X_train,Y_train,Feature_Name,All_Class,Count_all_Class):\n",
        "  Feture_Value = NB_find_Feature_Value(X_train,Feature_Name)\n",
        "  empty_Count = NB_create_DictStorage(Feature_Name,Feture_Value,All_Class)\n",
        "  empty_Prob = NB_create_DictStorage(Feature_Name,Feture_Value,All_Class)\n",
        "  Count_Martix = NB_count_element(X_train,Y_train,Feature_Name,empty_Count)\n",
        "  Prob_Martix = NB_calculate_prob(empty_Prob,Count_Martix,Count_all_Class,Feature_Name)\n",
        "\n",
        "  return Count_Martix,Prob_Martix"
      ],
      "execution_count": 0,
      "outputs": []
    },
    {
      "cell_type": "code",
      "metadata": {
        "id": "KHk9gK5Nf6UO",
        "colab_type": "code",
        "colab": {}
      },
      "source": [
        "def NBDD_predict(X_Test, Prob_Martix, Feature_Name, Feature_Value, All_Class, Count_all_Class, top = 1):\n",
        "  prob_class = Count_all_Class/(Count_all_Class.sum())\n",
        "  Yhat = []\n",
        "  D = len(Feature_Value)\n",
        "  C = len(All_Class)\n",
        "  for x_test in X_Test:\n",
        "    prob_fgc = np.zeros([D,C])\n",
        "    for d in range(D):\n",
        "      fn = Feature_Name[d]\n",
        "      r = np.argwhere(Feature_Value[d] == x_test[d]).ravel()[0]\n",
        "      prob_fgc[d,:] = Prob_Martix[fn][r+1,1:]\n",
        "    prob_afgc = prob_fgc.prod(axis=0)\n",
        "    prob_nb = prob_class*prob_afgc\n",
        "    sorted_class = All_Class[prob_nb.argsort()[::-1]]\n",
        "    Yhat.append(sorted_class)\n",
        "  return np.array(Yhat)[:,:top]"
      ],
      "execution_count": 0,
      "outputs": []
    },
    {
      "cell_type": "code",
      "metadata": {
        "id": "s156ZVNvlUqV",
        "colab_type": "code",
        "colab": {}
      },
      "source": [
        "def find_error_classification(Y, Yhat):\n",
        "    N = Y.shape[0]\n",
        "    error = (100/N)*(Y != Yhat).sum()\n",
        "    return error"
      ],
      "execution_count": 0,
      "outputs": []
    },
    {
      "cell_type": "code",
      "metadata": {
        "id": "30TXjn42Ug4d",
        "colab_type": "code",
        "colab": {}
      },
      "source": [
        "FN = np.array(['Work','Education'])\n",
        "AC = np.array(['poor','rich'])\n",
        "Count_all_CLass = np.array([3,3])\n",
        "X_train = np.array([['Work hard','study'],['Work hard','not study'],['lazy','study'],['lazy','not study'],['Work hard','not study'],['lazy','not study']])\n",
        "Y_train = np.array([['rich'],['rich'],['rich'],['poor'],['poor'],['poor']])\n",
        "X_Test = np.array([['Work hard','study']])"
      ],
      "execution_count": 0,
      "outputs": []
    },
    {
      "cell_type": "code",
      "metadata": {
        "id": "sW7q5dBfVVjq",
        "colab_type": "code",
        "colab": {
          "base_uri": "https://localhost:8080/",
          "height": 34
        },
        "outputId": "58987e1f-fca7-4649-b794-47147c9bf732"
      },
      "source": [
        "FV = NB_find_Feature_Value(X_train,FN)\n",
        "Count_Martix, Prob_Martix = NBDD_fit(X_train,Y_train,FN,AC,Count_all_CLass)\n",
        "Yhat = NBDD_predict(X_Test,Prob_Martix,FN,FV,AC,Count_all_CLass)\n",
        "print(Yhat)"
      ],
      "execution_count": 149,
      "outputs": [
        {
          "output_type": "stream",
          "text": [
            "[['rich']]\n"
          ],
          "name": "stdout"
        }
      ]
    },
    {
      "cell_type": "code",
      "metadata": {
        "id": "Od324dNgVYLA",
        "colab_type": "code",
        "colab": {}
      },
      "source": [
        ""
      ],
      "execution_count": 0,
      "outputs": []
    },
    {
      "cell_type": "code",
      "metadata": {
        "id": "5i6uuDw4W9-w",
        "colab_type": "code",
        "colab": {}
      },
      "source": [
        ""
      ],
      "execution_count": 0,
      "outputs": []
    }
  ]
}
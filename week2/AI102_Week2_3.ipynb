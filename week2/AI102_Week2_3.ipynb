{
  "nbformat": 4,
  "nbformat_minor": 0,
  "metadata": {
    "colab": {
      "name": "AI102_Week2/3.ipynb",
      "provenance": [],
      "toc_visible": true,
      "authorship_tag": "ABX9TyPQKBX++ZN8AkHsuCnYDqk4",
      "include_colab_link": true
    },
    "kernelspec": {
      "name": "python3",
      "display_name": "Python 3"
    }
  },
  "cells": [
    {
      "cell_type": "markdown",
      "metadata": {
        "id": "view-in-github",
        "colab_type": "text"
      },
      "source": [
        "<a href=\"https://colab.research.google.com/github/RTae/AI102/blob/master/week2/AI102_Week2_3.ipynb\" target=\"_parent\"><img src=\"https://colab.research.google.com/assets/colab-badge.svg\" alt=\"Open In Colab\"/></a>"
      ]
    },
    {
      "cell_type": "markdown",
      "metadata": {
        "id": "EyCUC85lYGWe",
        "colab_type": "text"
      },
      "source": [
        "# Naive Bayes (Classification)"
      ]
    },
    {
      "cell_type": "markdown",
      "metadata": {
        "id": "WEphkEstTlZf",
        "colab_type": "text"
      },
      "source": [
        "- Continuous"
      ]
    },
    {
      "cell_type": "markdown",
      "metadata": {
        "id": "TcchHw41Tjxy",
        "colab_type": "text"
      },
      "source": [
        "- Discrete"
      ]
    },
    {
      "cell_type": "code",
      "metadata": {
        "id": "1YmyrtjUXiBt",
        "colab_type": "code",
        "colab": {}
      },
      "source": [
        "import numpy as np\n",
        "import pandas as pd\n",
        "import matplotlib.pyplot as plt"
      ],
      "execution_count": 0,
      "outputs": []
    },
    {
      "cell_type": "code",
      "metadata": {
        "id": "bXz8fWZpV-UJ",
        "colab_type": "code",
        "colab": {}
      },
      "source": [
        "def NB_find_Feature_Value(X_Train, Feature_Name):\n",
        "  Feture_Value = []\n",
        "  D = len(Feature_Name)\n",
        "  for d in range(D):\n",
        "    Value = np.unique(X_Train[:,d])\n",
        "    Feture_Value.append(Value)\n",
        "  return Feture_Value"
      ],
      "execution_count": 0,
      "outputs": []
    },
    {
      "cell_type": "code",
      "metadata": {
        "id": "FUJ_MF1bbX3K",
        "colab_type": "code",
        "colab": {}
      },
      "source": [
        "def NB_create_DictStorage(Feture_name,Feature_Value,All_Class):\n",
        "  DictStorge = {}\n",
        "  n_class = len(All_Class)\n",
        "  n_colums = n_class+1\n",
        "  D = len(Feture_name)\n",
        "  for d in range(D):\n",
        "    fn = Feture_name[d]\n",
        "    n_value = len(Feature_Value[d])\n",
        "    n_rows = n_value + 1\n",
        "    MaxtrixStorge = np.zeros([n_rows,n_colums],dtype = 'object')\n",
        "    for c in range(n_class):\n",
        "      MaxtrixStorge[0,c+1] = All_Class[c]\n",
        "    for r in range(n_value):\n",
        "      MaxtrixStorge[r+1,0] = Feature_Value[d][r]\n",
        "    DictStorge[fn] = np.array(MaxtrixStorge)\n",
        "  return DictStorge"
      ],
      "execution_count": 0,
      "outputs": []
    },
    {
      "cell_type": "code",
      "metadata": {
        "id": "bUa7b_UhZqzO",
        "colab_type": "code",
        "colab": {}
      },
      "source": [
        "def NB_count_element(X_Train,Y_Train,Feature_Name,empty_Count):\n",
        "  D = len(Feature_Name)\n",
        "  for d in range(D):\n",
        "    fn = Feature_Name[d]\n",
        "    n_rows, n_columns = empty_Count[fn].shape\n",
        "    for c in range(1,n_columns):\n",
        "      filter_class = (Y_Train[:,0] == empty_Count[fn][0,c])\n",
        "      for r in range(1,n_rows):\n",
        "        filter_feature = (X_Train[:,d] == empty_Count[fn][r,0])\n",
        "        empty_Count[fn][r,c] = (filter_feature & filter_class).sum()\n",
        "  return empty_Count"
      ],
      "execution_count": 0,
      "outputs": []
    },
    {
      "cell_type": "code",
      "metadata": {
        "id": "55lNewecdkHv",
        "colab_type": "code",
        "colab": {}
      },
      "source": [
        "def NB_calculate_prob(empty_Prob,Count_Martix,Count_all_CLass,Feature_Name):\n",
        "  D = len(Feature_Name)\n",
        "  for d in range(D):\n",
        "    fn = Feature_Name[d]\n",
        "    empty_Prob[fn][1:,1:] = Count_Martix[fn][1:,1:]/Count_all_CLass\n",
        "  return empty_Prob\n"
      ],
      "execution_count": 0,
      "outputs": []
    },
    {
      "cell_type": "code",
      "metadata": {
        "id": "z_pYsI6Pe7Z4",
        "colab_type": "code",
        "colab": {}
      },
      "source": [
        "def NBDD_fit(X_train,Y_train,Feature_Name,All_Class,Count_all_Class):\n",
        "  Feture_Value = NB_find_Feature_Value(X_train,Feature_Name)\n",
        "  empty_Count = NB_create_DictStorage(Feature_Name,Feture_Value,All_Class)\n",
        "  empty_Prob = NB_create_DictStorage(Feature_Name,Feture_Value,All_Class)\n",
        "  Count_Martix = NB_count_element(X_train,Y_train,Feature_Name,empty_Count)\n",
        "  Prob_Martix = NB_calculate_prob(empty_Prob,Count_Martix,Count_all_Class,Feature_Name)\n",
        "\n",
        "  return Count_Martix,Prob_Martix"
      ],
      "execution_count": 0,
      "outputs": []
    },
    {
      "cell_type": "code",
      "metadata": {
        "id": "KHk9gK5Nf6UO",
        "colab_type": "code",
        "colab": {}
      },
      "source": [
        "def NBDD_predict(X_Test, Prob_Martix, Feature_Name, Feature_Value, All_Class, Count_all_Class, top = 1):\n",
        "  prob_class = Count_all_Class/(Count_all_Class.sum())\n",
        "  Yhat = []\n",
        "  D = len(Feature_Value)\n",
        "  C = len(All_Class)\n",
        "  for x_test in X_Test:\n",
        "    prob_fgc = np.zeros([D,C])\n",
        "    for d in range(D):\n",
        "      fn = Feature_Name[d]\n",
        "      r = np.argwhere(Feature_Value[d] == x_test[d]).ravel()[0]\n",
        "      prob_fgc[d,:] = Prob_Martix[fn][r+1,1:]\n",
        "    prob_afgc = prob_fgc.prod(axis=0)\n",
        "    prob_nb = (prob_class*prob_afgc)\n",
        "    sorted_class = All_Class[prob_nb.argsort()[::-1]]\n",
        "    Yhat.append(sorted_class)\n",
        "  return np.array(Yhat)[:,:top]"
      ],
      "execution_count": 0,
      "outputs": []
    },
    {
      "cell_type": "code",
      "metadata": {
        "id": "s156ZVNvlUqV",
        "colab_type": "code",
        "colab": {}
      },
      "source": [
        "def find_error_classification(Y, Yhat):\n",
        "    N = Y.shape[0]\n",
        "    error = (100/N)*(Y != Yhat).sum()\n",
        "    return error"
      ],
      "execution_count": 0,
      "outputs": []
    },
    {
      "cell_type": "code",
      "metadata": {
        "id": "30TXjn42Ug4d",
        "colab_type": "code",
        "colab": {}
      },
      "source": [
        "FN = np.array(['Work','Education'])\n",
        "AC = np.array(['poor','rich'])\n",
        "Count_all_CLass = np.array([3,3])\n",
        "X_train = np.array([['Work hard','study'],['Work hard','not study'],['lazy','study'],['lazy','not study'],['Work hard','not study'],['lazy','not study']])\n",
        "Y_train = np.array([['rich'],['rich'],['rich'],['poor'],['poor'],['poor']])\n",
        "X_Test = np.array([['Work hard','study']])"
      ],
      "execution_count": 0,
      "outputs": []
    },
    {
      "cell_type": "code",
      "metadata": {
        "id": "sW7q5dBfVVjq",
        "colab_type": "code",
        "outputId": "926d3a31-0fdf-4074-f34b-6c87b0d6baab",
        "colab": {
          "base_uri": "https://localhost:8080/",
          "height": 68
        }
      },
      "source": [
        "FV = NB_find_Feature_Value(X_train,FN)\n",
        "Count_Martix, Prob_Martix = NBDD_fit(X_train,Y_train,FN,AC,Count_all_CLass)\n",
        "Yhat = NBDD_predict(X_Test,Prob_Martix,FN,FV,AC,Count_all_CLass)\n",
        "print(Yhat)"
      ],
      "execution_count": 292,
      "outputs": [
        {
          "output_type": "stream",
          "text": [
            "[['poor']]\n"
          ],
          "name": "stdout"
        },
        {
          "output_type": "stream",
          "text": [
            "/usr/local/lib/python3.6/dist-packages/ipykernel_launcher.py:13: RuntimeWarning: divide by zero encountered in log\n",
            "  del sys.path[0]\n"
          ],
          "name": "stderr"
        }
      ]
    },
    {
      "cell_type": "markdown",
      "metadata": {
        "id": "d28ZMfiZnqoX",
        "colab_type": "text"
      },
      "source": [
        "- Example I EURUSD"
      ]
    },
    {
      "cell_type": "code",
      "metadata": {
        "id": "Od324dNgVYLA",
        "colab_type": "code",
        "colab": {
          "resources": {
            "http://localhost:8080/nbextensions/google.colab/files.js": {
              "data": "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",
              "ok": true,
              "headers": [
                [
                  "content-type",
                  "application/javascript"
                ]
              ],
              "status": 200,
              "status_text": ""
            }
          },
          "base_uri": "https://localhost:8080/",
          "height": 37
        },
        "outputId": "6c54ab4a-8cbd-430e-99cc-b50f48c11b25"
      },
      "source": [
        "# Prepare data\n",
        "\n",
        "from google.colab import files\n",
        "uploaded = files.upload()"
      ],
      "execution_count": 293,
      "outputs": [
        {
          "output_type": "display_data",
          "data": {
            "text/html": [
              "\n",
              "     <input type=\"file\" id=\"files-23ce7bba-0dec-4ca8-8ed2-30852aed3a61\" name=\"files[]\" multiple disabled />\n",
              "     <output id=\"result-23ce7bba-0dec-4ca8-8ed2-30852aed3a61\">\n",
              "      Upload widget is only available when the cell has been executed in the\n",
              "      current browser session. Please rerun this cell to enable.\n",
              "      </output>\n",
              "      <script src=\"/nbextensions/google.colab/files.js\"></script> "
            ],
            "text/plain": [
              "<IPython.core.display.HTML object>"
            ]
          },
          "metadata": {
            "tags": []
          }
        }
      ]
    },
    {
      "cell_type": "code",
      "metadata": {
        "id": "5i6uuDw4W9-w",
        "colab_type": "code",
        "colab": {}
      },
      "source": [
        "Data = pd.read_excel('EURUSD_J_Patel.xlsx',usecols = 'B:L')"
      ],
      "execution_count": 0,
      "outputs": []
    },
    {
      "cell_type": "code",
      "metadata": {
        "id": "UWwiXC1OpAg1",
        "colab_type": "code",
        "colab": {
          "base_uri": "https://localhost:8080/",
          "height": 419
        },
        "outputId": "a8f05b29-33dd-4c8b-bf08-636a07097d20"
      },
      "source": [
        "Data"
      ],
      "execution_count": 318,
      "outputs": [
        {
          "output_type": "execute_result",
          "data": {
            "text/html": [
              "<div>\n",
              "<style scoped>\n",
              "    .dataframe tbody tr th:only-of-type {\n",
              "        vertical-align: middle;\n",
              "    }\n",
              "\n",
              "    .dataframe tbody tr th {\n",
              "        vertical-align: top;\n",
              "    }\n",
              "\n",
              "    .dataframe thead th {\n",
              "        text-align: right;\n",
              "    }\n",
              "</style>\n",
              "<table border=\"1\" class=\"dataframe\">\n",
              "  <thead>\n",
              "    <tr style=\"text-align: right;\">\n",
              "      <th></th>\n",
              "      <th>SMA</th>\n",
              "      <th>WMA</th>\n",
              "      <th>STOCH_SLOWK</th>\n",
              "      <th>STOCH_SLOWD</th>\n",
              "      <th>WILLR</th>\n",
              "      <th>MACD</th>\n",
              "      <th>RSI</th>\n",
              "      <th>CCI</th>\n",
              "      <th>AD</th>\n",
              "      <th>MOM</th>\n",
              "      <th>Trend</th>\n",
              "    </tr>\n",
              "  </thead>\n",
              "  <tbody>\n",
              "    <tr>\n",
              "      <th>0</th>\n",
              "      <td>0</td>\n",
              "      <td>0</td>\n",
              "      <td>0</td>\n",
              "      <td>0</td>\n",
              "      <td>0</td>\n",
              "      <td>0</td>\n",
              "      <td>1</td>\n",
              "      <td>0</td>\n",
              "      <td>1</td>\n",
              "      <td>1</td>\n",
              "      <td>0</td>\n",
              "    </tr>\n",
              "    <tr>\n",
              "      <th>1</th>\n",
              "      <td>0</td>\n",
              "      <td>0</td>\n",
              "      <td>0</td>\n",
              "      <td>0</td>\n",
              "      <td>0</td>\n",
              "      <td>0</td>\n",
              "      <td>0</td>\n",
              "      <td>1</td>\n",
              "      <td>0</td>\n",
              "      <td>0</td>\n",
              "      <td>0</td>\n",
              "    </tr>\n",
              "    <tr>\n",
              "      <th>2</th>\n",
              "      <td>0</td>\n",
              "      <td>0</td>\n",
              "      <td>0</td>\n",
              "      <td>0</td>\n",
              "      <td>0</td>\n",
              "      <td>0</td>\n",
              "      <td>0</td>\n",
              "      <td>1</td>\n",
              "      <td>0</td>\n",
              "      <td>0</td>\n",
              "      <td>1</td>\n",
              "    </tr>\n",
              "    <tr>\n",
              "      <th>3</th>\n",
              "      <td>0</td>\n",
              "      <td>0</td>\n",
              "      <td>0</td>\n",
              "      <td>0</td>\n",
              "      <td>1</td>\n",
              "      <td>0</td>\n",
              "      <td>1</td>\n",
              "      <td>1</td>\n",
              "      <td>1</td>\n",
              "      <td>0</td>\n",
              "      <td>1</td>\n",
              "    </tr>\n",
              "    <tr>\n",
              "      <th>4</th>\n",
              "      <td>0</td>\n",
              "      <td>0</td>\n",
              "      <td>1</td>\n",
              "      <td>0</td>\n",
              "      <td>1</td>\n",
              "      <td>0</td>\n",
              "      <td>1</td>\n",
              "      <td>1</td>\n",
              "      <td>0</td>\n",
              "      <td>0</td>\n",
              "      <td>0</td>\n",
              "    </tr>\n",
              "    <tr>\n",
              "      <th>...</th>\n",
              "      <td>...</td>\n",
              "      <td>...</td>\n",
              "      <td>...</td>\n",
              "      <td>...</td>\n",
              "      <td>...</td>\n",
              "      <td>...</td>\n",
              "      <td>...</td>\n",
              "      <td>...</td>\n",
              "      <td>...</td>\n",
              "      <td>...</td>\n",
              "      <td>...</td>\n",
              "    </tr>\n",
              "    <tr>\n",
              "      <th>1668</th>\n",
              "      <td>1</td>\n",
              "      <td>1</td>\n",
              "      <td>0</td>\n",
              "      <td>1</td>\n",
              "      <td>1</td>\n",
              "      <td>1</td>\n",
              "      <td>1</td>\n",
              "      <td>0</td>\n",
              "      <td>1</td>\n",
              "      <td>1</td>\n",
              "      <td>1</td>\n",
              "    </tr>\n",
              "    <tr>\n",
              "      <th>1669</th>\n",
              "      <td>1</td>\n",
              "      <td>1</td>\n",
              "      <td>1</td>\n",
              "      <td>1</td>\n",
              "      <td>1</td>\n",
              "      <td>1</td>\n",
              "      <td>1</td>\n",
              "      <td>1</td>\n",
              "      <td>0</td>\n",
              "      <td>1</td>\n",
              "      <td>0</td>\n",
              "    </tr>\n",
              "    <tr>\n",
              "      <th>1670</th>\n",
              "      <td>1</td>\n",
              "      <td>1</td>\n",
              "      <td>1</td>\n",
              "      <td>1</td>\n",
              "      <td>0</td>\n",
              "      <td>1</td>\n",
              "      <td>0</td>\n",
              "      <td>0</td>\n",
              "      <td>0</td>\n",
              "      <td>1</td>\n",
              "      <td>1</td>\n",
              "    </tr>\n",
              "    <tr>\n",
              "      <th>1671</th>\n",
              "      <td>1</td>\n",
              "      <td>1</td>\n",
              "      <td>1</td>\n",
              "      <td>1</td>\n",
              "      <td>1</td>\n",
              "      <td>1</td>\n",
              "      <td>1</td>\n",
              "      <td>0</td>\n",
              "      <td>1</td>\n",
              "      <td>1</td>\n",
              "      <td>0</td>\n",
              "    </tr>\n",
              "    <tr>\n",
              "      <th>1672</th>\n",
              "      <td>1</td>\n",
              "      <td>1</td>\n",
              "      <td>0</td>\n",
              "      <td>0</td>\n",
              "      <td>0</td>\n",
              "      <td>1</td>\n",
              "      <td>0</td>\n",
              "      <td>0</td>\n",
              "      <td>0</td>\n",
              "      <td>1</td>\n",
              "      <td>0</td>\n",
              "    </tr>\n",
              "  </tbody>\n",
              "</table>\n",
              "<p>1673 rows × 11 columns</p>\n",
              "</div>"
            ],
            "text/plain": [
              "      SMA  WMA  STOCH_SLOWK  STOCH_SLOWD  WILLR  MACD  RSI  CCI  AD  MOM  Trend\n",
              "0       0    0            0            0      0     0    1    0   1    1      0\n",
              "1       0    0            0            0      0     0    0    1   0    0      0\n",
              "2       0    0            0            0      0     0    0    1   0    0      1\n",
              "3       0    0            0            0      1     0    1    1   1    0      1\n",
              "4       0    0            1            0      1     0    1    1   0    0      0\n",
              "...   ...  ...          ...          ...    ...   ...  ...  ...  ..  ...    ...\n",
              "1668    1    1            0            1      1     1    1    0   1    1      1\n",
              "1669    1    1            1            1      1     1    1    1   0    1      0\n",
              "1670    1    1            1            1      0     1    0    0   0    1      1\n",
              "1671    1    1            1            1      1     1    1    0   1    1      0\n",
              "1672    1    1            0            0      0     1    0    0   0    1      0\n",
              "\n",
              "[1673 rows x 11 columns]"
            ]
          },
          "metadata": {
            "tags": []
          },
          "execution_count": 318
        }
      ]
    },
    {
      "cell_type": "code",
      "metadata": {
        "id": "YVs2pFmZsHeA",
        "colab_type": "code",
        "colab": {
          "base_uri": "https://localhost:8080/",
          "height": 34
        },
        "outputId": "c757d962-19b4-44fe-8fd1-25e82b1fb8c0"
      },
      "source": [
        "Data.shape"
      ],
      "execution_count": 319,
      "outputs": [
        {
          "output_type": "execute_result",
          "data": {
            "text/plain": [
              "(1673, 11)"
            ]
          },
          "metadata": {
            "tags": []
          },
          "execution_count": 319
        }
      ]
    },
    {
      "cell_type": "code",
      "metadata": {
        "id": "L4Ni66zcpA-f",
        "colab_type": "code",
        "colab": {}
      },
      "source": [
        "DataMatrix = Data.values\n",
        "D = DataMatrix.shape[1]-1\n",
        "X = DataMatrix[:,:D]\n",
        "Y = DataMatrix[:,D:]"
      ],
      "execution_count": 0,
      "outputs": []
    },
    {
      "cell_type": "code",
      "metadata": {
        "id": "zmyAWimxpLvf",
        "colab_type": "code",
        "colab": {}
      },
      "source": [
        "start_train = 0\n",
        "end_train = -150\n",
        "\n",
        "X_Train =  X[start_train:end_train,:]\n",
        "Y_Train =  Y[start_train:end_train,:]\n",
        "\n",
        "X_Test = X[end_train:, :]\n",
        "Y_Test = Y[end_train:, :]"
      ],
      "execution_count": 0,
      "outputs": []
    },
    {
      "cell_type": "code",
      "metadata": {
        "id": "KdkWtfMWpy5T",
        "colab_type": "code",
        "colab": {}
      },
      "source": [
        "Feature_name = np.array(Data.columns[:-1])\n",
        "Feature_Value = NB_find_Feature_Value(X_Train,Feture_name)\n",
        "All_Class, Count_All_Class = np.unique(Y_Train[:,:],return_counts=True)"
      ],
      "execution_count": 0,
      "outputs": []
    },
    {
      "cell_type": "code",
      "metadata": {
        "id": "qOtGRXCdqSbd",
        "colab_type": "code",
        "colab": {}
      },
      "source": [
        "# Learning\n",
        "\n",
        "Count_Martix, Prob_Martix = NBDD_fit(X_Train,Y_Train,Feature_name,All_Class,Count_All_Class)"
      ],
      "execution_count": 0,
      "outputs": []
    },
    {
      "cell_type": "code",
      "metadata": {
        "id": "5dJJ31ReqXpC",
        "colab_type": "code",
        "colab": {
          "base_uri": "https://localhost:8080/",
          "height": 34
        },
        "outputId": "67c94bce-aa05-4a3e-c0e1-71fcc3c342af"
      },
      "source": [
        "# Predict\n",
        "\n",
        "Yhat_Test = NBDD_predict(X_Test, Prob_Martix, Feature_name, Feature_Value, All_Class, Count_All_Class, top=1)\n",
        "error = find_error_classification(Y_Test, Yhat_Test)\n",
        "print(error)"
      ],
      "execution_count": 324,
      "outputs": [
        {
          "output_type": "stream",
          "text": [
            "53.33333333333333\n"
          ],
          "name": "stdout"
        }
      ]
    },
    {
      "cell_type": "markdown",
      "metadata": {
        "id": "hj6sbwbtsx9P",
        "colab_type": "text"
      },
      "source": [
        "- Example II Men or Women"
      ]
    },
    {
      "cell_type": "code",
      "metadata": {
        "id": "Xi-ApWjzr3Xm",
        "colab_type": "code",
        "colab": {
          "resources": {
            "http://localhost:8080/nbextensions/google.colab/files.js": {
              "data": "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",
              "ok": true,
              "headers": [
                [
                  "content-type",
                  "application/javascript"
                ]
              ],
              "status": 200,
              "status_text": ""
            }
          },
          "base_uri": "https://localhost:8080/",
          "height": 71
        },
        "outputId": "d52db9a2-e496-43ac-fe7b-af25ed20e029"
      },
      "source": [
        "# Prepare data\n",
        "\n",
        "uploaded = files.upload()"
      ],
      "execution_count": 208,
      "outputs": [
        {
          "output_type": "display_data",
          "data": {
            "text/html": [
              "\n",
              "     <input type=\"file\" id=\"files-63847a51-7a11-4cc1-b8e3-6458f370b90d\" name=\"files[]\" multiple disabled />\n",
              "     <output id=\"result-63847a51-7a11-4cc1-b8e3-6458f370b90d\">\n",
              "      Upload widget is only available when the cell has been executed in the\n",
              "      current browser session. Please rerun this cell to enable.\n",
              "      </output>\n",
              "      <script src=\"/nbextensions/google.colab/files.js\"></script> "
            ],
            "text/plain": [
              "<IPython.core.display.HTML object>"
            ]
          },
          "metadata": {
            "tags": []
          }
        },
        {
          "output_type": "stream",
          "text": [
            "Saving Men_or_Women.xlsx to Men_or_Women (1).xlsx\n"
          ],
          "name": "stdout"
        }
      ]
    },
    {
      "cell_type": "code",
      "metadata": {
        "id": "1CbUVrEhs3cX",
        "colab_type": "code",
        "colab": {}
      },
      "source": [
        "Data = pd.read_excel('Men_or_Women.xlsx')"
      ],
      "execution_count": 0,
      "outputs": []
    },
    {
      "cell_type": "code",
      "metadata": {
        "id": "mCD-dknctdhj",
        "colab_type": "code",
        "colab": {
          "base_uri": "https://localhost:8080/",
          "height": 419
        },
        "outputId": "4752b2e2-a876-4372-8416-cd3b374c901b"
      },
      "source": [
        "Data"
      ],
      "execution_count": 304,
      "outputs": [
        {
          "output_type": "execute_result",
          "data": {
            "text/html": [
              "<div>\n",
              "<style scoped>\n",
              "    .dataframe tbody tr th:only-of-type {\n",
              "        vertical-align: middle;\n",
              "    }\n",
              "\n",
              "    .dataframe tbody tr th {\n",
              "        vertical-align: top;\n",
              "    }\n",
              "\n",
              "    .dataframe thead th {\n",
              "        text-align: right;\n",
              "    }\n",
              "</style>\n",
              "<table border=\"1\" class=\"dataframe\">\n",
              "  <thead>\n",
              "    <tr style=\"text-align: right;\">\n",
              "      <th></th>\n",
              "      <th>hair_style</th>\n",
              "      <th>sound_style</th>\n",
              "      <th>has_earring</th>\n",
              "      <th>Class</th>\n",
              "    </tr>\n",
              "  </thead>\n",
              "  <tbody>\n",
              "    <tr>\n",
              "      <th>0</th>\n",
              "      <td>short</td>\n",
              "      <td>low-pitched</td>\n",
              "      <td>yes</td>\n",
              "      <td>men</td>\n",
              "    </tr>\n",
              "    <tr>\n",
              "      <th>1</th>\n",
              "      <td>long</td>\n",
              "      <td>high-pitched</td>\n",
              "      <td>yes</td>\n",
              "      <td>women</td>\n",
              "    </tr>\n",
              "    <tr>\n",
              "      <th>2</th>\n",
              "      <td>long</td>\n",
              "      <td>low-pitched</td>\n",
              "      <td>yes</td>\n",
              "      <td>women</td>\n",
              "    </tr>\n",
              "    <tr>\n",
              "      <th>3</th>\n",
              "      <td>long</td>\n",
              "      <td>low-pitched</td>\n",
              "      <td>no</td>\n",
              "      <td>men</td>\n",
              "    </tr>\n",
              "    <tr>\n",
              "      <th>4</th>\n",
              "      <td>long</td>\n",
              "      <td>high-pitched</td>\n",
              "      <td>yes</td>\n",
              "      <td>women</td>\n",
              "    </tr>\n",
              "    <tr>\n",
              "      <th>...</th>\n",
              "      <td>...</td>\n",
              "      <td>...</td>\n",
              "      <td>...</td>\n",
              "      <td>...</td>\n",
              "    </tr>\n",
              "    <tr>\n",
              "      <th>2032</th>\n",
              "      <td>long</td>\n",
              "      <td>high-pitched</td>\n",
              "      <td>yes</td>\n",
              "      <td>women</td>\n",
              "    </tr>\n",
              "    <tr>\n",
              "      <th>2033</th>\n",
              "      <td>long</td>\n",
              "      <td>high-pitched</td>\n",
              "      <td>yes</td>\n",
              "      <td>women</td>\n",
              "    </tr>\n",
              "    <tr>\n",
              "      <th>2034</th>\n",
              "      <td>long</td>\n",
              "      <td>low-pitched</td>\n",
              "      <td>yes</td>\n",
              "      <td>women</td>\n",
              "    </tr>\n",
              "    <tr>\n",
              "      <th>2035</th>\n",
              "      <td>short</td>\n",
              "      <td>low-pitched</td>\n",
              "      <td>no</td>\n",
              "      <td>men</td>\n",
              "    </tr>\n",
              "    <tr>\n",
              "      <th>2036</th>\n",
              "      <td>long</td>\n",
              "      <td>high-pitched</td>\n",
              "      <td>yes</td>\n",
              "      <td>women</td>\n",
              "    </tr>\n",
              "  </tbody>\n",
              "</table>\n",
              "<p>2037 rows × 4 columns</p>\n",
              "</div>"
            ],
            "text/plain": [
              "     hair_style   sound_style has_earring  Class\n",
              "0         short   low-pitched         yes    men\n",
              "1          long  high-pitched         yes  women\n",
              "2          long   low-pitched         yes  women\n",
              "3          long   low-pitched          no    men\n",
              "4          long  high-pitched         yes  women\n",
              "...         ...           ...         ...    ...\n",
              "2032       long  high-pitched         yes  women\n",
              "2033       long  high-pitched         yes  women\n",
              "2034       long   low-pitched         yes  women\n",
              "2035      short   low-pitched          no    men\n",
              "2036       long  high-pitched         yes  women\n",
              "\n",
              "[2037 rows x 4 columns]"
            ]
          },
          "metadata": {
            "tags": []
          },
          "execution_count": 304
        }
      ]
    },
    {
      "cell_type": "code",
      "metadata": {
        "id": "ymJP7jUbteM-",
        "colab_type": "code",
        "colab": {
          "base_uri": "https://localhost:8080/",
          "height": 34
        },
        "outputId": "38e0c564-feac-4305-a15a-e40bceeafb08"
      },
      "source": [
        "Data.shape"
      ],
      "execution_count": 305,
      "outputs": [
        {
          "output_type": "execute_result",
          "data": {
            "text/plain": [
              "(2037, 4)"
            ]
          },
          "metadata": {
            "tags": []
          },
          "execution_count": 305
        }
      ]
    },
    {
      "cell_type": "code",
      "metadata": {
        "id": "-nIlUkRKtewh",
        "colab_type": "code",
        "colab": {}
      },
      "source": [
        "DataMatrix = Data.values\n",
        "D = DataMatrix.shape[1]-1\n",
        "X = DataMatrix[:,:D]\n",
        "Y = DataMatrix[:,D:]"
      ],
      "execution_count": 0,
      "outputs": []
    },
    {
      "cell_type": "code",
      "metadata": {
        "id": "J43ilFJHtiCX",
        "colab_type": "code",
        "colab": {}
      },
      "source": [
        "start_train = 0\n",
        "end_train = -150\n",
        "\n",
        "X_Train =  X[start_train:end_train,:]\n",
        "Y_Train =  Y[start_train:end_train,:]\n",
        "\n",
        "X_Test = X[end_train:, :]\n",
        "Y_Test = Y[end_train:, :]"
      ],
      "execution_count": 0,
      "outputs": []
    },
    {
      "cell_type": "code",
      "metadata": {
        "id": "RBhbiA4mtkeR",
        "colab_type": "code",
        "colab": {}
      },
      "source": [
        "Feature_name = np.array(Data.columns[:-1])\n",
        "Feature_Value = NB_find_Feature_Value(X_Train,Feature_name)\n",
        "All_Class, Count_All_Class = np.unique(Y_Train[:,:],return_counts=True)"
      ],
      "execution_count": 0,
      "outputs": []
    },
    {
      "cell_type": "code",
      "metadata": {
        "id": "0l4ZriH4tmas",
        "colab_type": "code",
        "colab": {}
      },
      "source": [
        "# Learning\n",
        "\n",
        "Count_Martix, Prob_Martix = NBDD_fit(X_Train,Y_Train,Feature_name,All_Class,Count_All_Class)"
      ],
      "execution_count": 0,
      "outputs": []
    },
    {
      "cell_type": "code",
      "metadata": {
        "id": "MkQ_ItcNuMuq",
        "colab_type": "code",
        "colab": {}
      },
      "source": [
        "# Predict\n",
        "\n",
        "Yhat_Test = NBDD_predict(X_Test, Prob_Martix, Feature_name, Feature_Value, All_Class, Count_All_Class, top=1)\n",
        "index = np.argwhere(Y_Test[:, 0] != Yhat_Test[:, 0]).ravel()"
      ],
      "execution_count": 0,
      "outputs": []
    },
    {
      "cell_type": "code",
      "metadata": {
        "id": "p-bROwayvCV_",
        "colab_type": "code",
        "colab": {
          "base_uri": "https://localhost:8080/",
          "height": 1000
        },
        "outputId": "baccbfac-4484-4377-efd7-98e72015b397"
      },
      "source": [
        "np.hstack([Y_Test[index], Yhat_Test[index]])"
      ],
      "execution_count": 311,
      "outputs": [
        {
          "output_type": "execute_result",
          "data": {
            "text/plain": [
              "array([['women', 'men'],\n",
              "       ['men', 'women'],\n",
              "       ['women', 'men'],\n",
              "       ['men', 'women'],\n",
              "       ['women', 'men'],\n",
              "       ['men', 'women'],\n",
              "       ['men', 'women'],\n",
              "       ['men', 'women'],\n",
              "       ['men', 'women'],\n",
              "       ['women', 'men'],\n",
              "       ['men', 'women'],\n",
              "       ['women', 'men'],\n",
              "       ['men', 'women'],\n",
              "       ['women', 'men'],\n",
              "       ['men', 'women'],\n",
              "       ['women', 'men'],\n",
              "       ['women', 'men'],\n",
              "       ['women', 'men'],\n",
              "       ['men', 'women'],\n",
              "       ['men', 'women'],\n",
              "       ['men', 'women'],\n",
              "       ['men', 'women'],\n",
              "       ['women', 'men'],\n",
              "       ['men', 'women'],\n",
              "       ['men', 'women'],\n",
              "       ['men', 'women'],\n",
              "       ['men', 'women'],\n",
              "       ['women', 'men'],\n",
              "       ['men', 'women'],\n",
              "       ['women', 'men'],\n",
              "       ['men', 'women'],\n",
              "       ['men', 'women'],\n",
              "       ['women', 'men'],\n",
              "       ['men', 'women'],\n",
              "       ['men', 'women'],\n",
              "       ['men', 'women'],\n",
              "       ['women', 'men'],\n",
              "       ['men', 'women'],\n",
              "       ['women', 'men'],\n",
              "       ['men', 'women'],\n",
              "       ['men', 'women'],\n",
              "       ['women', 'men'],\n",
              "       ['women', 'men'],\n",
              "       ['women', 'men'],\n",
              "       ['men', 'women'],\n",
              "       ['men', 'women'],\n",
              "       ['women', 'men'],\n",
              "       ['men', 'women'],\n",
              "       ['women', 'men'],\n",
              "       ['women', 'men'],\n",
              "       ['women', 'men'],\n",
              "       ['women', 'men'],\n",
              "       ['men', 'women'],\n",
              "       ['men', 'women'],\n",
              "       ['women', 'men'],\n",
              "       ['men', 'women'],\n",
              "       ['men', 'women'],\n",
              "       ['men', 'women'],\n",
              "       ['men', 'women'],\n",
              "       ['women', 'men'],\n",
              "       ['women', 'men'],\n",
              "       ['women', 'men'],\n",
              "       ['women', 'men'],\n",
              "       ['men', 'women'],\n",
              "       ['men', 'women'],\n",
              "       ['men', 'women'],\n",
              "       ['men', 'women'],\n",
              "       ['men', 'women'],\n",
              "       ['men', 'women'],\n",
              "       ['women', 'men'],\n",
              "       ['women', 'men'],\n",
              "       ['women', 'men'],\n",
              "       ['women', 'men'],\n",
              "       ['women', 'men'],\n",
              "       ['men', 'women'],\n",
              "       ['men', 'women'],\n",
              "       ['women', 'men'],\n",
              "       ['men', 'women'],\n",
              "       ['men', 'women'],\n",
              "       ['women', 'men'],\n",
              "       ['women', 'men'],\n",
              "       ['women', 'men'],\n",
              "       ['men', 'women'],\n",
              "       ['women', 'men'],\n",
              "       ['men', 'women'],\n",
              "       ['women', 'men'],\n",
              "       ['men', 'women'],\n",
              "       ['men', 'women'],\n",
              "       ['women', 'men'],\n",
              "       ['men', 'women'],\n",
              "       ['women', 'men'],\n",
              "       ['women', 'men'],\n",
              "       ['men', 'women'],\n",
              "       ['women', 'men'],\n",
              "       ['women', 'men'],\n",
              "       ['men', 'women'],\n",
              "       ['women', 'men'],\n",
              "       ['women', 'men'],\n",
              "       ['women', 'men'],\n",
              "       ['women', 'men'],\n",
              "       ['women', 'men'],\n",
              "       ['men', 'women'],\n",
              "       ['men', 'women'],\n",
              "       ['men', 'women'],\n",
              "       ['men', 'women'],\n",
              "       ['men', 'women'],\n",
              "       ['women', 'men'],\n",
              "       ['men', 'women'],\n",
              "       ['men', 'women'],\n",
              "       ['men', 'women'],\n",
              "       ['men', 'women'],\n",
              "       ['women', 'men'],\n",
              "       ['women', 'men'],\n",
              "       ['women', 'men'],\n",
              "       ['women', 'men'],\n",
              "       ['men', 'women'],\n",
              "       ['women', 'men'],\n",
              "       ['men', 'women'],\n",
              "       ['men', 'women'],\n",
              "       ['women', 'men'],\n",
              "       ['men', 'women'],\n",
              "       ['women', 'men'],\n",
              "       ['men', 'women'],\n",
              "       ['men', 'women'],\n",
              "       ['men', 'women'],\n",
              "       ['women', 'men'],\n",
              "       ['women', 'men'],\n",
              "       ['men', 'women'],\n",
              "       ['men', 'women'],\n",
              "       ['men', 'women'],\n",
              "       ['men', 'women'],\n",
              "       ['women', 'men'],\n",
              "       ['women', 'men'],\n",
              "       ['men', 'women'],\n",
              "       ['men', 'women'],\n",
              "       ['men', 'women'],\n",
              "       ['men', 'women'],\n",
              "       ['women', 'men'],\n",
              "       ['men', 'women'],\n",
              "       ['men', 'women'],\n",
              "       ['women', 'men'],\n",
              "       ['women', 'men'],\n",
              "       ['women', 'men'],\n",
              "       ['women', 'men'],\n",
              "       ['men', 'women'],\n",
              "       ['women', 'men']], dtype=object)"
            ]
          },
          "metadata": {
            "tags": []
          },
          "execution_count": 311
        }
      ]
    },
    {
      "cell_type": "code",
      "metadata": {
        "id": "nL5fEjePu67k",
        "colab_type": "code",
        "colab": {
          "base_uri": "https://localhost:8080/",
          "height": 1000
        },
        "outputId": "4056cce9-0dee-4df8-f8a3-b3c9b7a8198f"
      },
      "source": [
        "X_Test[index]"
      ],
      "execution_count": 312,
      "outputs": [
        {
          "output_type": "execute_result",
          "data": {
            "text/plain": [
              "array([['long', 'high-pitched', 'yes'],\n",
              "       ['short', 'low-pitched', 'no'],\n",
              "       ['long', 'high-pitched', 'yes'],\n",
              "       ['short', 'high-pitched', 'no'],\n",
              "       ['long', 'low-pitched', 'yes'],\n",
              "       ['short', 'low-pitched', 'no'],\n",
              "       ['short', 'low-pitched', 'no'],\n",
              "       ['short', 'low-pitched', 'no'],\n",
              "       ['short', 'low-pitched', 'no'],\n",
              "       ['short', 'high-pitched', 'yes'],\n",
              "       ['short', 'low-pitched', 'yes'],\n",
              "       ['long', 'high-pitched', 'yes'],\n",
              "       ['short', 'low-pitched', 'yes'],\n",
              "       ['long', 'low-pitched', 'yes'],\n",
              "       ['short', 'low-pitched', 'yes'],\n",
              "       ['short', 'high-pitched', 'yes'],\n",
              "       ['long', 'high-pitched', 'yes'],\n",
              "       ['short', 'high-pitched', 'yes'],\n",
              "       ['short', 'low-pitched', 'no'],\n",
              "       ['short', 'high-pitched', 'no'],\n",
              "       ['short', 'low-pitched', 'yes'],\n",
              "       ['short', 'low-pitched', 'no'],\n",
              "       ['short', 'high-pitched', 'yes'],\n",
              "       ['short', 'high-pitched', 'no'],\n",
              "       ['short', 'low-pitched', 'no'],\n",
              "       ['short', 'low-pitched', 'no'],\n",
              "       ['short', 'low-pitched', 'no'],\n",
              "       ['long', 'high-pitched', 'yes'],\n",
              "       ['short', 'low-pitched', 'no'],\n",
              "       ['long', 'low-pitched', 'yes'],\n",
              "       ['short', 'low-pitched', 'no'],\n",
              "       ['short', 'low-pitched', 'no'],\n",
              "       ['long', 'high-pitched', 'yes'],\n",
              "       ['short', 'low-pitched', 'no'],\n",
              "       ['short', 'low-pitched', 'no'],\n",
              "       ['short', 'low-pitched', 'no'],\n",
              "       ['long', 'high-pitched', 'yes'],\n",
              "       ['short', 'low-pitched', 'yes'],\n",
              "       ['long', 'high-pitched', 'yes'],\n",
              "       ['short', 'low-pitched', 'no'],\n",
              "       ['short', 'low-pitched', 'no'],\n",
              "       ['long', 'high-pitched', 'yes'],\n",
              "       ['long', 'low-pitched', 'yes'],\n",
              "       ['long', 'high-pitched', 'yes'],\n",
              "       ['short', 'low-pitched', 'no'],\n",
              "       ['short', 'low-pitched', 'yes'],\n",
              "       ['long', 'high-pitched', 'yes'],\n",
              "       ['short', 'low-pitched', 'no'],\n",
              "       ['long', 'high-pitched', 'yes'],\n",
              "       ['long', 'high-pitched', 'yes'],\n",
              "       ['long', 'high-pitched', 'yes'],\n",
              "       ['short', 'high-pitched', 'yes'],\n",
              "       ['short', 'low-pitched', 'no'],\n",
              "       ['short', 'low-pitched', 'no'],\n",
              "       ['long', 'high-pitched', 'yes'],\n",
              "       ['short', 'low-pitched', 'no'],\n",
              "       ['short', 'low-pitched', 'no'],\n",
              "       ['short', 'low-pitched', 'no'],\n",
              "       ['short', 'low-pitched', 'no'],\n",
              "       ['long', 'high-pitched', 'yes'],\n",
              "       ['long', 'high-pitched', 'yes'],\n",
              "       ['long', 'high-pitched', 'yes'],\n",
              "       ['short', 'high-pitched', 'yes'],\n",
              "       ['short', 'low-pitched', 'no'],\n",
              "       ['short', 'low-pitched', 'no'],\n",
              "       ['short', 'low-pitched', 'no'],\n",
              "       ['short', 'low-pitched', 'no'],\n",
              "       ['short', 'low-pitched', 'no'],\n",
              "       ['short', 'low-pitched', 'no'],\n",
              "       ['long', 'high-pitched', 'yes'],\n",
              "       ['long', 'high-pitched', 'yes'],\n",
              "       ['long', 'high-pitched', 'yes'],\n",
              "       ['long', 'high-pitched', 'yes'],\n",
              "       ['long', 'low-pitched', 'yes'],\n",
              "       ['short', 'low-pitched', 'no'],\n",
              "       ['short', 'low-pitched', 'no'],\n",
              "       ['long', 'high-pitched', 'yes'],\n",
              "       ['short', 'low-pitched', 'no'],\n",
              "       ['short', 'low-pitched', 'no'],\n",
              "       ['long', 'high-pitched', 'yes'],\n",
              "       ['long', 'high-pitched', 'yes'],\n",
              "       ['long', 'low-pitched', 'yes'],\n",
              "       ['short', 'high-pitched', 'no'],\n",
              "       ['long', 'high-pitched', 'yes'],\n",
              "       ['short', 'low-pitched', 'no'],\n",
              "       ['long', 'high-pitched', 'yes'],\n",
              "       ['short', 'low-pitched', 'no'],\n",
              "       ['short', 'low-pitched', 'no'],\n",
              "       ['long', 'low-pitched', 'yes'],\n",
              "       ['short', 'low-pitched', 'no'],\n",
              "       ['long', 'high-pitched', 'yes'],\n",
              "       ['long', 'high-pitched', 'yes'],\n",
              "       ['short', 'low-pitched', 'yes'],\n",
              "       ['short', 'high-pitched', 'yes'],\n",
              "       ['long', 'high-pitched', 'yes'],\n",
              "       ['short', 'low-pitched', 'no'],\n",
              "       ['long', 'low-pitched', 'yes'],\n",
              "       ['long', 'high-pitched', 'yes'],\n",
              "       ['long', 'high-pitched', 'yes'],\n",
              "       ['long', 'high-pitched', 'yes'],\n",
              "       ['long', 'high-pitched', 'yes'],\n",
              "       ['short', 'low-pitched', 'no'],\n",
              "       ['long', 'low-pitched', 'no'],\n",
              "       ['short', 'low-pitched', 'yes'],\n",
              "       ['short', 'low-pitched', 'no'],\n",
              "       ['short', 'low-pitched', 'no'],\n",
              "       ['long', 'high-pitched', 'yes'],\n",
              "       ['short', 'low-pitched', 'no'],\n",
              "       ['short', 'low-pitched', 'no'],\n",
              "       ['short', 'low-pitched', 'no'],\n",
              "       ['short', 'low-pitched', 'no'],\n",
              "       ['short', 'high-pitched', 'yes'],\n",
              "       ['long', 'high-pitched', 'yes'],\n",
              "       ['long', 'high-pitched', 'yes'],\n",
              "       ['long', 'high-pitched', 'yes'],\n",
              "       ['short', 'low-pitched', 'no'],\n",
              "       ['long', 'high-pitched', 'yes'],\n",
              "       ['short', 'low-pitched', 'no'],\n",
              "       ['short', 'low-pitched', 'no'],\n",
              "       ['long', 'high-pitched', 'yes'],\n",
              "       ['short', 'low-pitched', 'no'],\n",
              "       ['long', 'high-pitched', 'yes'],\n",
              "       ['short', 'low-pitched', 'yes'],\n",
              "       ['short', 'low-pitched', 'no'],\n",
              "       ['short', 'low-pitched', 'no'],\n",
              "       ['short', 'high-pitched', 'yes'],\n",
              "       ['long', 'high-pitched', 'yes'],\n",
              "       ['short', 'low-pitched', 'no'],\n",
              "       ['short', 'low-pitched', 'yes'],\n",
              "       ['short', 'low-pitched', 'no'],\n",
              "       ['long', 'low-pitched', 'no'],\n",
              "       ['long', 'high-pitched', 'no'],\n",
              "       ['short', 'high-pitched', 'yes'],\n",
              "       ['short', 'low-pitched', 'yes'],\n",
              "       ['short', 'low-pitched', 'yes'],\n",
              "       ['short', 'low-pitched', 'no'],\n",
              "       ['short', 'low-pitched', 'no'],\n",
              "       ['long', 'high-pitched', 'yes'],\n",
              "       ['short', 'low-pitched', 'no'],\n",
              "       ['short', 'low-pitched', 'no'],\n",
              "       ['long', 'high-pitched', 'yes'],\n",
              "       ['long', 'high-pitched', 'yes'],\n",
              "       ['long', 'high-pitched', 'yes'],\n",
              "       ['long', 'low-pitched', 'yes'],\n",
              "       ['short', 'low-pitched', 'no'],\n",
              "       ['long', 'high-pitched', 'yes']], dtype=object)"
            ]
          },
          "metadata": {
            "tags": []
          },
          "execution_count": 312
        }
      ]
    },
    {
      "cell_type": "code",
      "metadata": {
        "id": "lEcMpSZ1vF5Z",
        "colab_type": "code",
        "colab": {
          "base_uri": "https://localhost:8080/",
          "height": 1000
        },
        "outputId": "84cbbc0e-5518-4a4e-cc00-1753fc97c774"
      },
      "source": [
        "np.hstack([Y_Test, Yhat_Test])"
      ],
      "execution_count": 313,
      "outputs": [
        {
          "output_type": "execute_result",
          "data": {
            "text/plain": [
              "array([['women', 'men'],\n",
              "       ['men', 'women'],\n",
              "       ['women', 'men'],\n",
              "       ['men', 'women'],\n",
              "       ['women', 'men'],\n",
              "       ['men', 'women'],\n",
              "       ['men', 'women'],\n",
              "       ['men', 'women'],\n",
              "       ['men', 'women'],\n",
              "       ['women', 'men'],\n",
              "       ['men', 'women'],\n",
              "       ['women', 'men'],\n",
              "       ['men', 'women'],\n",
              "       ['women', 'men'],\n",
              "       ['men', 'women'],\n",
              "       ['women', 'men'],\n",
              "       ['women', 'men'],\n",
              "       ['women', 'men'],\n",
              "       ['men', 'women'],\n",
              "       ['men', 'women'],\n",
              "       ['men', 'women'],\n",
              "       ['men', 'women'],\n",
              "       ['women', 'men'],\n",
              "       ['men', 'women'],\n",
              "       ['men', 'women'],\n",
              "       ['men', 'women'],\n",
              "       ['men', 'women'],\n",
              "       ['women', 'men'],\n",
              "       ['men', 'women'],\n",
              "       ['women', 'men'],\n",
              "       ['men', 'women'],\n",
              "       ['men', 'women'],\n",
              "       ['women', 'men'],\n",
              "       ['men', 'women'],\n",
              "       ['men', 'women'],\n",
              "       ['men', 'women'],\n",
              "       ['women', 'men'],\n",
              "       ['men', 'women'],\n",
              "       ['women', 'men'],\n",
              "       ['men', 'women'],\n",
              "       ['men', 'women'],\n",
              "       ['women', 'men'],\n",
              "       ['women', 'men'],\n",
              "       ['women', 'men'],\n",
              "       ['men', 'women'],\n",
              "       ['men', 'women'],\n",
              "       ['women', 'men'],\n",
              "       ['men', 'women'],\n",
              "       ['women', 'men'],\n",
              "       ['women', 'men'],\n",
              "       ['men', 'men'],\n",
              "       ['women', 'men'],\n",
              "       ['women', 'men'],\n",
              "       ['men', 'women'],\n",
              "       ['men', 'women'],\n",
              "       ['women', 'men'],\n",
              "       ['men', 'women'],\n",
              "       ['men', 'women'],\n",
              "       ['men', 'women'],\n",
              "       ['men', 'women'],\n",
              "       ['women', 'men'],\n",
              "       ['women', 'men'],\n",
              "       ['women', 'men'],\n",
              "       ['women', 'men'],\n",
              "       ['men', 'women'],\n",
              "       ['men', 'women'],\n",
              "       ['men', 'women'],\n",
              "       ['men', 'women'],\n",
              "       ['men', 'women'],\n",
              "       ['men', 'women'],\n",
              "       ['women', 'men'],\n",
              "       ['women', 'men'],\n",
              "       ['women', 'men'],\n",
              "       ['women', 'men'],\n",
              "       ['women', 'men'],\n",
              "       ['men', 'women'],\n",
              "       ['men', 'women'],\n",
              "       ['women', 'men'],\n",
              "       ['men', 'women'],\n",
              "       ['men', 'women'],\n",
              "       ['women', 'men'],\n",
              "       ['women', 'men'],\n",
              "       ['women', 'men'],\n",
              "       ['men', 'women'],\n",
              "       ['women', 'men'],\n",
              "       ['men', 'women'],\n",
              "       ['women', 'men'],\n",
              "       ['men', 'women'],\n",
              "       ['men', 'women'],\n",
              "       ['women', 'men'],\n",
              "       ['men', 'women'],\n",
              "       ['women', 'men'],\n",
              "       ['women', 'men'],\n",
              "       ['men', 'women'],\n",
              "       ['women', 'men'],\n",
              "       ['women', 'men'],\n",
              "       ['men', 'women'],\n",
              "       ['women', 'men'],\n",
              "       ['women', 'men'],\n",
              "       ['women', 'men'],\n",
              "       ['women', 'men'],\n",
              "       ['women', 'men'],\n",
              "       ['men', 'women'],\n",
              "       ['men', 'women'],\n",
              "       ['men', 'women'],\n",
              "       ['men', 'women'],\n",
              "       ['women', 'women'],\n",
              "       ['men', 'women'],\n",
              "       ['women', 'men'],\n",
              "       ['men', 'women'],\n",
              "       ['men', 'women'],\n",
              "       ['men', 'women'],\n",
              "       ['men', 'women'],\n",
              "       ['women', 'men'],\n",
              "       ['women', 'men'],\n",
              "       ['women', 'men'],\n",
              "       ['women', 'men'],\n",
              "       ['men', 'women'],\n",
              "       ['women', 'men'],\n",
              "       ['men', 'women'],\n",
              "       ['women', 'women'],\n",
              "       ['men', 'women'],\n",
              "       ['women', 'men'],\n",
              "       ['men', 'women'],\n",
              "       ['women', 'men'],\n",
              "       ['women', 'women'],\n",
              "       ['men', 'women'],\n",
              "       ['men', 'women'],\n",
              "       ['men', 'women'],\n",
              "       ['women', 'men'],\n",
              "       ['women', 'men'],\n",
              "       ['men', 'women'],\n",
              "       ['men', 'women'],\n",
              "       ['men', 'women'],\n",
              "       ['men', 'women'],\n",
              "       ['women', 'men'],\n",
              "       ['women', 'men'],\n",
              "       ['men', 'women'],\n",
              "       ['men', 'women'],\n",
              "       ['men', 'women'],\n",
              "       ['men', 'women'],\n",
              "       ['women', 'men'],\n",
              "       ['men', 'women'],\n",
              "       ['men', 'women'],\n",
              "       ['women', 'men'],\n",
              "       ['women', 'men'],\n",
              "       ['women', 'men'],\n",
              "       ['women', 'men'],\n",
              "       ['men', 'women'],\n",
              "       ['women', 'men']], dtype=object)"
            ]
          },
          "metadata": {
            "tags": []
          },
          "execution_count": 313
        }
      ]
    },
    {
      "cell_type": "code",
      "metadata": {
        "id": "vdmmI5IGt10R",
        "colab_type": "code",
        "colab": {
          "base_uri": "https://localhost:8080/",
          "height": 34
        },
        "outputId": "4b79cf42-7c26-4c5d-e384-ffba1aee358e"
      },
      "source": [
        "error = find_error_classification(Y_Test, Yhat_Test)\n",
        "print(error)"
      ],
      "execution_count": 314,
      "outputs": [
        {
          "output_type": "stream",
          "text": [
            "97.33333333333333\n"
          ],
          "name": "stdout"
        }
      ]
    },
    {
      "cell_type": "markdown",
      "metadata": {
        "id": "V4Tq5OYTvbXc",
        "colab_type": "text"
      },
      "source": [
        "- Example III Lotto"
      ]
    },
    {
      "cell_type": "code",
      "metadata": {
        "id": "NbQIOIGquE3N",
        "colab_type": "code",
        "colab": {
          "resources": {
            "http://localhost:8080/nbextensions/google.colab/files.js": {
              "data": "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",
              "ok": true,
              "headers": [
                [
                  "content-type",
                  "application/javascript"
                ]
              ],
              "status": 200,
              "status_text": ""
            }
          },
          "base_uri": "https://localhost:8080/",
          "height": 71
        },
        "outputId": "a820fa16-cc67-4952-a67c-78ec407954f6"
      },
      "source": [
        "# Prepare data\n",
        "\n",
        "uploaded = files.upload()"
      ],
      "execution_count": 250,
      "outputs": [
        {
          "output_type": "display_data",
          "data": {
            "text/html": [
              "\n",
              "     <input type=\"file\" id=\"files-efa89e70-1b38-4998-8cef-86c952323dd6\" name=\"files[]\" multiple disabled />\n",
              "     <output id=\"result-efa89e70-1b38-4998-8cef-86c952323dd6\">\n",
              "      Upload widget is only available when the cell has been executed in the\n",
              "      current browser session. Please rerun this cell to enable.\n",
              "      </output>\n",
              "      <script src=\"/nbextensions/google.colab/files.js\"></script> "
            ],
            "text/plain": [
              "<IPython.core.display.HTML object>"
            ]
          },
          "metadata": {
            "tags": []
          }
        },
        {
          "output_type": "stream",
          "text": [
            "Saving Lotto_Dataset.xlsx to Lotto_Dataset.xlsx\n"
          ],
          "name": "stdout"
        }
      ]
    },
    {
      "cell_type": "code",
      "metadata": {
        "id": "VLlZQdacwkNO",
        "colab_type": "code",
        "colab": {}
      },
      "source": [
        "Feature_DF = pd.read_excel('Lotto_Dataset.xlsx', usecols = 'D:G')\n",
        "\n",
        "Up100_DF = pd.read_excel('Lotto_Dataset.xlsx', usecols = 'H')\n",
        "Up10_DF = pd.read_excel('Lotto_Dataset.xlsx', usecols = 'I')\n",
        "Up1_DF = pd.read_excel('Lotto_Dataset.xlsx', usecols = 'J')"
      ],
      "execution_count": 0,
      "outputs": []
    },
    {
      "cell_type": "code",
      "metadata": {
        "id": "wl3HpPmiwilG",
        "colab_type": "code",
        "colab": {}
      },
      "source": [
        "Feature = Feature_DF.values\n",
        "\n",
        "Up100 = Up100_DF.values\n",
        "Up10 = Up10_DF.values\n",
        "Up1 = Up1_DF.values"
      ],
      "execution_count": 0,
      "outputs": []
    },
    {
      "cell_type": "code",
      "metadata": {
        "id": "6FGl0lz5wmKY",
        "colab_type": "code",
        "colab": {}
      },
      "source": [
        "start_train = 0\n",
        "end_train = -100\n",
        "\n",
        "Feature_Train = Feature[:end_train, :]\n",
        "Up100_Train = Up100[:end_train, :]\n",
        "Up10_Train = Up10[:end_train, :]\n",
        "Up1_Train = Up1[:end_train, :]\n",
        "\n",
        "Feature_Test = Feature[end_train:, :]\n",
        "Up100_Test = Up100[end_train:, :]\n",
        "Up10_Test = Up10[end_train:, :]\n",
        "Up1_Test = Up1[end_train:, :]"
      ],
      "execution_count": 0,
      "outputs": []
    },
    {
      "cell_type": "code",
      "metadata": {
        "id": "Hro57ugOwrgH",
        "colab_type": "code",
        "colab": {}
      },
      "source": [
        "Feature_Name = np.array(Feature_DF.columns[:])\n",
        "Feature_Value = NB_find_Feature_Value(Feature_Train, Feature_Name)\n",
        "All_Class, Count_All_Class = np.unique(Up100_Train[:, :], return_counts = True)\n"
      ],
      "execution_count": 0,
      "outputs": []
    },
    {
      "cell_type": "code",
      "metadata": {
        "id": "2H0bDiDVwy1N",
        "colab_type": "code",
        "colab": {}
      },
      "source": [
        "# Learning\n",
        "\n",
        "Count_Matrix_Up100, Prob_Matrix_Up100 = NBDD_fit(Feature_Train, Up100_Train, Feature_Name, All_Class, Count_All_Class)\n",
        "Count_Matrix_Up100, Prob_Matrix_Up100 = NBDD_fit(Feature_Train, Up100_Train, Feature_Name, All_Class, Count_All_Class)\n",
        "Count_Matrix_Up1, Prob_Matrix_Up1 = NBDD_fit(Feature_Train, Up1_Train, Feature_Name, All_Class, Count_All_Class)"
      ],
      "execution_count": 0,
      "outputs": []
    },
    {
      "cell_type": "code",
      "metadata": {
        "id": "BumttiDuwz0z",
        "colab_type": "code",
        "colab": {}
      },
      "source": [
        "Feature_Test = np.array([['Friday', -1, 'Ninth', 'Pig']], dtype='object')"
      ],
      "execution_count": 0,
      "outputs": []
    },
    {
      "cell_type": "code",
      "metadata": {
        "id": "b8DSRGryw17g",
        "colab_type": "code",
        "colab": {
          "base_uri": "https://localhost:8080/",
          "height": 34
        },
        "outputId": "075f2ddb-bc84-4d71-c0d1-e080e6decf73"
      },
      "source": [
        "Feature_Test"
      ],
      "execution_count": 266,
      "outputs": [
        {
          "output_type": "execute_result",
          "data": {
            "text/plain": [
              "array([['Friday', -1, 'Ninth', 'Pig']], dtype=object)"
            ]
          },
          "metadata": {
            "tags": []
          },
          "execution_count": 266
        }
      ]
    },
    {
      "cell_type": "code",
      "metadata": {
        "id": "-_mYKrVRxW50",
        "colab_type": "code",
        "colab": {}
      },
      "source": [
        "Up10hat_Test = NBDD_predict(Feature_Test, Prob_Matrix_Up10, Feature_Name, Feature_Value, All_Class, Count_All_Class, top=5)\n",
        "Up1hat_Test = NBDD_predict(Feature_Test, Prob_Matrix_Up1, Feature_Name, Feature_Value, All_Class, Count_All_Class, top=5)"
      ],
      "execution_count": 0,
      "outputs": []
    },
    {
      "cell_type": "code",
      "metadata": {
        "id": "iMAFGrH5z0WF",
        "colab_type": "code",
        "colab": {
          "base_uri": "https://localhost:8080/",
          "height": 51
        },
        "outputId": "2378203d-ff38-4413-d6bc-0de5e6572398"
      },
      "source": [
        "print(Up10hat_Test)\n",
        "print(Up1hat_Test)"
      ],
      "execution_count": 268,
      "outputs": [
        {
          "output_type": "stream",
          "text": [
            "[[5 9 1 6 2]]\n",
            "[[7 6 1 8 2]]\n"
          ],
          "name": "stdout"
        }
      ]
    },
    {
      "cell_type": "code",
      "metadata": {
        "id": "kdgmy3Byz270",
        "colab_type": "code",
        "colab": {}
      },
      "source": [
        ""
      ],
      "execution_count": 0,
      "outputs": []
    }
  ]
}